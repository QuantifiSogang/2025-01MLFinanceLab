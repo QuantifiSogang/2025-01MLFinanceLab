{
 "cells": [
  {
   "metadata": {},
   "cell_type": "markdown",
   "source": [
    "## Pairs Trading\n",
    "\n",
    "Pairs Trading은 두 자산 간의 상대적인 가격 움직임을 이용하여 시장의 방향성과 무관하게 수익을 창출하는 시장 중립 전략(Market Neutral Strategy)이다. 두 자산이 장기적으로 평균회귀(Mean-Reverting) 특성을 가진다고 가정하고, 스프레드(spread)가 일정 수준 이상으로 벌어지면 차익 거래를 수행한다."
   ],
   "id": "a2cfba5d91e019c8"
  },
  {
   "metadata": {},
   "cell_type": "markdown",
   "source": [
    "### Spread and Mean Reversion\n",
    "\n",
    "두 개의 자산 $X_t$와 $Y_t$가 존재할 때, 이들의 선형 조합이 평균회귀성을 가지는 경우에 페어 트레이딩이 가능하다. 일반적으로 스프레드는 다음과 같이 정의된다.\n",
    "\n",
    "$$S_t = Y_t - \\beta X_t$$\n",
    "\n",
    "여기서 $\\beta$는 헤지 비율(Hedge Ratio) 로서, 두 자산 간의 균형 관계를 나타낸다. 만약 $S_t$가 공적분(Cointegration) 관계를 만족한다면, 이 스프레드는 정상성(Stationarity)을 갖고 평균으로 회귀하는 성질을 가진다."
   ],
   "id": "355441979762c6ef"
  },
  {
   "cell_type": "code",
   "execution_count": null,
   "id": "initial_id",
   "metadata": {
    "collapsed": true
   },
   "outputs": [],
   "source": [
    ""
   ]
  },
  {
   "metadata": {},
   "cell_type": "markdown",
   "source": [
    "### 공적분 관계를 만족할 조건\n",
    "\n",
    "1. $X_t \\sim I(1)$과 $Y_t \\sim I(1)$이고 (즉, 각각 비정상성(Non-Stationary)을 가진다)\n",
    "2. 특정 선형 결합 $S_t = Y_t - \\beta X_t$가 정상성을 가지면 $X_t$와 $Y_t$는 공적분 관계에 있다.\n",
    "\n",
    "이 경우 $S_t$는 Ornstein-Uhlenbeck(O-U) 과정으로 모델링될 수 있다\n",
    "\n",
    "$$dS_t = \\theta (\\mu - S_t)dt + \\sigma dW_t$$\n",
    "\n",
    "여기서 $\\theta$는 평균회귀 속도 (Mean-Reverting Speed), $\\mu$는 장기평균이며,  $\\sigma$는 변동성, $W_t$는 Wiener 과정(Standard Brownian Motion)을 의미한다."
   ],
   "id": "8b0b47b7cbd8f050"
  },
  {
   "metadata": {},
   "cell_type": "code",
   "outputs": [],
   "execution_count": null,
   "source": "",
   "id": "ed19f944ac11d33c"
  },
  {
   "metadata": {},
   "cell_type": "markdown",
   "source": [
    "### Estimate Hedge Ratio $(\\beta)$\n",
    "\n",
    "헤지 비율 $\\beta$는 회귀분석을 통해 추정할 수 있다. 대표적인 방법으로는 최소제곱법(OLS, Ordinary Least Squares) 을 이용한 선형 회귀가 있다\n",
    "\n",
    "$$Y_t = \\alpha + \\beta X_t + \\varepsilon_t$$\n",
    "\n",
    "회귀 분석 결과로 $\\beta$를 추정한 후, 스프레드 $S_t$를 계산한다."
   ],
   "id": "8bde53cf9de427ec"
  },
  {
   "metadata": {},
   "cell_type": "code",
   "outputs": [],
   "execution_count": null,
   "source": "",
   "id": "b78d16ad2bdfa9f0"
  },
  {
   "metadata": {},
   "cell_type": "markdown",
   "source": [
    "### Trading Signal\n",
    "\n",
    "스프레드 $S_t$가 정상성을 갖는다면, 평균회귀 특성을 이용하여 트레이딩을 수행한다. 다음과 같이 Z-score 를 계산하여 매매 시그널을 설정한다.\n",
    "\n",
    "$$Z_t = \\frac{S_t - \\mu_S}{\\sigma_S}$$\n",
    "\n",
    "$\\mu_S$는 스프레드의 이동평균고, $\\sigma_S$는 스프레드의 이동표준편차이다."
   ],
   "id": "c8412be835f2da0f"
  },
  {
   "metadata": {},
   "cell_type": "code",
   "outputs": [],
   "execution_count": null,
   "source": "",
   "id": "28bedc9aeb0233a8"
  },
  {
   "metadata": {},
   "cell_type": "markdown",
   "source": [
    "### Conclusion\n",
    "\n",
    "Pairs Trading은 두 자산 간의 공적분 관계를 이용한 평균회귀 전략으로, 시장의 방향성과 관계없이 수익을 창출할 수 있는 강력한 전략이다. 그러나 자산 간의 공적분 관계가 지속적으로 유지되는지 검증해야 하며, 변동하는 시장 환경에 대응하기 위해 다이내믹 헤지 비율과 리스크 관리 기법을 병행해야 한다."
   ],
   "id": "b246e9bb352bae1e"
  }
 ],
 "metadata": {
  "kernelspec": {
   "display_name": "Python 3",
   "language": "python",
   "name": "python3"
  },
  "language_info": {
   "codemirror_mode": {
    "name": "ipython",
    "version": 2
   },
   "file_extension": ".py",
   "mimetype": "text/x-python",
   "name": "python",
   "nbconvert_exporter": "python",
   "pygments_lexer": "ipython2",
   "version": "2.7.6"
  }
 },
 "nbformat": 4,
 "nbformat_minor": 5
}

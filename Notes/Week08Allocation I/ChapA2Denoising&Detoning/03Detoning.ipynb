{
 "cells": [
  {
   "metadata": {},
   "cell_type": "markdown",
   "source": [
    "### Detoning\n",
    "\n",
    "금융 상관 행렬은 일반적으로 시장 요소를 포함한다. 시장 구성 요소는 로딩 $W_{n,1} \\approx N^{\\frac{1}{2}}, n=1,\\dots, N$를 가진 첫 번째 고유 벡터로 특징된다. 따라서 시장 요소는 공분산 행렬의 모든 항목에 영향을 미친다\n",
    "\n",
    "군집화 알고리즘 응용의 맥락에서 경우 시장 요소는 제거하는 것이 유용하다. 알고리즘이 군집 간 차이를 찾고자할 것이므로, 강력한 시장 구성 요소를 가진 상관 행렬을 군집화하는 것이 더 어렵기 때문이다\n",
    "\n",
    "시장 요소를 제거하여 그 상관관계의 더 많은 부분을 유가증권의 특정 부분집합에 영향을미치는 요소들에 의해 설명될 수 있도록 한다. 잡음이 제거된 상관행렬 $C_1$에서 시장 요소를 제거해 주음 제거된 상관 행렬을 형성할 수 있다\n",
    "\n",
    "$$\n",
    "\\tilde C_2 = C_1 - W_M \\Lambda_M W_M^\\prime = W_D \\Lambda_D W_D^\\prime\n",
    "$$\n",
    "\n",
    "$$\n",
    "C_2 = \\tilde C_2 \\left[ \n",
    "\\left( \\mathrm{diag}[\\tilde C_2] ^{\\frac{1}{2}}\\right)\n",
    "\\left( \\mathrm{diag}[\\tilde C_2] ^{\\frac{1}{2}}^\\prime\\right)\n",
    "\\right]\n",
    "$$\n",
    "\n",
    "여기서 $W_M$과 $\\Lambda_M$은 시장 요소와 관련된 고유 벡터 및 고유값이고, $W_D$와 $W\\Lambda_D$는 비시장 요소와 관련된 고유 벡터 및 고유값이다. 주음 제거된 상관 행렬은 최소 1개의 고유 벡터를 제거한 결과로 특이 행렬이다\n",
    "\n",
    "평균-분산 포트폴리오 최적화에 주음이 제거된 상관 행렬 $C_2$는 직접 사용할 수 없다. 대신에 선택된 주성분을 기반으로 포트폴리오를 최적화하고, 최적 배분 $f^*$를 원래 기저로 매핑할 수 있다. 원래 기저에서의 최적 배분은 다음과 같다\n",
    "\n",
    "$$\\omega ^* = W_+f^*$$\n",
    "\n",
    "여기서 $W_+$는 주음 제거 프로세스에서 살아남은 고유 벡터만을 포함하며, $f^*$는 동일한 성분에 대한 최적 배분 벡터이다\n",
    "\n"
   ],
   "id": "ec0e03599f319b11"
  },
  {
   "cell_type": "code",
   "execution_count": null,
   "id": "initial_id",
   "metadata": {
    "collapsed": true
   },
   "outputs": [],
   "source": [
    ""
   ]
  }
 ],
 "metadata": {
  "kernelspec": {
   "display_name": "Python 3",
   "language": "python",
   "name": "python3"
  },
  "language_info": {
   "codemirror_mode": {
    "name": "ipython",
    "version": 2
   },
   "file_extension": ".py",
   "mimetype": "text/x-python",
   "name": "python",
   "nbconvert_exporter": "python",
   "pygments_lexer": "ipython2",
   "version": "2.7.6"
  }
 },
 "nbformat": 4,
 "nbformat_minor": 5
}

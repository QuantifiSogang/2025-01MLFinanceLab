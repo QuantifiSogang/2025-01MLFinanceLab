{
 "cells": [
  {
   "metadata": {},
   "cell_type": "markdown",
   "source": [
    "### Denoising\n",
    "\n",
    "empirical finance에서 대부분의 경우 공분산을 축소하여 사용하는 것이 일반적이다. 그러나 차원의 축소는 잡음 뿐만 아니라 신호 또한 구분하지 않고 조건의 수를 감소시킨다. 안그래도 약한 신호를 축소를 통해 더욱 약하게 만들 수도 있다\n",
    "\n",
    "이번 절에서는 상관 행렬의 잡음 제거에 이 정보를 사용하는 방법에 대해 논한다"
   ],
   "id": "87f1ddf196554663"
  },
  {
   "metadata": {},
   "cell_type": "code",
   "outputs": [],
   "execution_count": null,
   "source": "",
   "id": "ca688e4a096a271c"
  },
  {
   "metadata": {},
   "cell_type": "markdown",
   "source": [
    "#### 1. Constant Residual Eigenvalue Method\n",
    "\n",
    "이 접근 방식은 모든 랜덤 고유 벡터에 대해 상수 고유값을 설정하는데에 있다. $\\{\\lambda_n\\}_{n=1, \\dots, N}$은 모든 고유값의 집합이며, 내림차순이며, $i$는 $\\lambda_i > \\lambda_+$와 $\\lambda_{i+1} \\leq \\lambda_+$가 되는 고유값의 위치가 된다. 그런 다음 $\\lambda_j = \\frac{1}{N-i} \\sum_{k = i+1}^N \\lambda_k, j = i+1, \\dots, N$을 설정해 상관 행렬의 대각합을 보존한다. 고유 벡터 분해 $VW = W\\Lambda$가 주어질 때 다음과 같이 잡음이 제거된 상관행렬 $C_1$을 형성한다\n",
    "\n",
    "$$\\tilde C_1 = W \\tilde\\Lambda W^\\prime$$\n",
    "$$C_1 = \\tilde C_1\\Big[ \\big(\\mbox{diag}[\\tilde C_1]\\big)^\\frac{1}{2}\n",
    "\\big(\\mbox{diag}[\\tilde C_1]\\big)^{\\frac{1}{2} \\prime}\\Big]^{-1}$$\n",
    "\n",
    "상수 잔차 고유값을 이용한 잡음 제거"
   ],
   "id": "af627777ebadd34c"
  },
  {
   "cell_type": "code",
   "execution_count": null,
   "id": "initial_id",
   "metadata": {
    "collapsed": true
   },
   "outputs": [],
   "source": [
    ""
   ]
  },
  {
   "metadata": {},
   "cell_type": "markdown",
   "source": [
    "#### 2. Targeted Shrinkage\n",
    "\n",
    "1에서 설명한 수치적 방법은 신호를 보존하면서 잡음을 제거하기 때문에 축소보다는 선호된다. 대안적으로 랜덤 고유 벡터에 대해 엄격한 축소 적용을 목표로 할 수도 있다. 다음의 상관 행렬 $C_1$을 고려하자\n",
    "\n",
    "$$C_1 = W_L\\Lambda_L W_L^\\prime + \\alpha W_R \\Lambda_R W_R^\\prime + (1-\\alpha) \\mbox{diag}\n",
    "[W_R \\Lambda_R W_R^\\prime]$$\n",
    "\n",
    "여기서 $W_R$과 $\\Lambda_R$은 $\\{n|\\lambda_n \\leq \\lambda_+\\}$와 관련된 고유 벡터와 고유값이고, $W_L$과 $\\Lambda_L$은 $\\{n|\\lambda_n > \\lambda_+\\}$와 관련된 고유 벡터와 고유값이며, $\\alpha$는 잡음과 관련된 고유 벡터와 고유값 사이의 축소량을 조절한다"
   ],
   "id": "e5e270eca2333185"
  },
  {
   "metadata": {},
   "cell_type": "code",
   "outputs": [],
   "execution_count": null,
   "source": "",
   "id": "c210f3a6fa5ce0d5"
  }
 ],
 "metadata": {
  "kernelspec": {
   "display_name": "Python 3",
   "language": "python",
   "name": "python3"
  },
  "language_info": {
   "codemirror_mode": {
    "name": "ipython",
    "version": 2
   },
   "file_extension": ".py",
   "mimetype": "text/x-python",
   "name": "python",
   "nbconvert_exporter": "python",
   "pygments_lexer": "ipython2",
   "version": "2.7.6"
  }
 },
 "nbformat": 4,
 "nbformat_minor": 5
}

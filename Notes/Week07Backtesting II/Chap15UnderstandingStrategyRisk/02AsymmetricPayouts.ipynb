{
 "cells": [
  {
   "metadata": {},
   "cell_type": "markdown",
   "source": [
    "## Asymmetric Payouts\n",
    "\n",
    "연간 $n$개의 $\\text{IID}$ 베팅을 생성하는 전략을 고려해보자. 여기서 베팅 $i \\in [1,n]$의 결과 $X_i$는 $\\pi_{+}$인데 $P[X_i = \\pi_{+}] = p$확률로 발생하고, 결과 $\\pi_{-}, \\pi_{-} < \\pi_{+}$는 $P[X_i = \\pi_{-}] = 1-p$확률로 발생한다. 한 건의 베팅으로부터 기대할 수 있는 이익은 $E[X_i] = p \\pi_{+} + (1-p)\\pi_{-} = (\\pi_{+} - \\pi_{-})p + \\pi_{-}$이다. 분산은 $V[X_i] = E[X_i^2] - E[X_i]^2$이다. 여기서 $E[X_i^2] = p\\pi_{+}^2 + (1-p)\\pi_{-}^2  = (\\pi_{+}^2 - \\pi_{-}^2)p + \\pi_{-}^2$ 이므로 $V[X_i] = (\\pi_{+} - \\pi_{-})2p(1-p)$이다. 연간 $n$개의 $\\text{IID}$ 베팅에 대한 연환산 $\\text{SR}(\\theta)$는 다음과 같다.\n",
    "\n",
    "$$\\theta[p, n, \\pi_{-}, \\pi_{+}] = \\frac{nE[X_i]}{\\sqrt{nV[X_i]}} = \\frac{(\\pi_{+} - \\pi_{-})p + \\pi_{-}}{(\\pi_{+} - \\pi_{-})\\sqrt{p(1-p)}}\\sqrt{n}$$"
   ],
   "id": "d89e961c18d4c90f"
  },
  {
   "cell_type": "code",
   "execution_count": null,
   "id": "initial_id",
   "metadata": {
    "collapsed": true
   },
   "outputs": [],
   "source": [
    ""
   ]
  }
 ],
 "metadata": {
  "kernelspec": {
   "display_name": "Python 3",
   "language": "python",
   "name": "python3"
  },
  "language_info": {
   "codemirror_mode": {
    "name": "ipython",
    "version": 2
   },
   "file_extension": ".py",
   "mimetype": "text/x-python",
   "name": "python",
   "nbconvert_exporter": "python",
   "pygments_lexer": "ipython2",
   "version": "2.7.6"
  }
 },
 "nbformat": 4,
 "nbformat_minor": 5
}

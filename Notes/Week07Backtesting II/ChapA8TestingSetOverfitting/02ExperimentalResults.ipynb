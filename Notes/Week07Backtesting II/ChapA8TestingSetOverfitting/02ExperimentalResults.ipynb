{
 "cells": [
  {
   "metadata": {},
   "cell_type": "markdown",
   "source": [
    "### The“False Strategy” Theorem\n",
    "\n",
    "연구자는 수많은 역사적 시뮬레이션을 실행하고, 최상의 결과만을 보고할 수 있다. Maximized Sharpe Ratio의 분포는 반복 시행 중 랜덤하게 선택한 sharpe ratio의 분포와 같지 않으며, 따라서 $\\text{SBuMT}$를 산출한다. 한 번 이상의 시행이 일어날 때 Maximized Sharpe Ratio의 기대값은 랜덤 시행으로부터의 sharpe ratio의 기대값보다 크다. 특히 기대 sharpe ratio가 0이고 0이 아닌 분산을 가진 투자 전략이 주어졌을 때 최대 sharpe ratio의 기대값은 0보다 큰 양수이고, 시행 수의 함수이다.\n",
    "\n",
    "따라서 $\\text{SBuMT}$의 크기는 최대 sharpe ratio의 기대값과 랜덤 시행으로부터의 sharpe ratio의 기대값의 차이로 표현할 수 있다. $\\text{SBuMT}$는 두 변수, 즉 시행 수와 시행에 걸친 Sharpe ratio의 분산의 함수라는 것이 밝혀진다. 다음 정리는 공식적으로 이 관계를 설명한다."
   ],
   "id": "b61fba3667e56739"
  },
  {
   "metadata": {},
   "cell_type": "markdown",
   "source": [
    "#### Theorem\n",
    "\n",
    "독립이고 동일한 Gaussian 분포의 $\\widehat{\\text{SR}}_k \\sim \\mathcal{N}\\left[ 0, V\\left[ \\widehat{\\text{SR}}_k\\right] \\right]$로부터 추출된 추정된 성과 통계량 $\\left\\{\\widehat{\\text{SR}}_k \\right\\}, k = 1, \\dots, K$의 샘플이 주어질 때 다음이 성립한다.\n",
    "\n",
    "$$E \\left[\\max_{k} \\left\\{ \\widehat{\\text{SR}}_k\\right\\} \\right] \\left( V\\left[\\left\\{ \\widehat{\\text{SR}}_k\\right\\}\\right]\\right)^{-\\frac{1}{2}}\n",
    "\\approx (1-\\gamma)Z^{-1} \\left[ 1 - \\frac{1}{K}\\right] + \\gamma Z^{-1}\\left[ 1 - \\frac{1}{Ke}\\right]\n",
    "$$\n",
    "\n",
    "여기서 $Z^{-1}[.]$는 Standard Gaussian CDF의 역함수이고, $E[.]$는 기대값, $V[.]$는 분산, $e$는 오일러 수이고, $\\gamma$는 오일러-마스체로니 상수이다."
   ],
   "id": "e5587476ddea561e"
  },
  {
   "metadata": {},
   "cell_type": "markdown",
   "source": "### Experimental Results",
   "id": "302b341be81bbaba"
  },
  {
   "cell_type": "code",
   "execution_count": null,
   "id": "initial_id",
   "metadata": {
    "collapsed": true
   },
   "outputs": [],
   "source": [
    ""
   ]
  }
 ],
 "metadata": {
  "kernelspec": {
   "display_name": "Python 3",
   "language": "python",
   "name": "python3"
  },
  "language_info": {
   "codemirror_mode": {
    "name": "ipython",
    "version": 2
   },
   "file_extension": ".py",
   "mimetype": "text/x-python",
   "name": "python",
   "nbconvert_exporter": "python",
   "pygments_lexer": "ipython2",
   "version": "2.7.6"
  }
 },
 "nbformat": 4,
 "nbformat_minor": 5
}

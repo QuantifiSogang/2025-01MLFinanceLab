{
 "cells": [
  {
   "metadata": {},
   "cell_type": "markdown",
   "source": [
    "### The“False Strategy” Theorem\n",
    "\n",
    "연구자는 수많은 역사적 시뮬레이션을 실행하고, 최상의 결과만을 보고할 수 있다. Maximized Sharpe Ratio의 분포는 반복 시행 중 랜덤하게 선택한 sharpe ratio의 분포와 같지 않으며, 따라서 $\\text{SBuMT}$를 산출한다. 한 번 이상의 시행이 일어날 때 Maximized Sharpe Ratio의 기대값은 랜덤 시행으로부터의 sharpe ratio의 기대값보다 크다. 특히 기대 sharpe ratio가 0이고 0이 아닌 분산을 가진 투자 전략이 주어졌을 때 최대 sharpe ratio의 기대값은 0보다 큰 양수이고, 시행 수의 함수이다.\n",
    "\n",
    "따라서 $\\text{SBuMT}$의 크기는 최대 sharpe ratio의 기대값과 랜덤 시행으로부터의 sharpe ratio의 기대값의 차이로 표현할 수 있다. $\\text{SBuMT}$는 두 변수, 즉 시행 수와 시행에 걸친 Sharpe ratio의 분산의 함수라는 것이 밝혀진다. 다음 정리는 공식적으로 이 관계를 설명한다."
   ],
   "id": "b61fba3667e56739"
  },
  {
   "metadata": {},
   "cell_type": "markdown",
   "source": [
    "#### Theorem\n",
    "\n",
    "독립이고 동일한 Gaussian 분포의 $\\widehat{\\text{SR}}_k \\sim \\mathcal{N}\\left[ 0, V\\left[ \\widehat{\\text{SR}}_k\\right] \\right]$로부터 추출된 추정된 성과 통계량 $\\left\\{\\widehat{\\text{SR}}_k \\right\\}, k = 1, \\dots, K$의 샘플이 주어질 때 다음이 성립한다.\n",
    "\n",
    "$$E \\left[\\max_{k} \\left\\{ \\widehat{\\text{SR}}_k\\right\\} \\right] \\left( V\\left[\\left\\{ \\widehat{\\text{SR}}_k\\right\\}\\right]\\right)^{-\\frac{1}{2}}\n",
    "\\approx (1-\\gamma)Z^{-1} \\left[ 1 - \\frac{1}{K}\\right] + \\gamma Z^{-1}\\left[ 1 - \\frac{1}{Ke}\\right]\n",
    "$$\n",
    "\n",
    "여기서 $Z^{-1}[.]$는 Standard Gaussian CDF의 역함수이고, $E[.]$는 기대값, $V[.]$는 분산, $e$는 오일러 수이고, $\\gamma$는 오일러-마스체로니 상수이다."
   ],
   "id": "e5587476ddea561e"
  },
  {
   "metadata": {},
   "cell_type": "markdown",
   "source": [
    "### Experimental Results\n",
    "\n",
    "거짓 전략 정리는 기대 최대 샤프 비율의 근사치를 제공한다. 이 정리의 실험 분석은 두 가지 레벨에서 유용하다. 첫째, 실험 분석은 정리가 참이 아니라는 증거를 발견할 수 있게 하며, 실제로 그 증명은 결함이 있다. 물론 이는 사실이 아니다. 실험 증거는 결코 수학 증명의 역할을 대체할 수는 없지만, 여전히 증명의 문제를 지적할 수 있고, 증명이 어떻게 되어야만 하는지를 더 깊이 이해할 수 있다. 둘째, 정리는 근사치에 대한 상하한을 제공하지 않는다. 실험 분석은 근사 오차의 분포를 추정할 수 있게 한다.\n",
    "\n",
    "다음 몬테카를로 실험은 거짓 전략 정리의 정확도를 평가한다. 첫째, 주어진 값 $(K, V[{SR_k}])$에 대해 크기 $(S \\times K)$의 랜덤 배열을 생성한다. 여기서 $S$는 몬테카를로 실험의 수다. 이 랜덤 배열에 의해 포함된 값은 표준 정규 분포로부터 추출된다. 둘째, 이 배열의 행은 평균 0을 중심으로 하고 평균 0과 $V[{SR_k}]$에 일치되도록 스케일링된다. 셋째, 각 행에 걸쳐 최대값 $\\max_k { SR_k }$이 계산되고, 이는 $S$개의 이와 같은 최대값을 산출한다. 넷째, 5개의 최대값에 걸쳐 평균값 $\\mathbb{E}[\\max_k {SR_k}]$를 계산한다.\n",
    "다섯째, 이 기대 최대값 SR의 경험적(몬테카를로) 추정치 $\\hat{SR}$은 거짓 전략 정리에 의해 제공된 분석적 해 $\\mathbb{E}[\\max_k {SR_k}]$와 비교된다.\n",
    "여섯째, 추정 오차는 다음과 같이 예측값에 대한 상대적인 비율로 정의된다.\n",
    "\n",
    "$$\n",
    "\\varepsilon = \\frac{\\hat{E}\\left[ \\max_k \\{\\widehat{\\text{SR}_k}\\}\\right]}{E\\left[ \\max_k \\{\\widehat{\\text{SR}_k}\\}\\right]} - 1\n",
    "$$\n",
    "\n",
    "일곱째, 이건 단계를 $R$번 반복해 추정 오차 $\\{\\varepsilon_1\\}_{r = 1, \\dots, R}$을 산출해 $K$ 시행에 연관된 추정 오차의 평균과 표준 편차를 계산한다. 아래 코드는 파이썬으로 이 몬테카를로 실험을 구현한다."
   ],
   "id": "302b341be81bbaba"
  },
  {
   "cell_type": "code",
   "execution_count": null,
   "id": "initial_id",
   "metadata": {
    "collapsed": true
   },
   "outputs": [],
   "source": [
    ""
   ]
  },
  {
   "metadata": {},
   "cell_type": "markdown",
   "source": [
    "그림은 넓은 범위(그림에서 2와 100만 사이)에 대해 이 실험으로부터의 결과를 시각화한다. $V\\left[{SR_k}\\right]=1$와 어떤 주어진 수 $K$번의 시행에 대해서 1만 번 최대 샤프 비율을 시뮬레이션을 실행해 최대 샤프 비율의 분포를 도출한다. $y$축은 참 샤프 비율이 0일 때 $K$ 시행의 각 수치($x$축)에 대한 최대 샤프 비율 $\\max_k {SR_k}$의 분포를 보인다. 더 높은 확률을 가진 결과는 더 밝은 색깔을 받는다. 예를 들어, 만약 1,000번을 시행하면 전략의 참 샤프 비율이 0이라도 최대 샤프 비율의 기대값 $\\mathbb{E}[\\max_k { SR_k }]$은 3.26이다. 예상대로 더 많은 백테스트를 실행할 때 연구자가 넘어야 할 더 높은 허들 hurdle이 존재한다. 이들 실험 결과와 점선으로 대표되는 거짓 전략 정리에 의해 예측되는 결과를 비교한다. 두 결과(실험과 이론)의 비교는 거짓 전략 정리가 연구된 시행의 범위에 대해 최대 $SR$의 기대값을 정확하게 추정한다는 것을 지적하는 듯하다.\n",
    "\n",
    "이제 초점을 정리의 근사치에 대한 정밀도를 평가하는 데로 돌리자. 근사 오차를 (1,000번의 시뮬레이션을 기반으로 하는) 실험 예측과 정리 예측의 차이를 정리 예측으로 나누는 것으로 정의한다. 그러고 나서 $K$시행의 각각에 대해 이 같은 추정 오차를 100번 반복해 평균과 표준 편차를 도출한다. 아래 코드는 정리의 정밀도를 평가하는 두 번째 몬테카를로 실험을 구현한다.\n",
    "\n"
   ],
   "id": "43b5deca52dcc003"
  },
  {
   "metadata": {},
   "cell_type": "code",
   "outputs": [],
   "execution_count": null,
   "source": "",
   "id": "1841709e0bd0afca"
  },
  {
   "metadata": {},
   "cell_type": "markdown",
   "source": "그림 8.2는 이 두 번째 실험으로부터의 결과를 그린다. 원은 여러 시행 수치($x$축)에 대해 계산한 예측값에 상대적인 평균 오차($y$축)를 나타낸다. 이 결과로부터 거짓 전략 정리는 점근적으로 불편 추정량을 산출하는 듯하다. 단지 $K \\approx 50$에서 정리의 추정치가 근사적으로 0.7% 실험값을 초과한다.",
   "id": "f7fc15c633601ac4"
  },
  {
   "metadata": {},
   "cell_type": "code",
   "outputs": [],
   "execution_count": null,
   "source": "",
   "id": "34de0bd16d55f675"
  },
  {
   "metadata": {},
   "cell_type": "markdown",
   "source": "$\\times$표시는 여러 시행 수($x$축)에 대해 도출한 오차의 표준 편차($y$축)를 나타낸다. 이 실험으로부터 표준 편차가 정리에 의해 예측된 값의 0.5% 아래로 상대적으로 작고, 시행 수가 증가함에 따라 더욱 작아지는 것을 알 수 있다.",
   "id": "b17b8158d2667929"
  }
 ],
 "metadata": {
  "kernelspec": {
   "display_name": "Python 3",
   "language": "python",
   "name": "python3"
  },
  "language_info": {
   "codemirror_mode": {
    "name": "ipython",
    "version": 2
   },
   "file_extension": ".py",
   "mimetype": "text/x-python",
   "name": "python",
   "nbconvert_exporter": "python",
   "pygments_lexer": "ipython2",
   "version": "2.7.6"
  }
 },
 "nbformat": 4,
 "nbformat_minor": 5
}

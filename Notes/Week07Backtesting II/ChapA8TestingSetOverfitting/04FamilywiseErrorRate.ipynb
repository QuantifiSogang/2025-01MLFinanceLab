{
 "cells": [
  {
   "metadata": {},
   "cell_type": "markdown",
   "source": [
    "### Familywise Error Rate\n",
    "\n",
    "Chapter 8에서 이제까지 거짓 전략 정리를 이용해 투자 전략이 거짓일 확률을 도출하는 법을 설명했다. Chapter 8의 남은 부분에선 군별 오차율 (familywise error rate)의 개념에 의존하는 여러 방법을 논의한다.\n",
    "\n",
    "표준 네이만-피어슨 (Neyman–Pearson) 가설 검증 틀 하에서 귀무가설이 참이라면 확률 $\\alpha$를 넘어설 사건을 관측할 때 $(1 - \\alpha)$의 신뢰도로 귀무가설 $H_0$를 기각한다. 따라서 귀무가설을 잘못 기각할 확률 (1종 오류)은 $\\alpha T$. 이는 거짓 양성 확률로 알려져 있다.\n",
    "\n",
    "네이만과 피어슨(1933)이 이 프레임워크를 제안했을 때 이들은 다중 테스트를 하고 최고의 결과를 선택할 가능성을 고려하지 않았다. 8.2절에서 보듯이 테스트가 여러 번 반복될 때 결합된 거짓 양성 확률은 증가한다. 이에 따라 우리는 $K$개의 독립 테스트 \"군(family)\"을 실행한 후 신뢰도 $(1 - \\alpha)$로 $H_0$를 기각할 것이며, 따라서 \"군\" 거짓 양성 확률(또는 군별 오차율 FWER, Familywise Error Rate)은\n",
    "\n",
    "$$\n",
    "\\alpha_K = 1 - (1 - \\alpha)^K\n",
    "$$\n",
    "\n",
    "이다. 이는 적어도 하나의 양성이 거짓일 확률이며, 이는 모든 양성이 거짓일 확률 $(1 - \\alpha)^K$의 보수다."
   ],
   "id": "c1ebc52e681a8a9d"
  },
  {
   "metadata": {},
   "cell_type": "markdown",
   "source": [
    "#### 1. Šidàk’s Correction\n",
    "\n",
    "임의의 횟수 $K$ 독립 테스트에 대한 $\\text{FWER}$을 $\\alpha_K$로 설정하자. 그러면 개별 거짓 양성 확률은 위의 식으로부터\n",
    "\n",
    "$$\n",
    "\\alpha = 1 - (1 - \\alpha_K)^{1/K}\n",
    "$$\n",
    "\n",
    "로 도출될 수 있다. 이는 다중 테스트에 대한 시다크 조정(Sidák correction)으로 알려져 있다(Sidák, 1967). 이는 테일러 전개에 의해 첫째 항의 $\\frac{\\alpha_K}{K}$로 근사화될 수 있다(Bonferroni’s approximation으로 알려져 있다).\n",
    "\n",
    "이전과 같이 ONC 알고리즘을 적용해 $E[K]$를 추정할 수 있다. $E[K]$ 시행들은 완벽한 무상관관계(perfectly uncorrelated)를 갖고 있지 않지만, 알고리즘이 더 이상 줄일 수 없는 보수적인 최소 군집 수의 추정치를 제공한다. 이 $E[K]$ 추정치로 시다크 조정을 적용할 수 있고, 다중 테스트하의 1종 오류 확률 $\\alpha_K$를 계산할 수 있다."
   ],
   "id": "9233a7e7e1a080b6"
  },
  {
   "metadata": {},
   "cell_type": "markdown",
   "source": [
    "#### 2. Type I Errors under Multiple Testing\n",
    "\n",
    "크기 $T$의 수익률 시계열을 가진 투자 전략을 고려하자. 샤프 비율 $\\text{SR}$을 추정하고, 이 추정치를 가설 테스트에 적용한다. 여기서 $H_0 : \\text{SR}=0$ 이고 $H_1 : \\text{SR} > 0$이다. 이 테스트가 여러 번 적용될 때 거짓 양성 확률을 결정하고자 한다.\n",
    "\n",
    "Bailey and López de Prado(2012)는 수익률이 정규성을 갖고 헤르미트의 때(반드시 IID 정규 분포일 필요는 없다) 참 샤프 비율이 주어진 입계값 $\\text{SR}^*$을 초과할 확률을 도출했다. 만약 참 샤프 비율이 $\\text{SR}^*$와 같을 때 통계량 $\\hat{z}[\\text{SR}^*]$는 점근적으로 표준 정규 분포를 갖는다.\n",
    "\n",
    "$$\n",
    "\\hat{z}[\\text{SR}^*] = \\frac{(\\text{SR} - \\text{SR}^*)\\sqrt{T - 1}}{\\sqrt{1 - \\frac{1}{3}\\hat{\\gamma}_3 \\text{SR} + \\frac{1}{4}\\hat{\\kappa}_4 \\text{SR}^2}} - a_2 Z\n",
    "$$\n",
    "\n",
    "여기서 $\\text{SR}$은 추정된(비연율화된) 샤프 비율이고, $T$는 관측수, $\\hat{\\gamma}_3$는 수익률의 왜도이고 $\\frac{1}{4}\\hat{\\kappa}_4$는 수익률의 첨도다. 군별 1종 오류는 다음의 확률로 일어난다.\n",
    "\n",
    "$$\n",
    "P\\left[\\max_k\\{z[0]\\}_{k=1,\\ldots,K} > z_\\alpha \\mid H_0\\right] = 1 - (1 - \\alpha)^K = \\alpha_K\n",
    "$$\n",
    "\n",
    "군별 오차 $\\text{FWER}$ $\\alpha_K$에 대해서 시다크 조정은 단일 시험의 유의수준 $a = 1 - (1 - \\alpha_K)^{1/K}$를 제공한다. 그러면 만약 $\\max_k \\{z[0]\\}_{k=1,\\ldots,K} > z_\\alpha$이면 귀무가설은 신뢰도 $(1 - \\alpha_K)$로 기각된다. 여기서 $z_\\alpha$는 확률 $\\alpha$를 오른쪽으로 남기는 표준정규 분포의 임계값이다. 즉, $z_\\alpha = Z^{-1}[1 - \\alpha] = Z^{-1}[(1 - \\alpha_K)^{1/K}]$이다. $Z[.]$는 표준 정규 분포의 CDF(누적 확률 분포)이다.\n",
    "\n",
    "반대로 다중 테스트하의 1종 오류($\\alpha_K$)를 다음과 같이 도출할 수 있다. 첫째, 시행 간의 상관관계 행렬에 대해 군집화 절차를 적용해 군집 수익률 시계열 $\\mathbb{E}[K]$를 추정한다. 둘째, 선택한 군집 수익률에 대해 $z[0] = \\max_k\\{z[0]\\}_{k=1,\\ldots,K}$를 추정한다. 셋째, 단일 테스트에 대한 1종 오차 $a = 1 - Z[z[0]]$를 계산한다. 넷째, 다중 테스트는 $\\alpha_K = 1 - (1 - \\alpha)^E[K]$를 조정해 다음을 산출한다.\n",
    "\n",
    "$$\n",
    "\\alpha_K = 1 - Z[z[0]]^{E[K]}\n",
    "$$\n",
    "\n",
    "수치적 예로 위의 계산을 예시해 보자. 1,000번을 시행한 후, 1,250일(1년에 250일 관측으로 5년) 관측에 대해 계산된 샤프 비율은 0.079(비연율화), 첨도 -3. 철도 10의 투자 전략을 식별하자. 이 위도와 철도 수준은 일간 빈도로 샘플한 헤지 펀드 수익률에 전형적이다. 이들 입력으로부터 최[0] ≈ 2.4978와 α ≈ 0.0062를 도출한다. 이 1종 오류 확률에서 대부분의 연구자들은 귀무가설을 기각할 것이고, 새로운 투자 전략을 발견했다고 선언할 것이다. 그러나 이는 이 전략을 발견하고자 취한 $\\mathbb{E}[K]$의 시행이 조정되지 않았다. ONC 알고리즘을 적용하면 **1,000번**의 (상관관계가 있는) 시행으로부터 $\\mathbb{E}[K] = 10$의 유효한 독립 시행이 있다는 것을 결론낼 수 있다(다시 ‘유효한’ 독립으로 10개의 군집이 완전히 독립이라는 것을 주장하지는 않는다). 그러면 조정된 $\\text{FWER}$은 $\\alpha_K \\approx 0.0608$이다. 연율화된 샤프 비율이 약 1.25이지만, 전략이 거짓 발견일 확률이 상대적으로 높으며, 이는 다음의 두 가지 이유에 기인한다. \n",
    "\n",
    "1. 시행 수만 많아도 $\\mathbb{E}[K] = 1$이면 $\\alpha_K = \\alpha \\approx 0.0062$이기 때문이다. \n",
    "2. 수익률의 비정규성. 만약 수익률이 정규 분포이면 $\\alpha_K \\approx 0.0261$이기 때문이다. 예상대로 정규 분포를 잘못 가정하면 1종 오류 확률을 매우 과소평가하게 된다.\n",
    "\n",
    "아래 코드는 이를 결과를 복제하는 파이썬 코드를 제공한다.\n"
   ],
   "id": "c5f580d2234ae09a"
  },
  {
   "cell_type": "code",
   "execution_count": null,
   "id": "initial_id",
   "metadata": {
    "collapsed": true
   },
   "outputs": [],
   "source": [
    ""
   ]
  },
  {
   "metadata": {},
   "cell_type": "markdown",
   "source": [
    "#### 3. Type II Errors under Multiple Testing\n",
    "\n",
    "대립가설($H_1: SR > 0$)이 참이고 $\\text{SR} = \\text{SR}^*$라고 가정하자. 그러면 $\\text{FWER}$ $\\alpha_K$에 연관된 테스트의 검정력(power of test)은 다음과 같다.\n",
    "\n",
    "$$\n",
    "\\mathbb{P}\\left[ \\max_k \\left\\{ \\hat{z}[0]_k \\right\\}_{k=1,\\dots,K} > z_\\alpha \\mid \\text{SR} = \\text{SR}^* \\right]\n",
    "= \\mathbb{P} \\left[\n",
    "\\left( \\frac{\\text{SR} + \\text{SR}^* - \\text{SR}^*}{\\sqrt{1 - \\hat{\\gamma}_3 \\text{SR} + \\frac{\\hat{\\gamma}_4 - 1}{4} \\text{SR}^2}} \\right) \\sqrt{T - 1}\n",
    "> z_\\alpha \\mid \\text{SR} = \\text{SR}^*\n",
    "\\right]\n",
    "$$\n",
    "\n",
    "$$\n",
    "= \\mathbb{P} \\left[\n",
    "\\hat{z}[\\text{SR}^*] > z_\\alpha\n",
    "\\right] = 1 - \\mathbb{P} \\left[\n",
    "\\hat{z}[\\text{SR}^*] < z_\\alpha\n",
    "\\right]\n",
    "= 1 - Z \\left[\n",
    "\\frac{\\text{SR}^* \\sqrt{T - 1}}{\\sqrt{1 - \\hat{\\gamma}_3 \\text{SR} + \\frac{\\hat{\\gamma}_4 - 1}{4} \\text{SR}^2}}\n",
    "\\right] = 1 - \\beta\n",
    "$$\n",
    "\n",
    "여기서 $z_\\alpha = Z^{-1}[(1 - \\alpha_K)^{1/K}]$이다. 따라서 개별 검정력은 $\\text{SR}^*$, 샘플 길이와 왜도에 따라 증가하지만, 첨도에 따라 감소한다. 이 확률 $(1 - \\beta)$은 참 양성률 또는 재현율(recall)로 또한 알려져 있다.\n",
    "\n",
    "3절에서 군별 거짓 음성($O_I$) 확률을 모든 개별 양성을 놓칠 확률 $\\beta_K = \\beta^K$로 정의했다. 주어진 쌍 $(\\alpha_K, \\beta_K)$에 대해서 $\\mathbb{P}\\left[\\max_k \\hat{z}[0]_k \\right]_{k=1,\\dots,K} > z_\\alpha |SR = SR^*| = 1 - \\beta$가 되도록 쌍 $(\\alpha, \\beta)$를 도출하고, 내재 $\\text{SR}^*$값을 구할 수 있다. 이를 해석하면 $\\text{FWER}$ $\\alpha_K$에서 $(1 - \\beta^K)$를 초과하는 군별 검정력을 달성하기 위해서는 참 샤프 비율이 $\\text{SR}^*$를 초과할 것을 요구한다. 다른 말로, 테스트는 내재 $\\text{SR}^*$ 아래의 샤프 비율을 가진 참 전략을 탐지하기에 충분한 검정력을 갖지 못한다.\n",
    "\n",
    "다중 테스트하의 2종 오류($\\beta_K$)를 다음과 같이 구할 수 있다. 첫째, 외생적으로 설정되거나 8.7절에서 설명한 바와 같이 추정된 $\\text{FWER}$ $\\alpha_K$가 주어졌을 때 이를 이용해 단일 테스트의 임계값 $z_\\alpha$를 계산한다. 둘째, 샤프 비율 $\\text{SR}^*$를 가진 전략을 놓칠 확률은 \n",
    "$$\n",
    "\\beta = Z[z_\\alpha - \\theta]\n",
    "$$\n",
    "이다. 여기서 $\\theta$는 다음과 같다:\n",
    "\n",
    "$$\n",
    "\\theta = \\frac{\\text{SR}^* \\sqrt{T - 1}}{\\sqrt{1 - \\hat{\\gamma}_3 \\text{SR} + \\frac{\\hat{\\gamma}_4 - 1}{4} \\text{SR}^2}}\n",
    "$$\n",
    "\n",
    "셋째, 개별 거짓 음성 확률로부터 $\\beta_K = \\beta^K$를 모든 양성을 놓칠 확률로 도출한다.\n",
    "\n",
    "위의 식들을 8.2절의 수치 예에 적용하자. 거기서 $\\text{FWER}$은 $\\alpha_K \\approx 0.0608$이라고 추정됐고, 이는 임계값 $z_\\alpha = 2.4978$이라는 것을 의미한다. 이때 전략을 참 샤프 비율 $\\text{SR}^* \\approx 0.0632$로 놓칠 확률은 $\\beta \\approx 0.6913$이며 여기서 $\\theta \\approx 1.9982$이다. 이 높은 2종 오류 확률은 이해할 만하다. 왜냐하면 테스트가 이와 같이 약한 시그널(연율화된 샤프 비율이 단지 1.0)을 단 한 번 시행 후에 탐지할 정도로 강력하지 않기 때문이다. 그러나 10번을 시행했기 때문에 이때 $\\beta_K \\approx 0.0249$이다. 테스트는 참 샤프 비율 $\\text{SR}^* \\geq 0.0632$인 전략을 97.5% 이상 탐지한다. \n",
    "\n",
    "코드 8.4는 이들 결과를 복제하는 파이썬 코드를 제공한다(`getZStat`과 `type1Err` 함수를 위해서는 코드 8.3을 참고하라)."
   ],
   "id": "3ab8853b59eb5220"
  },
  {
   "metadata": {},
   "cell_type": "code",
   "outputs": [],
   "execution_count": null,
   "source": "",
   "id": "b671c6de3bf1072b"
  },
  {
   "metadata": {},
   "cell_type": "markdown",
   "source": [
    "#### 4. The Interaction between Type I and Type II Errors\n",
    "\n",
    "그림 8.4는 $\\alpha$와 $\\beta$의 상호관계를 제시한다. 위의 분포는 $H_0$가 참인 가정하에 $\\text{SR}$ 확률 추정치를 모델링한 것이다. 아래의 분포(보이는 것을 쉽게 하도록 거꾸로 그려진)는 $H_1$가 참인 가정하에, 특히 $\\text{SR}^* = 1$인 시나리오하에 $\\text{SR}$ 확률 추정치를 모델링한 것이다. 샘플 길이, 왜도, 첨도는 이들 두 분포의 분산에 영향을 준다. 실제 추정치 $\\text{SR}$가 주어졌을 때 이들 변수는 확률 $\\alpha$와 $\\beta$를 결정하며, 여기서 하나를 감소시키는 것은 다른 것을 증가시킨다. 대부분의 학술지 논문에서 저자들은 ‘위’의 분포에 초점을 맞추고 ‘아래’의 분포는 무시한다."
   ],
   "id": "cb16f8a63662ba6b"
  },
  {
   "metadata": {},
   "cell_type": "code",
   "outputs": [],
   "execution_count": null,
   "source": "",
   "id": "afb6f961b6562c69"
  },
  {
   "metadata": {},
   "cell_type": "markdown",
   "source": "2종 오류에 대해 도출한 분석적 해는 비록 $K=1$인 경우와 같이 아주 단순하지는 않더라도 이 트레이드-오프가 $\\alpha_K$와 $\\beta_K$에 존재한다는 것을 명확히 밝힌다. 그림 8.5는 고정 $\\alpha_K$에 대해 $K$가 증가함에 따라 임계값 $z_\\alpha$가 증가하고, 따라서 $\\beta_K$가 증가하는 것을 보여 준다.",
   "id": "991a84df66b6f2e4"
  },
  {
   "metadata": {},
   "cell_type": "code",
   "outputs": [],
   "execution_count": null,
   "source": "",
   "id": "9b1bd333e11e9b19"
  },
  {
   "metadata": {},
   "cell_type": "markdown",
   "source": [
    "아래의 그림은 다양한 $\\alpha_K$ 수준에 대해 $K$가 증가함에 따른 $\\beta_K$를 그린다. 비록 $\\beta$가 $K$에 따라 증가하더라도 전체적인 효과는 $\\beta_K$를 줄이는 것이다. 고정된 $\\alpha_K$에 대해 $K$와 $\\theta$의 함수로 $\\beta_K$를 결정하는 식은 다음과 같다.\n",
    "\n",
    "$$\n",
    "\\beta_K = \\left(Z\\left[Z^{-1}[(1 - \\alpha_K)^{1/K}]\\ - \\theta\\right]\\right)^K\n",
    "$$"
   ],
   "id": "55b50f4ec2a606b4"
  },
  {
   "metadata": {},
   "cell_type": "code",
   "outputs": [],
   "execution_count": null,
   "source": "",
   "id": "63bd2c1fbf3ffa8e"
  },
  {
   "metadata": {},
   "cell_type": "markdown",
   "source": [
    "### Conclusion\n",
    "\n",
    "단일 시행에서 투자 전략의 샤프 비율은 비록 전략 수익률이 비정규 분포라도 가우시안 분포를 따른다. 연구자들이 전형적으로 시행을 여러 번 하고 이들 중 가장 성과가 좋은 전략을 선택하는 것은 거짓 전략을 선택할 확률을 높인다. Chapter 8에서 테스트셋의 과적합이 발견된 투자 전략을 무효화하는 정도로 평가하는 2개의 대안 절차를 논의했다. 첫째 접근법은 거짓 전략 정리에 의존한다. 이 정리는 최대 샤프 비율의 기대값 $E[\\max_k\\{ \\widehat{\\text{SR}}_k \\}]$을 시행 수 $K$와 시행에 걸친 샤프 비율의 분산 $V[\\widehat{\\text{SR}}_k]$의 함수로 도출한다. 머신러닝 방법을 사용해 2개의 변수를 추정할 수 있다. 이 $E[\\max_k\\{ \\widehat{\\text{SR}}_k \\}]$의 추정치로 $\\max_k\\{ \\widehat{\\text{SR}}_k \\}$가 통계적으로 유의한지 테스트하고, 축소 샤프 비율을 사용할 수 있다 (베일리와 로페즈 데 프라도 2014).\n",
    "\n",
    "두 번째 접근법은 시행 수 $K$를 추정하고, 시다크 조정을 적용해 군별 오차율 $\\text{FWER}$을 도출한다. $\\text{FWER}$은 로(2002)와 머텐즈(2002)에 의해 제안된 분포를 사용해 $\\widehat{\\text{SR}}_k$가 통계적으로 유의한지 테스트할 수 있는 준정렬 구간 임계값을 제공한다. 연구자들은 이를 군별 거짓 양성 확률과 군별 거짓 음성 확률의 분석적 추정치를 사용해 통계 테스트를 설계할 수 있다."
   ],
   "id": "ca41ab8e42418663"
  }
 ],
 "metadata": {
  "kernelspec": {
   "display_name": "Python 3",
   "language": "python",
   "name": "python3"
  },
  "language_info": {
   "codemirror_mode": {
    "name": "ipython",
    "version": 2
   },
   "file_extension": ".py",
   "mimetype": "text/x-python",
   "name": "python",
   "nbconvert_exporter": "python",
   "pygments_lexer": "ipython2",
   "version": "2.7.6"
  }
 },
 "nbformat": 4,
 "nbformat_minor": 5
}

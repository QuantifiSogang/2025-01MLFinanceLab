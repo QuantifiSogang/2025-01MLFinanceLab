{
 "cells": [
  {
   "metadata": {},
   "cell_type": "markdown",
   "source": [
    "## Classification Score\n",
    "\n",
    "Meta Labeling 전략의 맥락에서는 machine learning overlay algorithm의 성과를 개별적으로 이해하는 것이 유용하다. 기본 알고리즘은 기회를 알아내고 보조 알고리즘은 기회를 따를 것인지 지나칠 것인지를 결정한다는 것을 기억하자. 몇 가지 유용한 통계량은 다음과 같다.\n",
    "\n",
    "- **Accuracy** : 오버레이 알고리즘에 의해 정확히 label된 기회 비율을 의미한다.\n",
    "\n",
    "$$\\text{Accuracy~Score} = \\frac{TP + TN}{TP + TN + FP + FN}$$\n",
    "\n",
    "여기서 TP는 참 양성의 개수, TN은 참 음성의 개수, FP는 거짓 양성의 개수, FN은 거짓 음성의 개수다.\n",
    "\n",
    "- **Precision** : 예측된 양성 중 참 양성의 비율이다.\n",
    "\n",
    "$$\\text{Precision} = \\frac{TP}{TP + FP}$$\n",
    "\n",
    "- **Recall** : 양성 중에서 참 양성의 비율이다.\n",
    "\n",
    "$$\\text{Recall} = \\frac{TP}{TP+FN}$$\n",
    "\n",
    "- **F1 score** : 정확도는 meta labeling 응용에 있어서는 적절한 분류 점수가 되지 못할 수 있다. meta labeling을 적용한 후 음성인 경우가 양성인 경우보다 훨씬 더 많다고 가정해 보자. 이런 시나리오 하에서는 모든 경우를 음성으로 분류해 버리는 분류기는 recall = 0이고, precision은 정의되지 않지만, 높은 accuracy를 가지게 된다. F1-score는 분류기를 precision와 recall의 조화 평균을 사용해 이런 결함을 교정한다."
   ],
   "id": "a151c6e099b7542f"
  },
  {
   "cell_type": "code",
   "execution_count": null,
   "id": "initial_id",
   "metadata": {
    "collapsed": true
   },
   "outputs": [],
   "source": [
    ""
   ]
  }
 ],
 "metadata": {
  "kernelspec": {
   "display_name": "Python 3",
   "language": "python",
   "name": "python3"
  },
  "language_info": {
   "codemirror_mode": {
    "name": "ipython",
    "version": 2
   },
   "file_extension": ".py",
   "mimetype": "text/x-python",
   "name": "python",
   "nbconvert_exporter": "python",
   "pygments_lexer": "ipython2",
   "version": "2.7.6"
  }
 },
 "nbformat": 4,
 "nbformat_minor": 5
}

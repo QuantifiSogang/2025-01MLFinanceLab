{
 "cells": [
  {
   "metadata": {},
   "cell_type": "markdown",
   "source": [
    "## General Characteristics\n",
    "\n",
    "다음 통계량은 백테스트의 일반적 특성을 알려 준다. \n",
    "\n",
    "- **Time range** : 시작 날짜와 종료 날짜를 지정한다. 전략을 테스트하는 데 사용되는 기간이 충분히 길어 포괄적인 상황을 포함할 수 있어야 한다.\n",
    "- **Average AUM** : 운용 중인 자산의 평균 평가금액이다. 이 평균을 계산하고자 매수와 매도 포지션의 평가금을 양의 실수로 간주한다.\n",
    "- **Capacity** : 전략의 capacity는 목표 리스크 조정 성과를 성취할 수 있는 최대 AUM으로 측정할 수 있다. 적절한 bet size와 risk diversification을 위해서는 최저 AUM이 필요하다. 최소 AUM을 넘어서면 AUM의 증가에 따라서 더 높은 거래 비용과 더 낮은 거래량으로 성과가 저하된다.\n",
    "- **Leverage** : 보고된 성과를 달성하고자 필요한 차입 총액을 측정한다. 레버리지가 일어나면 비용이 할당돼야 한다. leverage를 측정하는 한 가지 방법은 average AUM에 대한 평균 평가액 크기의 비율을 계산하는 것이다.\n",
    "- **Maximum dollar position size** : 전략이 어느 시점에 average AUM을 크게 초과하는 금액의 포지션을 취하는지 알려 준다. 대개 average AUM에 근접한 최대 포지션을 취하는 전략을 선호한다. 이는 극단적인 이벤트에 의존하지 않았음을 알려 준다.\n",
    "- **Ratio of longs** : Ratio of long은 베팅 중 매수 포지션의 비율을 보여 준다. 시장 중립적 전략인 long-short의 값은 이상적으로 0.5에 가깝다. 그렇지 않다면 전략은 포지션 편향을 가지거나 백테스트된 기간이 너무 짧아 향후 시장 조건을 대표하지 못한다.\n",
    "- **Frequency of bets** : Backtest에서의 연간 베팅 개수를 의미한다. 동일한 방향의 position sequence는 동일한 베팅의 일부로 간주된다. 베팅은 포지션이 청산되거나 반대 매매로 상쇄될 때 끝난다. 베팅의 개수는 항상 거래의 개수보다 적다. 거래 수는 전략에 의해 발견된 독립된 기회의 개수를 과대 추정할 수 있다.\n",
    "- **Average holding period** : 베팅이 유지되는 일 수의 평균을 말한다. 고빈도 전략은 초 단위의 보유 기간을 가질 수도 있지만, 저빈도의 전략은 몇 개월, 심지어 몇 년 동안 포지션을 보유할 수도 있다. 짧은 보유 기간은 전략의 capacity를 제한할 수 있다. 보유 기간은 베팅의 빈도와 연계돼 있기는 하지만 서로 다르다. 예를 들어, 전략은 비농업 고용 데이터가 발표될 즈음으로 월 단위로 베팅할 수 있지만, 각 베팅은 단지 몇 분 동안만 유지된다.\n",
    "- **Annualized turnover** : 연간 거래된 평균 금액을 평균 연산 AUM에 대한 비율로 측정한다. 낮은 베팅 수에도 불구하고 높은 거래량이 나타날 수 있는데, 그 이유는 전략이 끊임없이 포지션 튜닝을 필요로 하기 때문이다. 거래 수가 적더라도 높은 거래량이 나타날 수 있는데, 이는 각 거래가 최대 long position과 최대 short position을 왔다갔다할 경우에 가능하다.\n",
    "- **Correlation to underlying** : 전략의 수익률과 기초 asset universe 수익률과의 상관관계를 말한다. 상관관계가 상당히 큰 음이거나 양인 전략은 근본적으로 asset universe를 유지하거나 숏하게 되고, 따라서 가치를 거의 더하지 않는다.\n",
    "\n",
    "아래는 목표 포지션(target position)을 달성하고자 `pandas.Series`로부터 청산 또는 반대 매매 거래의 timestamp를 도출하는 알고리즘이다. 이 코드는 발생한 베팅의 개수를 알려 준다."
   ],
   "id": "d91cfce44c268aab"
  },
  {
   "cell_type": "code",
   "execution_count": null,
   "id": "initial_id",
   "metadata": {
    "collapsed": true
   },
   "outputs": [],
   "source": [
    ""
   ]
  },
  {
   "metadata": {},
   "cell_type": "markdown",
   "source": "아래의 코드는 주어진 목표 포지션(target position)의 `pandas.Series`에 대한 average holding period를 계산하는 알고리즘 구현을 보여 준다.",
   "id": "b86056d68baff999"
  },
  {
   "metadata": {},
   "cell_type": "code",
   "outputs": [],
   "execution_count": null,
   "source": "",
   "id": "9a40fa49ea48eba7"
  }
 ],
 "metadata": {
  "kernelspec": {
   "display_name": "Python 3",
   "language": "python",
   "name": "python3"
  },
  "language_info": {
   "codemirror_mode": {
    "name": "ipython",
    "version": 2
   },
   "file_extension": ".py",
   "mimetype": "text/x-python",
   "name": "python",
   "nbconvert_exporter": "python",
   "pygments_lexer": "ipython2",
   "version": "2.7.6"
  }
 },
 "nbformat": 4,
 "nbformat_minor": 5
}

{
 "cells": [
  {
   "metadata": {},
   "cell_type": "markdown",
   "source": [
    "## Performance\n",
    "\n",
    "성과 통계량은 리스크를 조정하지 않은 Net Performance (NAV, Net Asset Value)와 수익률 수치다. 몇몇 유용한 성과 척도는 다음과 같다.\n",
    "\n",
    "- **PnL(Profit and Loss)** : 백테스트 전체에 발생한 금액의 총액으로서 최종 포지션의 현금화 비용을 포함한다.\n",
    "- **PnL from long positions** : 손익 금액 중 오직 롱 포지션으로만 발생한 비중이다. 이 값은 Long-short 편향과 시장 중립 전략을 평가할 때 매우 유용하다.\n",
    "- **Annualized rate of return** : 총 수익률의 시간 가중 연환산 평균 비율로, 배당, 쿠폰, 비용을 포함한다.\n",
    "- **Hit Ratio** : 양의 수익 결과를 낸 배팅의 비중. 즉 관측치 중에서 양의값을 전체 관측치의 개수로 나눈것이다.\n",
    "- **Return rate from hits** : 수익을 낸 베팅의 평균 수익률\n",
    "- **Return rate from misses** : 손실을 낸 베팅의 평균 수익률"
   ],
   "id": "34c47ff18cfa8f3d"
  },
  {
   "metadata": {},
   "cell_type": "markdown",
   "source": [
    "### 1. Time Weighted rate of returns\n",
    "\n",
    "총 수익률이란 측정 기간의 경과 이자, 지급 쿠폰, 배당을 포함한 실현과 비실현 손실로부터의 수익률이다. GIPS규칙은 외부 현금 흐름을 조정한 시간 가중 수이률을 계산한다. 기간 또는 하위 기간의 수익률은 기하학적으로 연계되어 있다. 2005년 1월 1일 이후에 시작하는 기간에 대해 GIPS 규정은 일별 가중 외부 현금 흐름으로 조정된 포트폴리오 수익률을 계산하도록 요구한다.\n",
    "\n",
    "$\\text{TWRR}$은 각 외부 현금 흐름의 시점에 포트폴리오 가치를 결정함으로써 계산할 수 있다. 하위 기간 $\\left[ t-1, t\\right]$ 사이에서의 포트폴리오 $i$의 $\\text{TWRR}$은 $r_{i,t}$로 표기하면 식은 다음과 같다.\n",
    "\n",
    "$$\n",
    "\\begin{align}\n",
    "r_{i,t} = & \\frac{\\pi_{i,t}}{K_{i,t}} \\\\\n",
    "\\pi_{i,t} = & \\sum_{j=1}^J \\left[ \\left( \\Delta P_{j,t} + A_{j,t}\\right) \\theta_{i,j,t-1} + \\Delta \\theta_{i,j,t} \\left( P_{j,t} - \\overline{P}_{j,t-1}\\right)\\right] \\\\ \n",
    "K_{i,t} = & \\sum_{j=1}^J \\tilde{P}_{j,t-1}\\theta_{i,j,t-1} + \\max \\left\\{ 0, \\sum_{j=1}^J \\bar{\\tilde{P}}_{j,t}\\right\\}\n",
    "\\end{align}\n",
    "$$\n",
    "\n",
    "여기서,\n",
    "- $\\pi_{i,t}$는 시점 $t$에서의 포트폴리오 $i$ MtM 수익 또는 손실이다.\n",
    "- $K_{i,t}$는 하위 기간 $t$ 동안의 포트폴리오 $i$에 의한 AUM의 시장 가치다. $\\max \\{\\cdot\\}$항을 포함하는 목적은 추가 매수를 허용하기 위한 자금 조달이다.\n",
    "- $A_{j,t}$는 시점 $t$에서의 단위 투자 상품에 지급된 경과 이자 또는 배당이다.\n",
    "- $P_{j,t}$는 시점 $t$에서의 증권 $j$의 순가격(clean price)이다.\n",
    "- $\\theta_{i,j,t}$는 시점 $t$에서의 증권 $j$에 대한 포트폴리오의 보유량이다.\n",
    "- $\\tilde{P}_{j,t}$는 시점 $t$에서의 증권 $j$의 매매 가격(dirty price)이다.\n",
    "- $\\overline{P_{j,t}}$는 하위 기간 $t$ 동안 증권 $j$에 대한 포트폴리오 $i$의 거래된 순가격(clean price)의 평균이다.\n",
    "- $\\overline{\\tilde{P}}_{j,t}$는 하위 기간 $t$ 동안 증권 $j$에 대한 포트폴리오 $i$의 거래된 매매가격(dirty price)의 평균이다."
   ],
   "id": "5cf3ed431e193dd3"
  },
  {
   "metadata": {},
   "cell_type": "markdown",
   "source": [
    "현금 유입은 하루의 시작 시점에서 발생한다고 가정하고, 현금 유출은 하루의 마지막 시점에서 발생한다고 가정한다. 이들 하위 기간 수익률은 다음과 같이 기하학적으로 연계된다.\n",
    "\n",
    "$$\\varphi_{i,T} = \\prod_{t=1}^T (1 + r_{i,t})$$\n",
    "\n",
    "변수 $\\varphi_{i,T}$는 전체 생애 $t = 1, \\dots, T$에 걸쳐 포트폴리오 $i$에 투자된 1달러의 성과로 이해하면 됩니다. 마지막으로 포트폴리오 $i$의 연환산 수익률은 다음과 같다.\n",
    "\n",
    "$$R_i = \\left( \\varphi_{i,T}\\right)^{-y_i} - 1$$\n",
    "\n",
    "여기서 $y_i$는 $r_{i,1}$과 $r_{i,T}$ 사이에 경과한 연수를 의미한다."
   ],
   "id": "4cae55b02cab7b2c"
  }
 ],
 "metadata": {
  "kernelspec": {
   "display_name": "Python 3",
   "language": "python",
   "name": "python3"
  },
  "language_info": {
   "codemirror_mode": {
    "name": "ipython",
    "version": 2
   },
   "file_extension": ".py",
   "mimetype": "text/x-python",
   "name": "python",
   "nbconvert_exporter": "python",
   "pygments_lexer": "ipython2",
   "version": "2.7.6"
  }
 },
 "nbformat": 4,
 "nbformat_minor": 5
}

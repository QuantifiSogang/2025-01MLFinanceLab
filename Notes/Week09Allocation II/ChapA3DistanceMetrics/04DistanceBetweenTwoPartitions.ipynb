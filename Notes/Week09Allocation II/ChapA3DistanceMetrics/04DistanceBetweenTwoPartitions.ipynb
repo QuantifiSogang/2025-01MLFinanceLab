{
 "cells": [
  {
   "metadata": {},
   "cell_type": "markdown",
   "source": [
    "### Distance between Two Partitions\n",
    "\n",
    "앞서 랜덤 변수의 유사도를 평가하는 방법을 도출했다. 이들 개념을 동일한 데이터셋의 두 분할을 비교하는 문제에 확장할 수 있다. 여기서 분할은 어느 정도 랜덤이라고 고려할 수 있다. Dataset $D$의 분할 $P$는 다음과 같은 상호 분리된 non-empty 집합인 부분 집합들의 순서 없는 집합이다.\n",
    "\n",
    "$$\\begin{align}\n",
    "&P=\\{D_k\\}_{k=1,\\dots,K}, \\Vert D_k \\Vert > 0, \\forall k, \\\\\n",
    "&D_k \\cap D_I = \\varnothing, \\forall k \\neq l, \\\\\n",
    "&\\bigcup_{k=1}^k D_k = D\n",
    "\\end{align}$$\n",
    "\n",
    "$P$에 관련된 불확실성을 정의하자. 첫째, 어떤 원소 $d \\in D$를 뽑는 확률을 $\\tilde{p}[d] = \\frac{1}{\\Vert D \\Vert}$로 설정한다. 둘째, 랜덤하게 뽑은 원소 $d \\in D$가 부분 집합 $D_k$에 속할 확률을 $p[k] = \\frac{\\Vert D_k \\Vert}{\\Vert D \\Vert}$로 정의한다. 셋째, 확률 $p[k]$는 $S = \\{1,\\dots,K\\}$로부터 값 $k$를 취하는 이산 랜덤 변수와 연관된다. 넷째, 이 이산 랜덤 변수에 관련된 불확실성은 엔트로피로 표현할 수 있다.\n",
    "\n",
    "$$H[P] = -\\sum_{k=1}^K p[k]\\log[p[k]]$$\n",
    "\n",
    "위로부터 $H[P]$가 $\\Vert D \\Vert$에 의존하지 않지만, 부분 집합들의 상대적인 크기는 의존한다는 것을 알 수 있다. 두 번째 분할 $P^\\prime = \\left\\{ D^\\prime_{k^\\prime}\\right\\}_{k=1, \\dots, K}$이 주어졌을 때 $S^\\prime = \\left\\{ 1, \\dots, K^\\prime\\right\\}$에서 $k^\\prime$ 값을 취하는 두 번째 랜점 변수를 정의할 수 있다. 랜덤하게 뽑은 원소 $d \\in D$는 $P$ 안의 부분 집합 $D_k$에 속하고, 또한 $P^{\\prime}$의 부분 집합 $D^\\prime_{k^\\prime}$에 속할 결합 확률은 다음과 같다.\n",
    "\n",
    "$$p[k, k^\\prime] = \\frac{\\Vert D_k \\cap D^\\prime_{k^\\prime}\\Vert}{ \\Vert D \\Vert}$$\n",
    "\n",
    "결합 엔트로피는 다음과 같이 정의된다.\n",
    "\n",
    "$$H[P, P^\\prime] = -\\sum_{k=1}^K \\sum_{k^{\\prime} = 1}^{K^\\prime} p[k, k^\\prime] \\log [p[k, k^\\prime]]$$\n",
    "\n",
    "그리고 조건부 엔트로피는 $H[P|P^\\prime] = H[P, P^\\prime] - H[P]$이다. mutual information은 다음과 같다. \n",
    "\n",
    "$$I[P,P^\\prime] = H[P] - H[P|P^\\prime] = \\sum_{k=1}^K \\sum_{k^\\prime = 1}^{K^\\prime} p[k, k^\\prime] \\log \\left[ \\frac{p[k, k^\\prime]}{p[k]p[k^\\prime]}\\right]$$\n",
    "\n",
    "그리고 정보 변분은 다음과 같다.\n",
    "\n",
    "$$\\text{VI}[P, P^\\prime] = H[P|P^\\prime]  + H[P^\\prime | P]$$"
   ],
   "id": "f68ecf4035f900ce"
  },
  {
   "cell_type": "code",
   "execution_count": null,
   "id": "initial_id",
   "metadata": {
    "collapsed": true
   },
   "outputs": [],
   "source": [
    ""
   ]
  }
 ],
 "metadata": {
  "kernelspec": {
   "display_name": "Python 3",
   "language": "python",
   "name": "python3"
  },
  "language_info": {
   "codemirror_mode": {
    "name": "ipython",
    "version": 2
   },
   "file_extension": ".py",
   "mimetype": "text/x-python",
   "name": "python",
   "nbconvert_exporter": "python",
   "pygments_lexer": "ipython2",
   "version": "2.7.6"
  }
 },
 "nbformat": 4,
 "nbformat_minor": 5
}

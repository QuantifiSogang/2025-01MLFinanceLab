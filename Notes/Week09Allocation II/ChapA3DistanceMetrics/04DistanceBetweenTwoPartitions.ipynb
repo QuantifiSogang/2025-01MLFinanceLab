{
 "cells": [
  {
   "metadata": {},
   "cell_type": "markdown",
   "source": [
    "### Distance between Two Partitions\n",
    "\n",
    "앞서 랜덤 변수의 유사도를 평가하는 방법을 도출했다. 이들 개념을 동일한 데이터셋의 두 분할을 비교하는 문제에 확장할 수 있다. 여기서 분할은 어느 정도 랜덤이라고 고려할 수 있다. Dataset $D$의 분할 $P$는 다음과 같은 상호 분리된 non-empty 집합인 부분 집합들의 순서 없는 집합이다.\n",
    "\n",
    "$$\\begin{align}\n",
    "&P=\\{D_k\\}_{k=1,\\dots,K}, \\Vert D_k \\Vert > 0, \\forall k, \\\\\n",
    "&D_k \\cap D_I = \\varnothing, \\forall k \\neq l, \\\\\n",
    "&\\bigcup_{k=1}^k D_k = D\n",
    "\\end{align}$$\n",
    "\n",
    "$P$에 관련된 불확실성을 정의하자. 첫째, 어떤 원소 $d \\in D$를 뽑는 확률을 $\\tilde{p}[d] = \\frac{1}{\\Vert D \\Vert}$로 설정한다. 둘째, 랜덤하게 뽑은 원소 $d \\in D$가 부분 집합 $D_k$에 속할 확률을 $p[k] = \\frac{\\Vert D_k \\Vert}{\\Vert D \\Vert}$로 정의한다. 셋째, 확률 $p[k]$는 $S = \\{1,\\dots,K\\}$로부터 값 $k$를 취하는 이산 랜덤 변수와 연관된다. 넷째, 이 이산 랜덤 변수에 관련된 불확실성은 엔트로피로 표현할 수 있다.\n",
    "\n",
    "$$H[P] = -\\sum_{k=1}^K p[k]\\log[p[k]]$$"
   ],
   "id": "f68ecf4035f900ce"
  },
  {
   "cell_type": "code",
   "execution_count": null,
   "id": "initial_id",
   "metadata": {
    "collapsed": true
   },
   "outputs": [],
   "source": [
    ""
   ]
  }
 ],
 "metadata": {
  "kernelspec": {
   "display_name": "Python 3",
   "language": "python",
   "name": "python3"
  },
  "language_info": {
   "codemirror_mode": {
    "name": "ipython",
    "version": 2
   },
   "file_extension": ".py",
   "mimetype": "text/x-python",
   "name": "python",
   "nbconvert_exporter": "python",
   "pygments_lexer": "ipython2",
   "version": "2.7.6"
  }
 },
 "nbformat": 4,
 "nbformat_minor": 5
}

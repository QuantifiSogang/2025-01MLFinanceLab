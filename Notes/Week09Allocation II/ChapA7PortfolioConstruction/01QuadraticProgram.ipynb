{
 "cells": [
  {
   "metadata": {},
   "cell_type": "markdown",
   "source": [
    "### Convex Portfolio Optimization\n",
    "\n",
    "무위험 이자율을 초과하는 수익률이 기대값 $\\mu$와 기대 공분산 $V$를 갖는 $N$개의 보유 자산 포트폴리오를 고려한다. Markowitz의 통찰력은 고전적인 자산 배분 문제를 Quadratic Program으로 공식화하는 것이었다.\n",
    "\n",
    "$$\\min_{\\omega} \\frac{1}{2}\\omega^\\prime  V \\omega \\text{   such that : } \\omega^\\prime a = 1$$\n",
    "\n",
    "여기서 $a$는 포트폴리오의 제약식을 특정짓는다. 이 문제는 다음과 같은 Lagrangian 형태로 표현할 수 있다.\n",
    "\n",
    "$$\\mathcal{L}[\\omega, \\lambda] = \\frac{1}{2} \\omega^\\prime V \\omega - \\lambda(\\omega^\\prime a - 1)$$\n",
    "\n",
    "First order condition은 다음과 같다.\n",
    "\n",
    "$$\n",
    "\\begin{align}\n",
    "\\frac{\\partial \\mathcal{L}[\\omega, \\lambda]}{\\partial \\omega} =& V \\omega - \\lambda a \\\\\n",
    "\\frac{\\partial \\mathcal{L}[\\omega, \\lambda]}{\\partial \\lambda} =& \\omega^\\prime a - 1\n",
    "\\end{align}\n",
    "$$"
   ],
   "id": "ff106b2c440b7a5e"
  },
  {
   "cell_type": "code",
   "execution_count": null,
   "id": "initial_id",
   "metadata": {
    "collapsed": true
   },
   "outputs": [],
   "source": [
    ""
   ]
  }
 ],
 "metadata": {
  "kernelspec": {
   "display_name": "Python 3",
   "language": "python",
   "name": "python3"
  },
  "language_info": {
   "codemirror_mode": {
    "name": "ipython",
    "version": 2
   },
   "file_extension": ".py",
   "mimetype": "text/x-python",
   "name": "python",
   "nbconvert_exporter": "python",
   "pygments_lexer": "ipython2",
   "version": "2.7.6"
  }
 },
 "nbformat": 4,
 "nbformat_minor": 5
}

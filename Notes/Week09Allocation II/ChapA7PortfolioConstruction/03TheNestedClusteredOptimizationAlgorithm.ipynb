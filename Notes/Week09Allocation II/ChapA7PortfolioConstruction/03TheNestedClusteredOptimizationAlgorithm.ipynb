{
 "cells": [
  {
   "metadata": {},
   "cell_type": "markdown",
   "source": [
    "### The Nested Clustered Optimization Algorithm\n",
    "\n",
    "7장의 나머지 부분은 마코위츠의 저주의 근원을 다른 새로운 머신러닝 기반 방법인 중첩 군집 최적화($\\text{NCO}$, Nested Clustered Optimization)를 도입하는 데 초점을 맞춘다. $\\text{NCO}$는 ‘래퍼(wrapper)’라고 알려진 알고리즘의 종류에 속한다. 어떤 효율적 경계의 구성 원소가 계산되는지 여부나 어떤 제약 조건들이 부과되는지 여부에 대해서는 무관하다. $\\text{NCO}$는 마코위츠의 저주가 기존의 평균–분산 배분 방법에 미치는 영향을 해결하기 위한 전략을 제공한다."
   ],
   "id": "2baef0468f6471a1"
  },
  {
   "metadata": {
    "ExecuteTime": {
     "end_time": "2025-07-12T13:30:12.221442Z",
     "start_time": "2025-07-12T13:30:04.497409Z"
    }
   },
   "cell_type": "code",
   "source": [
    "import numpy as np\n",
    "import pandas as pd\n",
    "import yfinance as yf\n",
    "import matplotlib.pyplot as plt\n",
    "from FinancialMachineLearning.data_loader.tickers import WikipediaStockListing\n",
    "from curl_cffi import requests\n",
    "\n",
    "tickers = WikipediaStockListing()\n",
    "sp100_tickers = tickers.sp100()['Symbol'].tolist()\n",
    "\n",
    "session = requests.Session(\n",
    "    impersonate = 'chrome'\n",
    ")\n",
    "\n",
    "data = yf.download(\n",
    "    sp100_tickers,\n",
    "    start = '2020-01-01',\n",
    "    progress = False,\n",
    "    auto_adjust = True,\n",
    "    interval = '1d',\n",
    "    session = session\n",
    ")['Close'].resample('W-FRI').last()\n",
    "\n",
    "ret = data.pct_change().iloc[1:]"
   ],
   "id": "43c476030f2104ba",
   "outputs": [],
   "execution_count": 1
  },
  {
   "metadata": {},
   "cell_type": "markdown",
   "source": [
    "#### 1. Correlation Clustering\n",
    "\n",
    "우선 $\\text{NCO}$ 알고리즘의 첫 번째 단계는 상관 행렬을 군집화하는 것이다. 이 작업에는 최적의 군집 수를 찾는 작업이 포함된다. 한 가지 가능성은 $\\text{ONC}$ 알고리즘(Chapter 4)을 적용하는 것이지만, $\\text{NCO}$는 군집 수를 결정하는 데 사용되는 어떤 알고리즘이 사용되는가에 대해서는 무관하다. $T/N$이 상대적으로 낮은 큰 행렬의 경우 2장에서 설명한 방법에 따라 군집화 전에 상관 행렬의 잡음을 제거하는 것이 바람직하다. 아래 코드는 이 절차를 구현한다. Chapter 2에서 소개한 `deNoiseCov` 함수를 사용해 잡음이 제거된 공분산 행렬(`cov1`)을 계산한다. 주의 사항으로 인수 $q$는 관측 행렬의 행 수와 열 수 사이의 비율을 알려 준다. `bWidth = 0`일 때 공분산 행렬의 잡음은 제거되지 않는다. `cov2corr` 함수를 사용해 결과 공분산 행렬을 상관 행렬로 표준화한다. 그런 다음 Chapter 4에서 소개한 `clusterKMeansBase` 함수를 사용해 정제된 상관 행렬을 군집화한다. `maxNumClusters` 인수는 상관 행렬의 열 수의 절반으로 설정된다. 그 이유는 단일 항목 군집은 행렬의 조건 수 증가를 유발하지 않기 때문에 최소 크기가 2인 군집만 고려하면 되기 때문이다. 군집 수가 더 작을 것으로 예상되는 경우 더 낮은 `maxNumClusters`를 사용해 계산을 가속화할 수 있다.\n"
   ],
   "id": "f2fed894d8ea6301"
  },
  {
   "cell_type": "code",
   "id": "initial_id",
   "metadata": {
    "collapsed": true,
    "ExecuteTime": {
     "end_time": "2025-07-12T13:30:17.915854Z",
     "start_time": "2025-07-12T13:30:16.214978Z"
    }
   },
   "source": [
    "from FinancialMachineLearning.filter.denoising import denoise_covariance\n",
    "\n",
    "cols = ret.cov().columns # covariance\n",
    "cov1 = denoise_covariance(\n",
    "    ret.cov(), \n",
    "    q = len(ret) / len(ret.columns), \n",
    "    b_width = 0.01\n",
    ")"
   ],
   "outputs": [],
   "execution_count": 2
  },
  {
   "metadata": {
    "ExecuteTime": {
     "end_time": "2025-07-12T13:30:18.594420Z",
     "start_time": "2025-07-12T13:30:18.592444Z"
    }
   },
   "cell_type": "code",
   "source": "cov1 = pd.DataFrame(cov1, index = cols, columns = cols)",
   "id": "33ab03c0ff9d88f",
   "outputs": [],
   "execution_count": 3
  },
  {
   "metadata": {
    "ExecuteTime": {
     "end_time": "2025-07-12T13:30:26.361075Z",
     "start_time": "2025-07-12T13:30:18.829343Z"
    }
   },
   "cell_type": "code",
   "source": [
    "from FinancialMachineLearning.filter.denoising import covariance_to_correlation\n",
    "from FinancialMachineLearning.machine_learning.clustering import clusterKMeansBase\n",
    "\n",
    "corr1 = covariance_to_correlation(cov1)\n",
    "corr2, clusters, silh = clusterKMeansBase(\n",
    "    corr1,\n",
    "    maxNumClusters = ret.corr().shape[0]/2,\n",
    "    n_init = 10\n",
    ")"
   ],
   "id": "85c480866e3e3df0",
   "outputs": [],
   "execution_count": 4
  },
  {
   "metadata": {},
   "cell_type": "markdown",
   "source": "일반적인 질문은 `corr1` 또는 `corr1.abs()`를 군집화해야 하는가다. 모든 상관관계가 음수가 아닌 경우 `corr1`과 `corr1.abs()` 군집화는 동일한 결과를 산출한다. 일부 상관관계가 음수일 경우 답은 더 복잡하며, 관측된 입력의 수치 특성에 따라 달라진다. 두 가지를 모두 시도해 보고, 몬테카를로 실험에서 어떤 군집화가 특정 `corr1`에 더 잘 작용하는지 볼 것을 추천한다.",
   "id": "1101445afda3634c"
  },
  {
   "metadata": {},
   "cell_type": "markdown",
   "source": [
    "#### 2. Intracluster Weights\n",
    "\n",
    "NCO 알고리즘의 두 번째 단계는 잡음이 제거된 공분산 행렬, `cov1`을 사용해 최적의 군집 내 배분을 계산하는 것이다. 아래 코드는 이 절차를 구현한다. 단순성을 위해 `optimizing_portfolio` 함수에 구현된 최소 분산 배분을 기본으로 설정했다. 그러나 이 절차는 다른 대체적인 배분 방법의 사용도 허용한다. 측정된 군집 내 가중치를 사용해 군집 간 상관관계를 나타내는 축약된 공분산 행렬인 `cov2`를 도출할 수 있다."
   ],
   "id": "adff7d6aab80051e"
  },
  {
   "metadata": {
    "ExecuteTime": {
     "end_time": "2025-07-12T13:30:28.064223Z",
     "start_time": "2025-07-12T13:30:28.058192Z"
    }
   },
   "cell_type": "code",
   "source": [
    "weight_intra = pd.DataFrame(\n",
    "    0, index = ret.cov().index,\n",
    "    columns = clusters.keys()\n",
    ")"
   ],
   "id": "d9bfa7ba405459d8",
   "outputs": [],
   "execution_count": 5
  },
  {
   "metadata": {
    "ExecuteTime": {
     "end_time": "2025-07-12T13:30:28.928582Z",
     "start_time": "2025-07-12T13:30:28.921932Z"
    }
   },
   "cell_type": "code",
   "source": "weight_intra # 군집 내에서의 최적 배분",
   "id": "4db69aa3cffe0391",
   "outputs": [
    {
     "data": {
      "text/plain": [
       "        0  1  2\n",
       "Ticker         \n",
       "AAPL    0  0  0\n",
       "ABBV    0  0  0\n",
       "ABT     0  0  0\n",
       "ACN     0  0  0\n",
       "ADBE    0  0  0\n",
       "...    .. .. ..\n",
       "V       0  0  0\n",
       "VZ      0  0  0\n",
       "WFC     0  0  0\n",
       "WMT     0  0  0\n",
       "XOM     0  0  0\n",
       "\n",
       "[101 rows x 3 columns]"
      ],
      "text/html": [
       "<div>\n",
       "<style scoped>\n",
       "    .dataframe tbody tr th:only-of-type {\n",
       "        vertical-align: middle;\n",
       "    }\n",
       "\n",
       "    .dataframe tbody tr th {\n",
       "        vertical-align: top;\n",
       "    }\n",
       "\n",
       "    .dataframe thead th {\n",
       "        text-align: right;\n",
       "    }\n",
       "</style>\n",
       "<table border=\"1\" class=\"dataframe\">\n",
       "  <thead>\n",
       "    <tr style=\"text-align: right;\">\n",
       "      <th></th>\n",
       "      <th>0</th>\n",
       "      <th>1</th>\n",
       "      <th>2</th>\n",
       "    </tr>\n",
       "    <tr>\n",
       "      <th>Ticker</th>\n",
       "      <th></th>\n",
       "      <th></th>\n",
       "      <th></th>\n",
       "    </tr>\n",
       "  </thead>\n",
       "  <tbody>\n",
       "    <tr>\n",
       "      <th>AAPL</th>\n",
       "      <td>0</td>\n",
       "      <td>0</td>\n",
       "      <td>0</td>\n",
       "    </tr>\n",
       "    <tr>\n",
       "      <th>ABBV</th>\n",
       "      <td>0</td>\n",
       "      <td>0</td>\n",
       "      <td>0</td>\n",
       "    </tr>\n",
       "    <tr>\n",
       "      <th>ABT</th>\n",
       "      <td>0</td>\n",
       "      <td>0</td>\n",
       "      <td>0</td>\n",
       "    </tr>\n",
       "    <tr>\n",
       "      <th>ACN</th>\n",
       "      <td>0</td>\n",
       "      <td>0</td>\n",
       "      <td>0</td>\n",
       "    </tr>\n",
       "    <tr>\n",
       "      <th>ADBE</th>\n",
       "      <td>0</td>\n",
       "      <td>0</td>\n",
       "      <td>0</td>\n",
       "    </tr>\n",
       "    <tr>\n",
       "      <th>...</th>\n",
       "      <td>...</td>\n",
       "      <td>...</td>\n",
       "      <td>...</td>\n",
       "    </tr>\n",
       "    <tr>\n",
       "      <th>V</th>\n",
       "      <td>0</td>\n",
       "      <td>0</td>\n",
       "      <td>0</td>\n",
       "    </tr>\n",
       "    <tr>\n",
       "      <th>VZ</th>\n",
       "      <td>0</td>\n",
       "      <td>0</td>\n",
       "      <td>0</td>\n",
       "    </tr>\n",
       "    <tr>\n",
       "      <th>WFC</th>\n",
       "      <td>0</td>\n",
       "      <td>0</td>\n",
       "      <td>0</td>\n",
       "    </tr>\n",
       "    <tr>\n",
       "      <th>WMT</th>\n",
       "      <td>0</td>\n",
       "      <td>0</td>\n",
       "      <td>0</td>\n",
       "    </tr>\n",
       "    <tr>\n",
       "      <th>XOM</th>\n",
       "      <td>0</td>\n",
       "      <td>0</td>\n",
       "      <td>0</td>\n",
       "    </tr>\n",
       "  </tbody>\n",
       "</table>\n",
       "<p>101 rows × 3 columns</p>\n",
       "</div>"
      ]
     },
     "execution_count": 6,
     "metadata": {},
     "output_type": "execute_result"
    }
   ],
   "execution_count": 6
  },
  {
   "metadata": {
    "ExecuteTime": {
     "end_time": "2025-07-12T13:30:32.023464Z",
     "start_time": "2025-07-12T13:30:32.017505Z"
    }
   },
   "cell_type": "code",
   "source": [
    "from FinancialMachineLearning.utils.stats import optimizing_portfolio\n",
    "import warnings\n",
    "warnings.filterwarnings('ignore')\n",
    "\n",
    "for i in clusters :\n",
    "    weight_intra.loc[clusters[i], i] = optimizing_portfolio(\n",
    "        cov1.loc[clusters[i], clusters[i]]\n",
    "    ).flatten()\n",
    "cov2 = weight_intra.T.dot(np.dot(cov1, weight_intra))"
   ],
   "id": "6bd46a7afa986452",
   "outputs": [],
   "execution_count": 7
  },
  {
   "metadata": {
    "ExecuteTime": {
     "end_time": "2025-07-12T13:30:32.581903Z",
     "start_time": "2025-07-12T13:30:32.578384Z"
    }
   },
   "cell_type": "code",
   "source": "cov2 # 군집 내 최적 비분의 축약된 공분산 행렬",
   "id": "60263fcbdf5d663d",
   "outputs": [
    {
     "data": {
      "text/plain": [
       "          0         1         2\n",
       "0  0.000503  0.000232  0.000216\n",
       "1  0.000232  0.000405  0.000223\n",
       "2  0.000216  0.000223  0.000370"
      ],
      "text/html": [
       "<div>\n",
       "<style scoped>\n",
       "    .dataframe tbody tr th:only-of-type {\n",
       "        vertical-align: middle;\n",
       "    }\n",
       "\n",
       "    .dataframe tbody tr th {\n",
       "        vertical-align: top;\n",
       "    }\n",
       "\n",
       "    .dataframe thead th {\n",
       "        text-align: right;\n",
       "    }\n",
       "</style>\n",
       "<table border=\"1\" class=\"dataframe\">\n",
       "  <thead>\n",
       "    <tr style=\"text-align: right;\">\n",
       "      <th></th>\n",
       "      <th>0</th>\n",
       "      <th>1</th>\n",
       "      <th>2</th>\n",
       "    </tr>\n",
       "  </thead>\n",
       "  <tbody>\n",
       "    <tr>\n",
       "      <th>0</th>\n",
       "      <td>0.000503</td>\n",
       "      <td>0.000232</td>\n",
       "      <td>0.000216</td>\n",
       "    </tr>\n",
       "    <tr>\n",
       "      <th>1</th>\n",
       "      <td>0.000232</td>\n",
       "      <td>0.000405</td>\n",
       "      <td>0.000223</td>\n",
       "    </tr>\n",
       "    <tr>\n",
       "      <th>2</th>\n",
       "      <td>0.000216</td>\n",
       "      <td>0.000223</td>\n",
       "      <td>0.000370</td>\n",
       "    </tr>\n",
       "  </tbody>\n",
       "</table>\n",
       "</div>"
      ]
     },
     "execution_count": 8,
     "metadata": {},
     "output_type": "execute_result"
    }
   ],
   "execution_count": 8
  },
  {
   "metadata": {},
   "cell_type": "markdown",
   "source": [
    "#### 3. Intercluster Weights\n",
    "\n",
    "NCO 알고리즘의 세 번째 단계는 축약된 공분산 행렬인 cov2를 사용해 최적의 군집 간 배분을 계산하는 것이다. 구상의 이 공분산 행렬은 대각 행렬에 가깝고, 최적화 문제는 이상적인 마코위츠 사례에 가깝다. 즉 군집화와 군집 내 최적화 단계를 통해 ‘마코위츠–저주(Markowitz-cursed)’ 문제($|\\rho| > 0$)를 올바른 작동하는 문제($\\rho \\sim 0$)으로 전환할 수 있다.\n",
    "\n",
    "아래 코드는 이 절차를 구현한다. 군집 내 배분 단계의 경우 `optimizing_portfolio` 함수에서 사용된 것과 동일한 배분 절차를 적용한다. 증권별 최종 배분은 `final_weight` 데이터 프레임에 의해 표현되며, 이는 군집 내 비중과 군집 간 비중을 곱한 결과로 나타난다."
   ],
   "id": "1b8b4623160821e1"
  },
  {
   "metadata": {
    "ExecuteTime": {
     "end_time": "2025-07-12T13:30:35.667337Z",
     "start_time": "2025-07-12T13:30:35.665166Z"
    }
   },
   "cell_type": "code",
   "source": [
    "weight_inter = pd.Series(\n",
    "    optimizing_portfolio(cov2).flatten(),\n",
    "    index = cov2.index\n",
    ")"
   ],
   "id": "637eabd8a289bc3c",
   "outputs": [],
   "execution_count": 9
  },
  {
   "metadata": {
    "ExecuteTime": {
     "end_time": "2025-07-12T13:30:35.998012Z",
     "start_time": "2025-07-12T13:30:35.994388Z"
    }
   },
   "cell_type": "code",
   "source": "weight_inter # 군집 간 배분 비중",
   "id": "647562afe120d133",
   "outputs": [
    {
     "data": {
      "text/plain": [
       "0    0.226402\n",
       "1    0.334619\n",
       "2    0.438979\n",
       "dtype: float64"
      ]
     },
     "execution_count": 10,
     "metadata": {},
     "output_type": "execute_result"
    }
   ],
   "execution_count": 10
  },
  {
   "metadata": {
    "ExecuteTime": {
     "end_time": "2025-07-12T13:30:37.822160Z",
     "start_time": "2025-07-12T13:30:37.819442Z"
    }
   },
   "cell_type": "code",
   "source": [
    "final_weight = weight_intra.mul(\n",
    "    weight_inter, axis = 1\n",
    ").sum(axis = 1).sort_index()"
   ],
   "id": "e3ca08c2cb7db4e8",
   "outputs": [],
   "execution_count": 11
  },
  {
   "metadata": {
    "ExecuteTime": {
     "end_time": "2025-07-12T13:30:38.831211Z",
     "start_time": "2025-07-12T13:30:38.828424Z"
    }
   },
   "cell_type": "code",
   "source": "final_weight",
   "id": "5e285d3a05786224",
   "outputs": [
    {
     "data": {
      "text/plain": [
       "Ticker\n",
       "AAPL    0.009663\n",
       "ABBV   -0.014838\n",
       "ABT    -0.002285\n",
       "ACN     0.019978\n",
       "ADBE   -0.005668\n",
       "          ...   \n",
       "V       0.042866\n",
       "VZ      0.062604\n",
       "WFC     0.006117\n",
       "WMT     0.067304\n",
       "XOM     0.021907\n",
       "Length: 101, dtype: float64"
      ]
     },
     "execution_count": 12,
     "metadata": {},
     "output_type": "execute_result"
    }
   ],
   "execution_count": 12
  },
  {
   "metadata": {},
   "cell_type": "markdown",
   "source": [
    "### Experimental Results\n",
    "\n",
    "이번 절에서는 NCO 알고리즘을 통계된 실험에 적용하고, 그 성능을 마코위츠의 접근법과 비교한다. 2장에서와 마찬가지로 제약 없는 효율적 프론티어의 어떤 구성 포트폴리오도 효율적 프론티어의 두 가지 특성 포트폴리오, 즉 최소 분산 포트폴리오와 최대 샤프 비율 포트폴리오의 블록 조합으로 도출될 수 있기 때문에(분리 정리 separation theorem으로 알려져 있는 결과) 이들에 대해 논의한다.\n",
    "\n",
    "아래 코드는 앞서 소개한 NCO 알고리즘을 구현한다. 인수 `mu`가 `None`이면 최소 분산 포트폴리오를 반환하는 반면, `mu`가 `None`이 아닌 경우 `optPort_nco` 함수는 최대 샤프 비율 포트폴리오를 반환한다."
   ],
   "id": "33a53496ace96796"
  },
  {
   "metadata": {
    "ExecuteTime": {
     "end_time": "2025-07-12T13:30:41.184633Z",
     "start_time": "2025-07-12T13:30:41.176215Z"
    }
   },
   "cell_type": "code",
   "source": "pd.DataFrame(ret.mean())",
   "id": "fbaff135244d10d7",
   "outputs": [
    {
     "data": {
      "text/plain": [
       "               0\n",
       "Ticker          \n",
       "AAPL    0.004600\n",
       "ABBV    0.004179\n",
       "ABT     0.002451\n",
       "ACN     0.002072\n",
       "ADBE    0.001613\n",
       "...          ...\n",
       "V       0.002885\n",
       "VZ      0.000259\n",
       "WFC     0.003469\n",
       "WMT     0.003809\n",
       "XOM     0.003727\n",
       "\n",
       "[101 rows x 1 columns]"
      ],
      "text/html": [
       "<div>\n",
       "<style scoped>\n",
       "    .dataframe tbody tr th:only-of-type {\n",
       "        vertical-align: middle;\n",
       "    }\n",
       "\n",
       "    .dataframe tbody tr th {\n",
       "        vertical-align: top;\n",
       "    }\n",
       "\n",
       "    .dataframe thead th {\n",
       "        text-align: right;\n",
       "    }\n",
       "</style>\n",
       "<table border=\"1\" class=\"dataframe\">\n",
       "  <thead>\n",
       "    <tr style=\"text-align: right;\">\n",
       "      <th></th>\n",
       "      <th>0</th>\n",
       "    </tr>\n",
       "    <tr>\n",
       "      <th>Ticker</th>\n",
       "      <th></th>\n",
       "    </tr>\n",
       "  </thead>\n",
       "  <tbody>\n",
       "    <tr>\n",
       "      <th>AAPL</th>\n",
       "      <td>0.004600</td>\n",
       "    </tr>\n",
       "    <tr>\n",
       "      <th>ABBV</th>\n",
       "      <td>0.004179</td>\n",
       "    </tr>\n",
       "    <tr>\n",
       "      <th>ABT</th>\n",
       "      <td>0.002451</td>\n",
       "    </tr>\n",
       "    <tr>\n",
       "      <th>ACN</th>\n",
       "      <td>0.002072</td>\n",
       "    </tr>\n",
       "    <tr>\n",
       "      <th>ADBE</th>\n",
       "      <td>0.001613</td>\n",
       "    </tr>\n",
       "    <tr>\n",
       "      <th>...</th>\n",
       "      <td>...</td>\n",
       "    </tr>\n",
       "    <tr>\n",
       "      <th>V</th>\n",
       "      <td>0.002885</td>\n",
       "    </tr>\n",
       "    <tr>\n",
       "      <th>VZ</th>\n",
       "      <td>0.000259</td>\n",
       "    </tr>\n",
       "    <tr>\n",
       "      <th>WFC</th>\n",
       "      <td>0.003469</td>\n",
       "    </tr>\n",
       "    <tr>\n",
       "      <th>WMT</th>\n",
       "      <td>0.003809</td>\n",
       "    </tr>\n",
       "    <tr>\n",
       "      <th>XOM</th>\n",
       "      <td>0.003727</td>\n",
       "    </tr>\n",
       "  </tbody>\n",
       "</table>\n",
       "<p>101 rows × 1 columns</p>\n",
       "</div>"
      ]
     },
     "execution_count": 13,
     "metadata": {},
     "output_type": "execute_result"
    }
   ],
   "execution_count": 13
  },
  {
   "metadata": {
    "ExecuteTime": {
     "end_time": "2025-07-12T13:30:47.347934Z",
     "start_time": "2025-07-12T13:30:46.608728Z"
    }
   },
   "cell_type": "code",
   "source": [
    "from FinancialMachineLearning.machine_learning.clustering import nested_clustered_optimization\n",
    "\n",
    "nco = nested_clustered_optimization(\n",
    "    cov = cov1, # empirical Covariance\n",
    "    mu = None,\n",
    "    maxNumClusters = 10\n",
    ")"
   ],
   "id": "dd17c41414078dfc",
   "outputs": [],
   "execution_count": 14
  },
  {
   "metadata": {},
   "cell_type": "markdown",
   "source": [
    "#### 1. Minimum Variance Portfolio\n",
    "\n",
    "아래의 코드는 50개 증권 포트폴리오의 전형적 버전을 나타내는 랜덤 평균 벡터와 랜덤 공분산 행렬을 생성하며, 군집 내 상관관계가 0.5인 10개 블록으로 그룹화한다. 이 벡터와 행렬은 관측치를 생성하는 ‘실제’ 프로세스의 특성을 나타낸다. 다른 파라미터를 사용해 여러 시행 결과를 재현하고 비교하기 위한 시드(seed)를 설정했다. 함수 `formTrueMatrix`는 2장에서 선언됐다."
   ],
   "id": "330b33163cd9486"
  },
  {
   "metadata": {
    "ExecuteTime": {
     "end_time": "2025-07-12T13:30:50.581573Z",
     "start_time": "2025-07-12T13:30:50.575615Z"
    }
   },
   "cell_type": "code",
   "source": [
    "mu0 = np.array([ret.mean().values]).T\n",
    "cov0 = ret.cov().values"
   ],
   "id": "aa0cc25b06e0582e",
   "outputs": [],
   "execution_count": 15
  },
  {
   "metadata": {},
   "cell_type": "markdown",
   "source": "아래의 코드는 `simCovMu` 함수를 사용해 실제 프로세스에서 도출된 1,000개의 관측치를 기반으로 랜덤 경험적 평균 벡터와 랜덤 경험적 공분산 행렬을 시뮬레이션한다(2장에 명시됨). `shrink=True`일 때 경험적 공분산 행렬은 레드와-울프의 축소 방법을 따른다. 경험적 공분산 행렬을 사용해 함수 `optPort`(2장에서도 선언됨)는 마코위츠에 따른 최소 분산 포트폴리오를 추정하며, 함수 `optPort_nco`는 $\\text{NCO}$ 알고리즘을 적용해 최소 분산 포트폴리오를 추정한다. 이 절차는 1,000개의 서로 다른 랜덤 경험적 공분산 행렬에 반복된다. `minVarPortf=True`이면 랜덤 경험적 평균 벡터는 사용되지 않는다는 점을 주목하자.",
   "id": "b8aaaa9a7c193362"
  },
  {
   "metadata": {
    "ExecuteTime": {
     "end_time": "2025-07-12T13:43:06.212832Z",
     "start_time": "2025-07-12T13:31:22.007643Z"
    }
   },
   "cell_type": "code",
   "source": [
    "from tqdm import tqdm\n",
    "\n",
    "number_of_simulation = 100\n",
    "\n",
    "mu1 = ret.mean()\n",
    "w1 = pd.Series(dtype = float)\n",
    "w1_d = pd.Series(dtype = float)\n",
    "\n",
    "for i in tqdm(range(number_of_simulation)) : # 시간복잡도는 O(100^3)이므로 과부하에 주의\n",
    "    w1.loc[i] = optimizing_portfolio(cov1, mu1).flatten()\n",
    "    w1_d.loc[i] = nested_clustered_optimization(\n",
    "        cov1, \n",
    "        mu = mu1, \n",
    "        maxNumClusters = int(ret.cov().shape[0] / 2)\n",
    "    ).flatten()"
   ],
   "id": "edad565abaa42af0",
   "outputs": [
    {
     "name": "stderr",
     "output_type": "stream",
     "text": [
      "100%|██████████| 100/100 [11:44<00:00,  7.04s/it]\n"
     ]
    }
   ],
   "execution_count": 17
  },
  {
   "metadata": {},
   "cell_type": "markdown",
   "source": "아래의 코드는 실제 공분산 행렬에서 파생된 실제 최소 분산 포트폴리오를 계산한다. 그런 배분을 벤치마크로 사용해 모든 비중에 대한 $\\text{RMSE}$를 계산한다. 시뮬레이션에서 축소한 경우와 아닌 경우를 실행할 수 있으므로 표에 표시된 네 가지 조합을 얻을 수 있다.",
   "id": "fb39cc0cfa38fc"
  },
  {
   "metadata": {
    "ExecuteTime": {
     "end_time": "2025-07-12T13:50:21.224193Z",
     "start_time": "2025-07-12T13:50:21.218463Z"
    }
   },
   "cell_type": "code",
   "source": "w0 = optimizing_portfolio(ret.cov(), None)",
   "id": "b15fbff6534dc444",
   "outputs": [],
   "execution_count": 46
  },
  {
   "metadata": {
    "ExecuteTime": {
     "end_time": "2025-07-12T13:50:21.555430Z",
     "start_time": "2025-07-12T13:50:21.553495Z"
    }
   },
   "cell_type": "code",
   "source": "w0 = np.repeat(w0.T,w1.shape[0], axis = 0)",
   "id": "fb57384ca702428b",
   "outputs": [],
   "execution_count": 47
  },
  {
   "metadata": {
    "ExecuteTime": {
     "end_time": "2025-07-12T13:50:21.847228Z",
     "start_time": "2025-07-12T13:50:21.844287Z"
    }
   },
   "cell_type": "code",
   "source": "rmsd = np.mean((np.array(w1.tolist()) - w0).flatten() ** 2) ** 0.5",
   "id": "fc9ff9f81243a358",
   "outputs": [],
   "execution_count": 48
  },
  {
   "metadata": {
    "ExecuteTime": {
     "end_time": "2025-07-12T13:50:22.215916Z",
     "start_time": "2025-07-12T13:50:22.213813Z"
    }
   },
   "cell_type": "code",
   "source": "rmsd_d = np.mean((np.array(w1_d.tolist()) - w0).flatten() ** 2) ** 0.5",
   "id": "414afb967c98b0e0",
   "outputs": [],
   "execution_count": 49
  },
  {
   "metadata": {
    "ExecuteTime": {
     "end_time": "2025-07-12T13:50:22.574968Z",
     "start_time": "2025-07-12T13:50:22.572932Z"
    }
   },
   "cell_type": "code",
   "source": [
    "print(f'RMSD using mean variance optimization : {rmsd :.4f}')\n",
    "print(f'RMSD using nested clustered optimization : {rmsd_d :.4f}')"
   ],
   "id": "421c498d2ee2821e",
   "outputs": [
    {
     "name": "stdout",
     "output_type": "stream",
     "text": [
      "RMSD using mean variance optimization : 0.1604\n",
      "RMSD using nested clustered optimization : 0.1451\n"
     ]
    }
   ],
   "execution_count": 50
  },
  {
   "metadata": {},
   "cell_type": "markdown",
   "source": [
    "||마코위츠|NCO|\n",
    "|:---|:---:|:---:|\n",
    "|원|7.95E-03|4.21E-03|\n",
    "|축소|8.89E-03|6.74E-03|\n",
    "\n",
    "$\\text{NCO}$는 마코위츠 $\\text{RMSE}$의 52.98%인 최소 분산 포트폴리오를 계산한다. 즉 $\\text{RMSE}$의 47.02%가 감소한다. 르드와-울프 축소법은 $\\text{RMSE}$를 감소시키는 데 도움을 주는데, 그 감소는 11.81% 정도로 상대적으로 적다. 축소와 $\\text{NCO}$를 결합하면 $\\text{RMSE}$가 15.30% 감소하는데, 이는 축소보다는 낮지만 $\\text{NCO}$보다 못하다.\n",
    "\n",
    "$\\text{NCO}$가 마코위츠 해보다 훨씬 낮은 $\\text{RMSE}$를 50개 증권으로 구성된 소규모 포트폴리오에서도 제공하고 있으며, 축소법은 아무런 가치가 더하지 않는다는 것을 시사한다. $\\text{NCO}$의 장점은 더 큰 포트폴리오에서 더 커진다는 것을 테스트하는 것은 쉽다."
   ],
   "id": "39b9b47d3c790f29"
  },
  {
   "metadata": {},
   "cell_type": "markdown",
   "source": [
    "#### 2. Maximum Sharpe Ratio Portfolio\n",
    "\n",
    "`minVarPortf=False`를 설정하고, 위 과정을 다시 실행해 최대 샤프 비율 포트폴리오와 관련된 $\\text{RMSE}$를 도출할 수 있다. 아래의 표는 이 실험의 결과를 보고한다.\n",
    "\n",
    "$\\text{NCO}$는 마코위츠 $\\text{RMSE}$의 45.17%로 최대 샤프 비율 포트폴리오를 계산한다. 즉 $\\text{RMSE}$의 54.83%가 감소한다. 축소법과 $\\text{NCO}$의 조합은 최대 샤프 비율 포트폴리오의 $\\text{RMSE}$를 18.52% 감소하는데, 감소량이 축소법보다는 낮지만 $\\text{NCO}$보다는 나쁘다. 다시 말하지만, $\\text{NCO}$는 마코위츠의 해보다 훨씬 낮은 $\\text{RMSE}$를 제공한다. 축소법은 거의 아무런 효과가 없다. \n",
    "$\\text{NCO}$를 사용하도록 하자.\n",
    "\n",
    "||   마코위츠   |   NCO    |\n",
    "|:---|:--------:|:--------:|\n",
    "|원| 7.02E-02 | 3.17E-02 |\n",
    "|축소| 6.54E-02 | 5.72E-02 |\n"
   ],
   "id": "b3c9e3e440396082"
  },
  {
   "metadata": {},
   "cell_type": "markdown",
   "source": [
    "### Conclusions\n",
    "\n",
    "마코위츠의 포트폴리오 최적화 프레임워크는 수학적으로 정확하지만, 그것의 실제 적용은 수치적인 문제로 어려움을 겪고 있다. 특히 금융 공분산 행렬은 잡음과 신호 때문에 조건 수가 높게 나타난다. 이러한 공분산 행렬의 역행렬은, 추정 오차를 확대해서 불안정한 해법으로 이어진다. 관측 행렬에서 몇 개의 행을 변경하면 완전히 다른 배분이 발생할 수 있다. 배분 추정기가 불편성을 갖더라도 이러한 불안정한 해와 관련된 분산은 큰 거래비용으로 이어져 수익성의 많은 부분을 없앨 수 있다.\n",
    "\n",
    "7장에서는 마코위츠의 불안정 문제의 근원을 상관 행렬의 고유값 함수의 모양으로 추적해 봤다. 수평적 고유값 함수는 마코위츠의 프레임워크에 이상적이다. 증권 군집이 나뉘지 투자 유니버스에 비해 그들 사이에 더 큰 상관관계를 보이는 금융에서 고유값 함수는 수평이 아니며, 이는 다시 높은 조건 수의 원인이 된다. 잡음이 아니라 신호가 이런 유형의 공분산 불안정성의 원인이다.\n",
    "\n",
    "최적화 문제를 군집당 하나의 최적화를 계산하고 모든 군집에 걸쳐 하나의 최종 최적화를 계산하는 식으로 몇 가지 문제로 나눠 이러한 불안정성을 다루고자 $\\text{NCO}$ 알고리즘을 도입했다. 각 증권은 각각 하나의 군집에만 속하기 때문에 최종 배분은 군집 내와 군집 간 비중의 곱이다. 실험 결과는 이러한 이중 군집화 접근법이 마코위츠의 추정 오류를 현저하게 줄일 수 있다는 점을 보여 준다. $\\text{NCO}$ 알고리즘은 유연하며 블랙–리터먼(Black–Litterman), 축소법, 역최적화 또는 제약 없는 최적화 접근법과 같은 다른 프레임워크와 결합해 활용할 수 있다. $\\text{NCO}$를 일반 최적화 문제를 하위 문제로 나누는 전략으로 생각할 수 있으며, 이는 연구자가 선호하는 방법으로 해결할 수 있다.\n",
    "\n",
    "다른 많은 머신러닝 알고리즘과 마찬가지로 $\\text{NCO}$는 유연하고 모듈적이다. 예를 들어, 상관 행렬이 군집 내에 군집이 있는 강력한 계층 구조를 보이는 경우 행렬의 트리 같은 구조를 모방해 각 군집과 하위 군집 내에서 $\\text{NCO}$ 알고리즘을 적용할 수 있다. 목표는 트리의 각 수준에서 수치적 불안정성을 억제해 하위 군집 내의 불안정성이 상위 군집 또는 나머지 상관 행렬로 확장되지 않도록 하는 것이다.\n",
    "\n",
    "7장에 요약된 몬테카를로 접근 방식을 따라 특정 입력 변수 집합에 대한 다양한 최적화 방법에 의해 생성된 배분 오차를 추정할 수 있었다. 그 결과로 어떤 방법이 특정한 경우에 가장 강건한지에 대해 정확하게 결정할 수 있었다. 따라서 항상 하나의 특정 접근법에 의존하기보다는 특정 환경에 가장 적합한 최적화 방법을 기회적으로 적용할 수 있다."
   ],
   "id": "792639de44679ff9"
  }
 ],
 "metadata": {
  "kernelspec": {
   "display_name": "Python 3",
   "language": "python",
   "name": "python3"
  },
  "language_info": {
   "codemirror_mode": {
    "name": "ipython",
    "version": 2
   },
   "file_extension": ".py",
   "mimetype": "text/x-python",
   "name": "python",
   "nbconvert_exporter": "python",
   "pygments_lexer": "ipython2",
   "version": "2.7.6"
  }
 },
 "nbformat": 4,
 "nbformat_minor": 5
}

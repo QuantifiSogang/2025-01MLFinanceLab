{
 "cells": [
  {
   "metadata": {},
   "cell_type": "markdown",
   "source": [
    "## Bagging Classifiers and Uniqueness\n",
    "\n",
    "$I$개 아이템을 가진 집합에서 $I$번 복원 추출 후 특정 아이템 $i$가 선택되지 않을 확률은 $(1 - I^{-1})^{I}$이다. 표본 크기가 커질수록 확률은 점근적으로 점근값 $\\lim_{I \\rightarrow \\infty} (1-I^{-1})^I = e^{-1}$로 수렴한다. 이는 추출된 고유한 관측치 개수의 기대값이 $(1 - e^{-1}) \\approx \\frac{2}{3}$라는 뜻이 된다."
   ],
   "id": "59a6ff04ee4456dd"
  },
  {
   "metadata": {},
   "cell_type": "markdown",
   "source": [
    "### 첫 번째 방법\n",
    "\n",
    "부트스트랩을 실행하기 전에 중첩된 결과들을 삭제하는 것이다. 중첩이 완전한 것이 아니므로, 부분적 중첩이 있다고 해서 무조건 관측치를 삭제하면 많은 정보 손실이 발생한다."
   ],
   "id": "bd67b5830a3587d"
  },
  {
   "metadata": {},
   "cell_type": "markdown",
   "source": [
    "### 두 번째 방법\n",
    "\n",
    "두 번째 방법은 평균 고유도 $I^{-1} \\sum_{i=1}^I \\bar{u_i}$를 활용해 불필요한 정보를 가진 결과가 과도한 영향을 미치는 것을 감소시키는 것이다. 이에 따라 관측값의 일부인 `out['tW'].mean()`을 표본 추출하거나 작은 몇 배수 정도 표본 추출한다. `sklearn`의 `sklearn.ensemble.BaggingClassifier` class는 인수 `max_samples`를 받아들이는데 이 값은 `max_samples = out['tW'].mean()`으로 설정한다. 이러한 방법으로 in bag관측값이 고유도보다 훨씬 더 빈번하게 표본 추출되는 일이 없도록 한다. Random Forest의 경우 `max_samples`의 기능이 0.22버전으로 업데이트 되면서 생성되었다."
   ],
   "id": "244ba15cf4a9a58a"
  },
  {
   "metadata": {},
   "cell_type": "markdown",
   "source": [
    "### 세 번째 방법 : Sequential Bootstrapping\n",
    "\n",
    "세 번째이자 더 나은 해법은 순차적 복원추출법을 실행하는 것인데 중복을 통제하는 확률 변화에 따라 추출이 이뤄진다. Rao 등은 K개의 구분되는 원시 관측값이 나타날 때까지 복원을 동반한 순차적 표본추출법을 제안했다. 이는 흥미롭기는 하지만, 그들의 제안은 우리가 가진 금융 문제에는 적용하지 못한다. 이번 절에서는 중첩된 결과의 문제를 직접 해결하는 대체 방법을 소개한다.\n",
    "\n",
    "첫째, 관측값 $X_i$는 uniform distribution $i \\sim U(1,I)$에서 추출된다. 즉 특정값 $i$를 추출할 확률은 원래 $\\delta_j^{(i)} = I^{-1}$이다. 두 번째 추출에 대해서 우리는 높은 중첩 결과를 가진 $X_j$가 추출될 확률을 낮추고자 한다. bootstrapping은 중복 추출이 허용되므로 $X_i$가 추출될 수 있다는 것을 기억하자. 그러나 $X_i$와 그 자신 사이에는 중첩이 있으므로 그 확률을 낮추고자 한다. 반복이 허용된 현재까지의 추출 시퀀스를 $\\varphi$라고 하자. 현재까지는 $\\varphi^{(1)} = \\{i\\}$라는 것을 알고 있다. 시각 $t$에서의 $j$의 고유도는 $u_{t,j}^{(2)} = 1_{t,j} \\left( 1 + \\sum_{k \\in \\varphi^{(1)}} 1_{t,k}\\right)^{-1}$이다. 이는 기존에 추출된 시퀀스 $\\varphi^{(1)}$에 다른 $J$들을 추가해 얻는 고유도의 결과이다. $j$의 고유도 평균은 $j$의 생애 주기 동안의 평균 $u_{t,j}^{(2)}$이다.\n",
    "\n",
    "$$\\bar{u}_{j}^{(2)} = \\left( \\sum_{t=1}^T u_{t,j}\\right) \\left( \\sum_{t=1}^T 1_{t,j}\\right)^{-1}$$\n",
    "\n",
    "이제 갱신된 확률 $\\{ \\delta_{j}^{(2)} \\}_{j=1, \\dots, I}$에 기반을 둔 두 번째 추출을 할 수 있다\n",
    "\n",
    "$$\\delta_{j}^{(2)} = \\bar{u}_{j}^{(2)} \\left( \\sum_{k=1}^I \\bar{u}_k^{(2)} \\right)^{-1}$$"
   ],
   "id": "e71ca40322f9d9e6"
  },
  {
   "metadata": {
    "ExecuteTime": {
     "end_time": "2025-02-14T11:11:54.521798Z",
     "start_time": "2025-02-14T11:11:51.968244Z"
    }
   },
   "cell_type": "code",
   "source": [
    "import numpy as np\n",
    "import pandas as pd\n",
    "import matplotlib.pyplot as plt\n",
    "import yfinance as yf\n",
    "\n",
    "from FinancialMachineLearning.labeling.labeling import *\n",
    "from FinancialMachineLearning.features.volatility import daily_volatility\n",
    "\n",
    "start_date = '2000-01-01'\n",
    "end_date = '2025-02-14'\n",
    "ticker = 'AAPL'\n",
    "data = yf.download(\n",
    "    ticker, \n",
    "    start = start_date, \n",
    "    end = end_date\n",
    ")"
   ],
   "id": "93d90f122a9fe75d",
   "outputs": [
    {
     "name": "stderr",
     "output_type": "stream",
     "text": [
      "[*********************100%%**********************]  1 of 1 completed\n"
     ]
    }
   ],
   "execution_count": 1
  },
  {
   "metadata": {
    "ExecuteTime": {
     "end_time": "2025-02-14T11:11:54.528948Z",
     "start_time": "2025-02-14T11:11:54.523012Z"
    }
   },
   "cell_type": "code",
   "source": [
    "vertical_barrier = add_vertical_barrier(\n",
    "    data.index, \n",
    "    data['Close'], \n",
    "    num_days = 15 # expariation limit\n",
    ")\n",
    "vertical_barrier.head()"
   ],
   "id": "f9caa45a1cf4c28c",
   "outputs": [
    {
     "data": {
      "text/plain": [
       "Date\n",
       "2000-01-03   2000-01-18\n",
       "2000-01-04   2000-01-19\n",
       "2000-01-05   2000-01-20\n",
       "2000-01-06   2000-01-21\n",
       "2000-01-07   2000-01-24\n",
       "Name: Date, dtype: datetime64[ns]"
      ]
     },
     "execution_count": 2,
     "metadata": {},
     "output_type": "execute_result"
    }
   ],
   "execution_count": 2
  },
  {
   "metadata": {
    "ExecuteTime": {
     "end_time": "2025-02-14T11:11:54.534020Z",
     "start_time": "2025-02-14T11:11:54.530507Z"
    }
   },
   "cell_type": "code",
   "source": [
    "volatility = daily_volatility(\n",
    "    data['Close'], \n",
    "    lookback = 60 # moving average span\n",
    ")"
   ],
   "id": "74f845c12c0aba13",
   "outputs": [],
   "execution_count": 3
  },
  {
   "metadata": {
    "ExecuteTime": {
     "end_time": "2025-02-14T11:11:59.178434Z",
     "start_time": "2025-02-14T11:11:56.358699Z"
    }
   },
   "cell_type": "code",
   "source": [
    "triple_barrier_events = get_events(\n",
    "    close = data['Close'],\n",
    "    t_events = data.index[2:],\n",
    "    pt_sl = [2, 1], # profit taking 2, stopping loss 1\n",
    "    target = volatility, # dynamic threshold\n",
    "    min_ret = 0.01, # minimum position return\n",
    "    num_threads = 1, # number of multi-thread \n",
    "    vertical_barrier_times = vertical_barrier, # add vertical barrier\n",
    "    side_prediction = None # betting side prediction (primary model)\n",
    ")\n",
    "triple_barrier_events.head()"
   ],
   "id": "c9baf37a09e3f80d",
   "outputs": [
    {
     "data": {
      "text/plain": [
       "                   t1      trgt  pt  sl\n",
       "Date                                   \n",
       "2000-01-07 2000-01-11  0.016797   2   1\n",
       "2000-01-10 2000-01-12  0.026415   2   1\n",
       "2000-01-11 2000-01-12  0.024043   2   1\n",
       "2000-01-12 2000-01-13  0.031168   2   1\n",
       "2000-01-13 2000-01-19  0.050703   2   1"
      ],
      "text/html": [
       "<div>\n",
       "<style scoped>\n",
       "    .dataframe tbody tr th:only-of-type {\n",
       "        vertical-align: middle;\n",
       "    }\n",
       "\n",
       "    .dataframe tbody tr th {\n",
       "        vertical-align: top;\n",
       "    }\n",
       "\n",
       "    .dataframe thead th {\n",
       "        text-align: right;\n",
       "    }\n",
       "</style>\n",
       "<table border=\"1\" class=\"dataframe\">\n",
       "  <thead>\n",
       "    <tr style=\"text-align: right;\">\n",
       "      <th></th>\n",
       "      <th>t1</th>\n",
       "      <th>trgt</th>\n",
       "      <th>pt</th>\n",
       "      <th>sl</th>\n",
       "    </tr>\n",
       "    <tr>\n",
       "      <th>Date</th>\n",
       "      <th></th>\n",
       "      <th></th>\n",
       "      <th></th>\n",
       "      <th></th>\n",
       "    </tr>\n",
       "  </thead>\n",
       "  <tbody>\n",
       "    <tr>\n",
       "      <th>2000-01-07</th>\n",
       "      <td>2000-01-11</td>\n",
       "      <td>0.016797</td>\n",
       "      <td>2</td>\n",
       "      <td>1</td>\n",
       "    </tr>\n",
       "    <tr>\n",
       "      <th>2000-01-10</th>\n",
       "      <td>2000-01-12</td>\n",
       "      <td>0.026415</td>\n",
       "      <td>2</td>\n",
       "      <td>1</td>\n",
       "    </tr>\n",
       "    <tr>\n",
       "      <th>2000-01-11</th>\n",
       "      <td>2000-01-12</td>\n",
       "      <td>0.024043</td>\n",
       "      <td>2</td>\n",
       "      <td>1</td>\n",
       "    </tr>\n",
       "    <tr>\n",
       "      <th>2000-01-12</th>\n",
       "      <td>2000-01-13</td>\n",
       "      <td>0.031168</td>\n",
       "      <td>2</td>\n",
       "      <td>1</td>\n",
       "    </tr>\n",
       "    <tr>\n",
       "      <th>2000-01-13</th>\n",
       "      <td>2000-01-19</td>\n",
       "      <td>0.050703</td>\n",
       "      <td>2</td>\n",
       "      <td>1</td>\n",
       "    </tr>\n",
       "  </tbody>\n",
       "</table>\n",
       "</div>"
      ]
     },
     "execution_count": 4,
     "metadata": {},
     "output_type": "execute_result"
    }
   ],
   "execution_count": 4
  },
  {
   "metadata": {
    "ExecuteTime": {
     "end_time": "2025-02-14T11:11:59.199547Z",
     "start_time": "2025-02-14T11:11:59.179293Z"
    }
   },
   "cell_type": "code",
   "source": "triple_barrier_events.to_parquet('triple_barrier_events.parquet')",
   "id": "3dab9155704a1d97",
   "outputs": [],
   "execution_count": 5
  },
  {
   "metadata": {},
   "cell_type": "markdown",
   "source": [
    "#### Sequential Bootstrapping의 구현\n",
    "\n",
    "아래의 코드는 두 인수로부터 지표 행렬(indicator matrix)을 도출하는데, 두 인수는 각각 바의 인덱스와 t1이며, chapter 3에서 출력된 것이다. 함수의 출력은 어떤 바가 각 관측값의 레이블에 영향을 미치는지를 알려주는 이진 행렬이다"
   ],
   "id": "a2db577dfeb21919"
  },
  {
   "metadata": {
    "ExecuteTime": {
     "end_time": "2025-02-14T11:12:01.075342Z",
     "start_time": "2025-02-14T11:12:00.886641Z"
    }
   },
   "cell_type": "code",
   "source": [
    "from FinancialMachineLearning.sample_weights.bootstrapping import *\n",
    "\n",
    "ind_mat = get_indicator_matrix(\n",
    "    triple_barrier_events.index.to_series(),\n",
    "    triple_barrier_events['t1']\n",
    ")"
   ],
   "id": "3c787421818f832",
   "outputs": [],
   "execution_count": 6
  },
  {
   "metadata": {},
   "cell_type": "markdown",
   "source": "아래의 코드는 각 특성 관측값의 고유도 평균을 반환한다. 입력은 위에서 출력된 지표 행렬이다",
   "id": "c6d9167a06bc7334"
  },
  {
   "metadata": {
    "ExecuteTime": {
     "end_time": "2025-02-14T11:12:02.885796Z",
     "start_time": "2025-02-14T11:12:02.449932Z"
    }
   },
   "cell_type": "code",
   "source": "avg_uniqueness_ind = ind_mat_average_uniqueness(ind_mat)",
   "id": "302bb493375ba557",
   "outputs": [],
   "execution_count": 7
  },
  {
   "metadata": {
    "ExecuteTime": {
     "end_time": "2025-02-14T11:12:04.057926Z",
     "start_time": "2025-02-14T11:12:03.927268Z"
    }
   },
   "cell_type": "code",
   "source": [
    "fig, ax = plt.subplots(figsize = (8, 5))\n",
    "plt.plot(\n",
    "    avg_uniqueness_ind,\n",
    "    color = 'lightgray'\n",
    ")\n",
    "for spine in ax.spines.values():\n",
    "    spine.set_visible(False)\n",
    "plt.grid(False)\n",
    "ax.yaxis.grid(True, ls = ':', alpha = 0.5) \n",
    "plt.xlabel('dates')\n",
    "plt.ylabel('average uniqueness')\n",
    "plt.title('Average Uniqueness | indicator matrix')\n",
    "plt.show()"
   ],
   "id": "cc51f9cd18e4a03c",
   "outputs": [
    {
     "data": {
      "text/plain": [
       "<Figure size 800x500 with 1 Axes>"
      ],
      "image/png": "[encoded data removed]"
     },
     "metadata": {},
     "output_type": "display_data"
    }
   ],
   "execution_count": 8
  },
  {
   "metadata": {},
   "cell_type": "markdown",
   "source": "아래의 코드는 순차적 표본추출법에 의해 표본 추출된 특성의 인덱스를 출력한다. 입력은 지표행렬이자 최적의 표본 추출 길이 이며, 기본값은 지표행렬에 있는 행의 개수만큼 추출한 값이다",
   "id": "f5787312d7f3e166"
  },
  {
   "metadata": {
    "ExecuteTime": {
     "end_time": "2025-02-14T11:12:56.865925Z",
     "start_time": "2025-02-14T11:12:09.134293Z"
    }
   },
   "cell_type": "code",
   "source": [
    "phi = seq_bootstrap(\n",
    "    ind_mat.values,\n",
    "    random_state = np.random.RandomState(42)\n",
    ")"
   ],
   "id": "e2ec215eb71620ff",
   "outputs": [
    {
     "ename": "KeyboardInterrupt",
     "evalue": "",
     "output_type": "error",
     "traceback": [
      "\u001B[0;31m---------------------------------------------------------------------------\u001B[0m",
      "\u001B[0;31mKeyboardInterrupt\u001B[0m                         Traceback (most recent call last)",
      "Cell \u001B[0;32mIn[9], line 1\u001B[0m\n\u001B[0;32m----> 1\u001B[0m phi \u001B[38;5;241m=\u001B[39m seq_bootstrap(\n\u001B[1;32m      2\u001B[0m     ind_mat\u001B[38;5;241m.\u001B[39mvalues,\n\u001B[1;32m      3\u001B[0m     random_state \u001B[38;5;241m=\u001B[39m np\u001B[38;5;241m.\u001B[39mrandom\u001B[38;5;241m.\u001B[39mRandomState(\u001B[38;5;241m42\u001B[39m)\n\u001B[1;32m      4\u001B[0m )\n",
      "File \u001B[0;32m~/Desktop/Pycharm/2024-02SeniorMLFinance/FinancialMachineLearning/sample_weights/bootstrapping.py:99\u001B[0m, in \u001B[0;36mseq_bootstrap\u001B[0;34m(ind_mat, sample_length, warmup_samples, compare, verbose, random_state)\u001B[0m\n\u001B[1;32m     97\u001B[0m prev_concurrency \u001B[38;5;241m=\u001B[39m np\u001B[38;5;241m.\u001B[39mzeros(ind_mat\u001B[38;5;241m.\u001B[39mshape[\u001B[38;5;241m0\u001B[39m])\n\u001B[1;32m     98\u001B[0m \u001B[38;5;28;01mwhile\u001B[39;00m \u001B[38;5;28mlen\u001B[39m(phi) \u001B[38;5;241m<\u001B[39m sample_length:\n\u001B[0;32m---> 99\u001B[0m     avg_unique \u001B[38;5;241m=\u001B[39m _bootstrap_loop_run(ind_mat, prev_concurrency)\n\u001B[1;32m    100\u001B[0m     prob \u001B[38;5;241m=\u001B[39m avg_unique \u001B[38;5;241m/\u001B[39m np\u001B[38;5;241m.\u001B[39msum(avg_unique)\n\u001B[1;32m    101\u001B[0m     \u001B[38;5;28;01mtry\u001B[39;00m:\n",
      "File \u001B[0;32m~/anaconda3/envs/FinancialMachineLearning/lib/python3.11/site-packages/numba/core/serialize.py:30\u001B[0m, in \u001B[0;36m_numba_unpickle\u001B[0;34m(address, bytedata, hashed)\u001B[0m\n\u001B[1;32m     26\u001B[0m \u001B[38;5;66;03m# Keep unpickled object via `numba_unpickle` alive.\u001B[39;00m\n\u001B[1;32m     27\u001B[0m _unpickled_memo \u001B[38;5;241m=\u001B[39m {}\n\u001B[0;32m---> 30\u001B[0m \u001B[38;5;28;01mdef\u001B[39;00m \u001B[38;5;21m_numba_unpickle\u001B[39m(address, bytedata, hashed):\n\u001B[1;32m     31\u001B[0m \u001B[38;5;250m    \u001B[39m\u001B[38;5;124;03m\"\"\"Used by `numba_unpickle` from _helperlib.c\u001B[39;00m\n\u001B[1;32m     32\u001B[0m \n\u001B[1;32m     33\u001B[0m \u001B[38;5;124;03m    Parameters\u001B[39;00m\n\u001B[0;32m   (...)\u001B[0m\n\u001B[1;32m     42\u001B[0m \u001B[38;5;124;03m        unpickled object\u001B[39;00m\n\u001B[1;32m     43\u001B[0m \u001B[38;5;124;03m    \"\"\"\u001B[39;00m\n\u001B[1;32m     44\u001B[0m     key \u001B[38;5;241m=\u001B[39m (address, hashed)\n",
      "\u001B[0;31mKeyboardInterrupt\u001B[0m: "
     ]
    }
   ],
   "execution_count": 9
  },
  {
   "metadata": {
    "ExecuteTime": {
     "end_time": "2025-02-14T11:12:56.866829Z",
     "start_time": "2025-02-14T11:12:56.866762Z"
    }
   },
   "cell_type": "code",
   "source": "sequence_uniqueness = ind_mat_average_uniqueness(ind_mat[phi])",
   "id": "3d12cc7798ca168",
   "outputs": [],
   "execution_count": null
  },
  {
   "metadata": {},
   "cell_type": "code",
   "source": [
    "fig, ax = plt.subplots(figsize = (8, 5))\n",
    "plt.plot(\n",
    "    sequence_uniqueness,\n",
    "    color = 'lightgray'\n",
    ")\n",
    "for spine in ax.spines.values():\n",
    "    spine.set_visible(False)\n",
    "plt.grid(False)\n",
    "ax.yaxis.grid(True, ls = ':', alpha = 0.5) \n",
    "plt.xlabel('dates')\n",
    "plt.ylabel('sequence uniqueness')\n",
    "plt.title('Sequence Uniqueness')\n",
    "plt.show()"
   ],
   "id": "4211723c84ad2379",
   "outputs": [],
   "execution_count": null
  },
  {
   "metadata": {},
   "cell_type": "code",
   "source": [
    "import seaborn as sns\n",
    "fig, ax = plt.subplots(figsize = (8, 5))\n",
    "sns.histplot(\n",
    "    sequence_uniqueness, \n",
    "    bins = 50, \n",
    "    kde = True, \n",
    "    edgecolor = 'none',\n",
    "    ax = ax,\n",
    "    label = 'sequence uniqueness'\n",
    ")\n",
    "for spine in ax.spines.values():\n",
    "    spine.set_visible(False)\n",
    "plt.grid(False)\n",
    "ax.yaxis.grid(True, ls = ':', alpha = 0.5) \n",
    "plt.axvline(\n",
    "    sequence_uniqueness.median(), \n",
    "    color = 'darkorange', \n",
    "    alpha = 0.75, \n",
    "    ls = '-.', \n",
    "    label = 'median'\n",
    ")\n",
    "plt.axvline(\n",
    "    sequence_uniqueness.mean(), \n",
    "    color = 'red', \n",
    "    alpha = 0.75,\n",
    "    ls = '-.', \n",
    "    label = 'mean'\n",
    ")\n",
    "plt.legend()\n",
    "plt.xlabel('sequence uniqueness')\n",
    "plt.ylabel('counts')\n",
    "plt.title('Histogram of Sequence Uniqueness')\n",
    "plt.show()"
   ],
   "id": "113251778fda59ed",
   "outputs": [],
   "execution_count": null
  }
 ],
 "metadata": {
  "kernelspec": {
   "display_name": "Python 3",
   "language": "python",
   "name": "python3"
  },
  "language_info": {
   "codemirror_mode": {
    "name": "ipython",
    "version": 2
   },
   "file_extension": ".py",
   "mimetype": "text/x-python",
   "name": "python",
   "nbconvert_exporter": "python",
   "pygments_lexer": "ipython2",
   "version": "2.7.6"
  }
 },
 "nbformat": 4,
 "nbformat_minor": 5
}

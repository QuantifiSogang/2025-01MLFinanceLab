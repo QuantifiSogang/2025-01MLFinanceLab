{
 "cells": [
  {
   "metadata": {},
   "cell_type": "markdown",
   "source": [
    "## Triple-Barrier Method\n",
    "\n",
    "금융 응용에서 좀 더 현실적인 방법은 포지션의 성패를 나타내는 label을 만드는 것이다. 포트폴리오 매니저가 채택하는 통상적인 거래 규칙은 (1) 미실현 이익목표가 달성되면 그 포지션이 성공으로 마감되며, (2) 미실현 손실 한계에 도달하면 실패로 종결되며, (3) 최대 수의 바까지 그 포지션의 실패도 성공도 없이 청산된다는 것이다. 포지션 성과의 시간 그래프에서 처음 두 조건은 2개의 수평 배리어를 정의하고, 세 번쨰 조건은 수직 배리어를 정의한다. 처음으로 접촉된 배리어와 관련된 바의 인덱스는 $t_{i,1}$로 기록된다. 이익이 나는 배리어를 먼저 건드리면 관측 결과를 $y_i = 1$로 표시한다. loss cut barrier가 먼저 닿으면 관측값을 $y_i = -1$로 표시한다. vertical barrier가 먼저 닿았을 때 우리는 두 가지 옵션을 갖고 있다. 그것을 $y_i = 0$으로 표시하거나 $y_i = \\text{sgn}[r_{t_{i, 0}, t_{i,1}}]$으로 표시할 수 있다."
   ],
   "id": "392d01864e771285"
  },
  {
   "metadata": {},
   "cell_type": "code",
   "outputs": [],
   "execution_count": null,
   "source": "",
   "id": "b3ca50871739a269"
  },
  {
   "metadata": {},
   "cell_type": "markdown",
   "source": "profit taking과 loss cut barrier를 설정하려면 $i$번째 관측과 관련된 포지션 방향에 대한 지식이 필요하다. 포지션 방향을 알 수 없을 때 여전히 horizontal barrier를 바의 구간 $[t_{i,0}, t_{i,0}+h]$에 걸친 예측 변동성의 함수로 설정할 수 있다. 여기서 $h$는 vertical barrier가 접촉될 때까지의 바의 수이다. 이 경우에 barrier는 대칭적일 것이다. 왜냐하면 방향 정보 없이는 어떤 barrier가 이익을 의미하고 어떤 barrier가 손실을 의미하는지 알 수 없기 때문이다.",
   "id": "78af30f3ec00a59b"
  },
  {
   "metadata": {},
   "cell_type": "code",
   "outputs": [],
   "execution_count": null,
   "source": "",
   "id": "9c24d5ad8e41e4c5"
  },
  {
   "metadata": {},
   "cell_type": "markdown",
   "source": "fixed-horizontal 기간 방식에 비한 triple barrier 방식의 주요 장점은 후자가 바 구간 $[t_{i,0}, t_{i,0}+h]$들에 걸친 경로에 대한 정보를 통합한다는 점이다. 실무적으로 투자 기회의 최대 보유 기간은 자연스럽게 정의할 수 있으며, $h$의 값은 주관적이지 않다. 한 가지 단점은 barrier에 접촉되는 것이 이산적 사건이라는 것인데 이것은 작은 마진으로 발생할 수도 있고, 그렇지 않을 수도 있다. ",
   "id": "34f50c1ec7dbfdf8"
  },
  {
   "metadata": {},
   "cell_type": "code",
   "outputs": [],
   "execution_count": null,
   "source": "",
   "id": "92e5e77196a97dcd"
  }
 ],
 "metadata": {
  "kernelspec": {
   "display_name": "Python 3",
   "language": "python",
   "name": "python3"
  },
  "language_info": {
   "codemirror_mode": {
    "name": "ipython",
    "version": 2
   },
   "file_extension": ".py",
   "mimetype": "text/x-python",
   "name": "python",
   "nbconvert_exporter": "python",
   "pygments_lexer": "ipython2",
   "version": "2.7.6"
  }
 },
 "nbformat": 4,
 "nbformat_minor": 5
}

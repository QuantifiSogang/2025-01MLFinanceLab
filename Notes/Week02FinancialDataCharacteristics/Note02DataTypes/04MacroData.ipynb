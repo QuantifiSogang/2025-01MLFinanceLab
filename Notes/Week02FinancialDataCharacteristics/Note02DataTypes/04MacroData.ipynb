{
 "cells": [
  {
   "metadata": {},
   "cell_type": "markdown",
   "source": "## Macro Data",
   "id": "b5b68ee487a9fcef"
  },
  {
   "cell_type": "code",
   "execution_count": null,
   "id": "initial_id",
   "metadata": {
    "collapsed": true
   },
   "outputs": [],
   "source": [
    ""
   ]
  },
  {
   "metadata": {},
   "cell_type": "markdown",
   "source": [
    "### 1. Consumption\n",
    "\n",
    "- US Retail Sales Index : 미국 소비판매지수\n",
    "- US Total Vehicle Sales : 전미 자동차판매지수\n",
    "- US Total Retail Sales : 전미 소비판매지수\n",
    "- US NAR Existing Home Sales Median Price : 기존주택 판매중위가격"
   ],
   "id": "405259fd75d49b8f"
  },
  {
   "metadata": {},
   "cell_type": "code",
   "outputs": [],
   "execution_count": null,
   "source": "",
   "id": "2471acb55ddfec97"
  },
  {
   "metadata": {},
   "cell_type": "markdown",
   "source": [
    "### 2. Inflation\n",
    "- US Consumer Price Index : 미국 소비자물가지수\n",
    "- US Core PCE Price Index : 미국 근원소비자물가지수\n",
    "- US Regular All Formulations Gas Price : 전미 가솔린 평균가격\n",
    "- WTI/USD : 유가"
   ],
   "id": "d5ff5a66c936f0ee"
  },
  {
   "metadata": {},
   "cell_type": "code",
   "outputs": [],
   "execution_count": null,
   "source": "",
   "id": "2b65568850a79735"
  },
  {
   "metadata": {},
   "cell_type": "markdown",
   "source": [
    "### 3. Production\n",
    "- U.S. ISM Manufacturing Purchasing Managers Index : 미국 ISM제조업지수 PMI\n",
    "- U.S. ISM Manufacturing New Orders Index : 미국 ISM제조업지수 신규주문\n",
    "- U.S. ISM Non-Manufacturing Purchasing Managers Index (PMI) : 미국 ISM 서비스부문 PMI\n",
    "- US Industrial Production : 미국 산업생산지수\n",
    "- Korean Export/Import Index : 한국 수출입지수"
   ],
   "id": "45b7927aae32dfe6"
  },
  {
   "metadata": {},
   "cell_type": "code",
   "outputs": [],
   "execution_count": null,
   "source": "",
   "id": "cec944e0818656d8"
  },
  {
   "metadata": {},
   "cell_type": "markdown",
   "source": [
    "### 4. Sentiment \n",
    "- Consumer confidence Indicator \n",
    "- Consumer sentiment Indicator\n",
    "- Leading Economic Index : 미국 경기선행지수"
   ],
   "id": "2a240a35079622af"
  },
  {
   "metadata": {},
   "cell_type": "code",
   "outputs": [],
   "execution_count": null,
   "source": "",
   "id": "aebd9f419ecd81e7"
  },
  {
   "metadata": {},
   "cell_type": "markdown",
   "source": [
    "### 5. Employment\n",
    "- U.S. ISM Non-Manufacturing Employment : 미국 ISM 비제조업지수 중 고용항목\n",
    "- US Initial Jobless Claims : 주간 실업수당 청구건수\n",
    "- US Non farm payroll : 비농업부문 고용지수"
   ],
   "id": "344d38886d2424ce"
  },
  {
   "metadata": {},
   "cell_type": "code",
   "outputs": [],
   "execution_count": null,
   "source": "",
   "id": "f5c5efea1ee29e9f"
  },
  {
   "metadata": {},
   "cell_type": "markdown",
   "source": [
    "### 6. Liquidities\n",
    "\n",
    "- FOMC Interest Rate : 미국 기준금리\n",
    "- BOJ Interest Rate : 일본은행 기준금리"
   ],
   "id": "79bec8f27e28e843"
  },
  {
   "metadata": {},
   "cell_type": "code",
   "outputs": [],
   "execution_count": null,
   "source": "",
   "id": "91b6345b8b26ca08"
  }
 ],
 "metadata": {
  "kernelspec": {
   "display_name": "Python 3",
   "language": "python",
   "name": "python3"
  },
  "language_info": {
   "codemirror_mode": {
    "name": "ipython",
    "version": 2
   },
   "file_extension": ".py",
   "mimetype": "text/x-python",
   "name": "python",
   "nbconvert_exporter": "python",
   "pygments_lexer": "ipython2",
   "version": "2.7.6"
  }
 },
 "nbformat": 4,
 "nbformat_minor": 5
}

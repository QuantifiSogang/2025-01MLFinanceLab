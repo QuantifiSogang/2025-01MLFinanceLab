{
 "cells": [
  {
   "metadata": {},
   "cell_type": "markdown",
   "source": "## Market Data",
   "id": "ead2345f1e5cfeab"
  },
  {
   "metadata": {},
   "cell_type": "markdown",
   "source": "### 1. Prices",
   "id": "c3126667066d7ead"
  },
  {
   "metadata": {},
   "cell_type": "code",
   "outputs": [],
   "execution_count": null,
   "source": "",
   "id": "a5854b4747317a8"
  },
  {
   "metadata": {},
   "cell_type": "markdown",
   "source": "### 2. Volumes",
   "id": "73940cd1d93b6e7a"
  },
  {
   "metadata": {},
   "cell_type": "code",
   "outputs": [],
   "execution_count": null,
   "source": "",
   "id": "dc6b0db17490c374"
  },
  {
   "metadata": {},
   "cell_type": "markdown",
   "source": "### 3. Dividends",
   "id": "195de6c80382ad58"
  },
  {
   "metadata": {},
   "cell_type": "code",
   "outputs": [],
   "execution_count": null,
   "source": "",
   "id": "98e6a82512b08233"
  },
  {
   "metadata": {},
   "cell_type": "markdown",
   "source": [
    "### 4. Yields\n",
    "- US Treasury Bond 2Y / 10Y / 3month : 미국 국무부채권 3개월, 2년, 10년물\n",
    "- 30-Year Fixed Rate Mortgage Average in the United States : 주택담보부증권 30년물 프리미엄"
   ],
   "id": "2c074988003d762f"
  },
  {
   "cell_type": "code",
   "execution_count": null,
   "id": "initial_id",
   "metadata": {
    "collapsed": true
   },
   "outputs": [],
   "source": [
    ""
   ]
  },
  {
   "metadata": {},
   "cell_type": "markdown",
   "source": [
    "### 5. Currency\n",
    "\n",
    "환율 데이터는 달러화의 가치를 나타내지만, 미국의 국제적 위상에 대한 정보도 포함되어 있다. 또한, 국제적 이벤트가 발생하였을 때 가장 민감하게 움직이는 시장이며, 국제적으로 가장 큰 금액이 오고가는 시장이기도 하다. (FX Trade, 유로달러 선물)\n",
    "\n",
    "#### 5.1 Dollar Index\n",
    "달러 인덱스 급락시 미국 제품의 가격 경쟁력 상승으로 수출기업의 매출 증가에 힘입어 주가가 상승하는 경향이 존재한다.\n",
    "\n",
    "- 인과 1 : 달러 가치 하락 → 미국 제품의 가격 경쟁력 상승 → 미국 수출 기업의 매출 증가\n",
    "- 인과 2 : 원자재 가격 상승 (달러 가치 하락 → 원자재 가격 상승 (달러로 거래되기 때문))\n",
    "- 인과 3 : 인플레이션 우려감 상승 (수입 물가 상승 → 소비자 물가 상승 → 인플레이션 우려 증가)\n",
    "\n",
    "달러 인덱스 급등시 금리 인상 우려의 증가로 미래 현금흐름의 현재가치가 감소해 주가가 하락할 수 있다.\n",
    "\n",
    "- 인과 1 : 미국 경제 강세, 글로벌 경기 둔화로 안전자산인 달러에 유입 → 안전자산 선호, 미국의 금리 인상 기대 → 추가 상승 유지 가능성 존재\n",
    "- 인과 2 : 금리 인상 우려, 긴축정책 예고 → 달러 인덱스 급등 → 기업의 할인율 증가로 주식 밸류에이션 부담 증가 → 성장주 중심 차익실현 매물 발생 → 주가 하락\n",
    "\n",
    "→ 고평가된 성장주 조정 가능성, 수출중심기업 부담 증가, 내수주 및 방어주의 상대적 강세, 원자재 관련주 하락 가능성 (달러 강세는 원자재 가격 하락)\n",
    "\n",
    "**2009년 금융위기 후 양적완화(QE) 정책**:\n",
    "\n",
    "- 달러 인덱스 급락 → 미국 주식시장 급등\n",
    "- 기술주 및 수출주 상승, 성장주 주도\n",
    "\n",
    "**2017년~2018년 달러 약세**:\n",
    "\n",
    "- 달러 인덱스 약세 → 다국적 기업 및 IT 주 상승\n",
    "- S&P 500 전체 상승, 특히 FAANG(페이스북, 애플, 아마존, 넷플릭스, 구글) 주도\n",
    "\n",
    "**2018년 미중 무역전쟁 시기**\n",
    "\n",
    "- 달러 인덱스 급등 + 미국 주식 고평가 상태\n",
    "- 성장주 급락 (특히 FAANG 주도)\n",
    "- 방어주, 배당주, 내수주 상승\n",
    "\n",
    "**2020년 팬데믹 이후**\n",
    "\n",
    "- 달러 급등 + 기술주 급등 (예외적 상황)\n",
    "- 미국 금리 인하와 재정 부양책으로 인한 유동성 장세가 원인"
   ],
   "id": "a1fc7d54401000dc"
  },
  {
   "metadata": {},
   "cell_type": "code",
   "outputs": [],
   "execution_count": null,
   "source": "",
   "id": "6bf4f29a6fde57cf"
  }
 ],
 "metadata": {
  "kernelspec": {
   "display_name": "Python 3",
   "language": "python",
   "name": "python3"
  },
  "language_info": {
   "codemirror_mode": {
    "name": "ipython",
    "version": 2
   },
   "file_extension": ".py",
   "mimetype": "text/x-python",
   "name": "python",
   "nbconvert_exporter": "python",
   "pygments_lexer": "ipython2",
   "version": "2.7.6"
  }
 },
 "nbformat": 4,
 "nbformat_minor": 5
}

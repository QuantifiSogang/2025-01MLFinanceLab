{
 "cells": [
  {
   "metadata": {},
   "cell_type": "markdown",
   "source": [
    "### Feature Importance with substitution effects\n",
    "\n",
    "feature importance를 추정하는 방법들이 substitution effect에 의해 영향을 받았는지 여부에 따라 서로 구분해 두는 것이 유용하다. 이 맥락에서는 추정된 feature importance가 다른 연관된 특성의 존재로 감소할 경우 대체 효과가 발생된다. Machine Learning에서 substitution effect란 통계학이나 계량경제학의 맥락에서 Multicollinearity라 부르는 것과 유사하다. linear substitution effect를 다루는 한 가지 방법은 original feature에 PCA를 적용한 후, 직교한 특성들에 대해 feature importance 분석을 수행하는 것이다."
   ],
   "id": "eafe82c749f9ec4b"
  },
  {
   "metadata": {},
   "cell_type": "markdown",
   "source": [
    "#### $p-\\mathrm{value}$\n",
    "\n",
    "고전적 회귀 분석 framework는 올바른 모델 사양, 상호 상관없는 회귀 분석기 또는 백색 잡음 잔차 등, 적합화된 모델에 관한 여러가지 가정을 한다. 그러한 가정이 사실이라는 것을 전제로, 연구자들은 가설 검정을 통해 설명 변수의 중요도를 결정하고자 노력해 왔다. 변수의 중요도와 설명력을 표현하는 일반적인 방법은 1700년대에 제안된 개념인 p-value가 있다\n",
    "\n",
    "$$p-\\mathrm{value} = \\frac{\\hat{p} - p_0}{\\sqrt{\\frac{p_0(1-p_0)}{n}}}$$\n",
    "\n",
    "p-value는 해당 변수와 관련된 실제 계수가 0일 때 우리가 추정했던 것과 같거나 더 극단적인 결과를 얻었을 확률을 계량화한다. 이는 데이터가 설정된 통계 모형과 얼마나 일치하지 않는지를 나타낸다. 그러나, p-value는 귀무가설이나 대립가설이 참이 아니거나 데이터가 랜덤일 확률을 측정하지 않는다. 또한, p-value의 오용은 매우 광범위하게 퍼져 있을 뿐만 아니라, 지난 수십년간의 금융 연구에서의 신뢰도 문제를 불러일으킨다\n",
    "\n",
    "실제로 p-value의 가장 큰 담점은, 그 값의 근거가 매우 강력한 가정에 의존한다는 것이다. 그러한 가정들이 하나라도 빗나갈 때, false positive와 false negative로 나타날 가능성이 높아진다. 이러한 이유 때문에, 2019년 미국 통계협회에서는 통계적 유의성의 척도로서 p-value의 적용을 권장하고 있지 않다(Wasserstein et al. 2019)\n",
    "\n",
    "p-value의 두 번째 단점은 높은 multicollinearity를 가지고 있는 변수들에 대해서 p-value를 강건하게 추정할 수 없다는 것이다. 다중공선성이 존재하는 상황에서 전통적 회귀 분석 방법은 중복된 정보를 구별할 수 없으므로, p-value간의 대체효과가 발생해 실제 값보다 부풀려지는 결과가 나올 수 있다\n",
    "\n",
    "p-value의 세 번째 단점은 완전히 관련이 없는 확률을 평가한다는 것이다. 귀무가설 $H_0$와 추정된 계수 $\\hat{\\beta}$이 주어졌을 때, p-value는 $H_0$이 참인 경우 $\\hat{\\beta}$과 같거나 극단적인 결과를 얻을 확률을 추정한다. 그러나, 연구자들은 종종 다른 확률, 즉 $\\hat{\\beta}$을 관찰했을 때 $H_0$이 참일 확률에 더 관심이 있다. 이 확률은 Bayes theorem을 이용해 계산할 수 있으며, 주변분포에 대해 가정을 해야 구할 수 있다.\n",
    "\n",
    "p-value의 네 번째 결함은 샘플의 유의성을 평가한다는 것이다. 전체 샘플은 계수 추정과 유의성 결정이라는 두 가지 과제를 해결하는데 사용된다. 따라서, p-value는 샘플 외 설명값이 없는 변수에 대해 낮을 수 있다. 동일한 데이터셋에 대해 여러 번의 샘플 내 테스트를 진행하면 잘못된 발견을 할 가능성이 높아지며, 이는 통계적 사기이다\n",
    "\n",
    "요약하자면, p-value는 필요 이상의 너무 많은 가정을 요구하기 때문에 변수가 여러개인 모형에는 알맞지 않으며, 유의성을 추정하기에도 적절치 않은 값이다. 아래 예를 통해 p-value가 어떻게 정보를 희석시키는지 알아보도록 한다"
   ],
   "id": "8016b3292cd69786"
  },
  {
   "metadata": {},
   "cell_type": "markdown",
   "source": [
    "다음 함수는 informative, redundant, noise feature를 생성하는 함수이다. 각각의 feature는 다음과 같은 특징을 갖는다\n",
    "\n",
    "1. informative : label 예측에 있어서 실질적으로 가장 고유하고 독립적인 정보를 제공하는 feature\n",
    "2. redundant : label 예측에 있어서 중요한 정보를 제공하긴 하지만, feature간 다중공선성이 존재하는 feature\n",
    "3. noise : label 예측에 있어서 거의 아무런 영향을 주지 않는 feature"
   ],
   "id": "f25651916a2f0454"
  },
  {
   "cell_type": "code",
   "id": "initial_id",
   "metadata": {
    "collapsed": true,
    "ExecuteTime": {
     "end_time": "2025-03-16T13:32:40.082144Z",
     "start_time": "2025-03-16T13:32:40.077879Z"
    }
   },
   "source": [
    "import pandas as pd\n",
    "import numpy as np\n",
    "from FinancialMachineLearning.generator.classification_data import get_test_data"
   ],
   "outputs": [],
   "execution_count": 1
  },
  {
   "metadata": {},
   "cell_type": "markdown",
   "source": "전체 feature는 20개, informative는 5개, redundant feature는 5개로 지정한다. noise는 자동적으로 10개가 된다. 관측치의 수는 1000개로 generating한다",
   "id": "83765f3832281958"
  },
  {
   "metadata": {
    "ExecuteTime": {
     "end_time": "2025-03-16T13:33:33.494523Z",
     "start_time": "2025-03-16T13:33:33.442161Z"
    }
   },
   "cell_type": "code",
   "source": [
    "trnsX, cont = get_test_data(\n",
    "    n_features = 20, \n",
    "    n_informative = 5, \n",
    "    n_redundant = 5, \n",
    "    n_samples = 10000,\n",
    "    random_state = 0,\n",
    "    sigma_std = 0.1\n",
    ")"
   ],
   "id": "b2599415f2565fc0",
   "outputs": [],
   "execution_count": 11
  },
  {
   "metadata": {
    "ExecuteTime": {
     "end_time": "2025-03-16T13:33:34.418524Z",
     "start_time": "2025-03-16T13:33:34.056217Z"
    }
   },
   "cell_type": "code",
   "source": [
    "import statsmodels.api as sm\n",
    "import warnings\n",
    "warnings.filterwarnings('ignore')\n",
    "\n",
    "ols = sm.Logit(cont['bin'], trnsX).fit()"
   ],
   "id": "3f7b406fdf202f7",
   "outputs": [
    {
     "name": "stdout",
     "output_type": "stream",
     "text": [
      "Optimization terminated successfully.\n",
      "         Current function value: 0.383153\n",
      "         Iterations 7\n"
     ]
    }
   ],
   "execution_count": 12
  },
  {
   "metadata": {
    "ExecuteTime": {
     "end_time": "2025-03-16T13:33:46.951790Z",
     "start_time": "2025-03-16T13:33:46.792491Z"
    }
   },
   "cell_type": "code",
   "source": [
    "import matplotlib.pyplot as plt\n",
    "\n",
    "plt.figure(figsize = (10, 4))\n",
    "plt.barh(\n",
    "    ols.pvalues.sort_values(ascending = True).index, \n",
    "    ols.pvalues.sort_values(ascending = True), \n",
    "    color = 'b', alpha = 0.25, height = 0.5\n",
    ")\n",
    "plt.axvline(0.05, ls = ':', color = 'r')\n",
    "plt.grid(False)\n",
    "plt.title('p-values')\n",
    "plt.show()"
   ],
   "id": "7cf1c46c037fb824",
   "outputs": [
    {
     "data": {
      "text/plain": [
       "<Figure size 1000x400 with 1 Axes>"
      ],
      "image/png": "[encoded data removed]"
     },
     "metadata": {},
     "output_type": "display_data"
    }
   ],
   "execution_count": 14
  },
  {
   "metadata": {},
   "cell_type": "markdown",
   "source": "불행히도 금융 데이터셋은 시장, 섹터, 등급, 가치, 모멘텀, 이익의 질, 기간 등 투자 환경의 많은 부분에서 공유하는 공통 risk factor의 결과로서 고도로 multicollinearity인 경우가 많다. 이런 상황에서 금융 연구자들은 p-value에만 의존하는 것을 중단해야 한다. 금융 연구자들은 특정 현상에 어떤 변수가 정보를 담고 있는지 판단하기 위한 추가 방법을 숙지하는 것이 중요하다",
   "id": "834711d51ef8c4bb"
  },
  {
   "metadata": {},
   "cell_type": "markdown",
   "source": [
    "#### Mean Decrease Importance\n",
    "\n",
    "F개의 특성과 관찰당 하나의 레이블로 구성된 크기 N개의 학습 샘플을 갖고 있다고 가정하자. Tree Model을 기반으로 하는 분류/회귀 알고리즘은 각 노트 $t$에서 label을 2개의 샘플로 분할한다. 주어진 feature $X_f$에 대해 임의의 threshold $\\tau$이하의 $X_f$와 연관된 노드 $t$의 label은 왼쪽 샘플에 배치하고, 나머지는 오른쪽 샘플에 배치한다. 이를 분기라고 하며, Tree를 기반으로 하는 Random Forest, XG Boost, Cat Boost등 대부분의 Ensemble Model이 이러한 분기의 과정을 거친다\n",
    "\n",
    "각 샘플에 대해 label값의 분포의 Entropy, Gini impurity 혹은 이외의 기준을 따라서 불순도를 평가할 수 있다. 직관적으로, 샘플은 한 종류의 label만을 담았을 때 가장 순수하며, label이 균등 분포를 따를 때 가장 impurity가 높다고 할 수 있다. 분할에 의해 얻을 수 있는 정보 이득은 아래와 같이 불순도의 감소로 측정된다\n",
    "\n",
    "$$\\Delta g(t, f) = i(t) - \\frac{N_t^{(0)}}{N_t}i(t^{(0)}) - \\frac{N_t^{(1)}}{N_t}i(t^{(1)})$$\n",
    "\n",
    "여기서 $i(t)$는 노드 $t$에서의 label의 불순도이고, $i(t^{(0)})$는 왼쪽으로 분기된 샘플의 불순도, $i(t^{(1)})$은 오른쪽으로 분기된 샘플의 불순도이다\n",
    "\n",
    "각 노드 $t$에서 분류모형은 $\\{X_f\\}_{1, \\dots, F}$의 다양한 feature에 대해 $\\Delta g(t, f)$를 평가하고, 이들 각각에 대해 $\\Delta g(t, f)$를 최대화하는 최적 임계값 $t$를 결정하고, 최대 $\\Delta g(t, f)$와 연관된 특성을 선택한다. 분류 알고리즘은 더 이상의 Information Gain(정보 이득)이 발생하지 않거나 최대 허용 한도 미만으로 불순도를 달성하는 등의 조기 종료 조건이 충족될 때까지 샘플을 분기한다\n",
    "\n",
    "Feature Importance는 특성이 선택된 모든 노드에서 Weighted Information Gain(가중 정보 이득)으로 계산할 수 있다. Mean Decrease Impurity는 특성이 얼마나 불순도를 줄여주는데 기여를 하는지 보여주는 지표이며, 모든 특성의 중요도의 합은 1로 계산된다. 동등한 정보를 가진 feature가 $F$개 있으면 각 feature의 중요도는 $\\frac{1}{F}$일 것으로 기대된다.\n",
    "\n",
    "MDI로 작업할 때에는 명심해야 할 몇 가지 사항이 있다.\n",
    "\n",
    "1. tree 기반 분류기가 특정 특성을 선호해 다른 특성을 체계적으로 무시하는 일이 발생하면 mask 효과가 발생한다. 이를 극복하기 위해서는 `sklearn`의 `RandomForestClassifier`를 사용할 때 `max_features = 1`로 설정해야 한다. 이런 방식을 사용해 레벨별로 오직 하나의 랜덤 특만 고려하도록 한다.\n",
    "    - 모든 feature에 대해 불순도를 줄일 수 있는 기회를 준다\n",
    "    - 중요도가 0인 특성들은 평균 계산에 포함시키지 말아야 한다. 0인 유일한 이유는 특성이 랜덤으로 선택되지 않았기 때문이다. 이런 값들은 `numpy.nan`등으로 대체해야 한다.\n",
    "2. 절차는 명백히 샘플 내(In sample)이다. 모든 특성은 비록 예측력이 없는 경우에도 어느 정도 중요도를 가진다\n",
    "3. MDI는 트리 기반이 아닌 다른 분류기로 일반화되지 않는다\n",
    "4. 구조상 MDI는 feature importance의 합이 1이 되고, 모든 feature의 중요도는 0과 1 사이의 값을 갖는 좋은 특성을 갖고 있다.\n",
    "5. 이 방법은 상관된 특성이 존재할 때는 대체 효과를 해결하지 못한다. MDI는 대체 특성의 중요도를 희석시키는데, 그 이유는 대체 가능성 때문이다. 또한 동일한 두 가지 특성의 중요도는 반으로 감소되는데, 둘 다 동일한 확률로 랜덤하게 선택될 수 있기 때문이다\n",
    "6. Strobl 등(2007)은 실험적으로 MDI가 어떤 예측 변수에 의해 편향되는지 보였다. White & Liu(1994)는 단일 Decision Tree의 경우 이 편향은 유명한 불순도 함수가 많은 범주를 가진 예측 변수 쪽으로 공평하지 않고 유리하게 작용했기 때문이라고 주장했다.\n",
    "\n",
    "sklearn에서 Random Forest와 같은 앙상블 모형은 다음과 같은 방법으로 MDI feature importance를 추정하는 method가 기본적으로 탑재되어 있다\n",
    "\n",
    "```\n",
    "importances = forest.feature_importances_\n",
    "std = np.std([tree.feature_importances_ for tree in forest.estimators_], axis=0)\n",
    "```\n",
    "\n",
    "importance 추정치는 계량경제학 모형의 beta (coefficient) 추정치와 대응되며, std는 변수의 t-distribution을 추정하는 것과 유사하다. 즉, feature importance는 하나의 parameter로 작용 가능하다\n",
    "\n",
    "한편, 우리는 시계열 모형에 대해서 다루므로, 다음과 같이 시간적 정보의 중복을 제거한 feature importance를 사용하도록 한다"
   ],
   "id": "204804979e924031"
  },
  {
   "metadata": {
    "ExecuteTime": {
     "end_time": "2025-03-16T13:34:11.711014Z",
     "start_time": "2025-03-16T13:33:56.784395Z"
    }
   },
   "cell_type": "code",
   "source": [
    "from sklearn.ensemble import RandomForestClassifier\n",
    "\n",
    "from sklearn.metrics import accuracy_score\n",
    "from FinancialMachineLearning.feature_importance import *\n",
    "\n",
    "forest = RandomForestClassifier(\n",
    "    criterion = 'entropy',\n",
    "    class_weight = 'balanced_subsample',\n",
    "    min_weight_fraction_leaf = 0.0,\n",
    "    random_state = 42,\n",
    "    n_estimators = 1000,\n",
    "    max_features = 1,\n",
    "    oob_score = True,\n",
    "    n_jobs = 1\n",
    ")\n",
    "\n",
    "fit = forest.fit(X = trnsX, y = cont['bin'])\n",
    "oob_score = fit.oob_score_"
   ],
   "id": "46ff206af6eeba8f",
   "outputs": [],
   "execution_count": 15
  },
  {
   "metadata": {
    "ExecuteTime": {
     "end_time": "2025-03-16T13:34:26.767565Z",
     "start_time": "2025-03-16T13:34:26.762817Z"
    }
   },
   "cell_type": "code",
   "source": [
    "from FinancialMachineLearning.cross_validation.cross_validation import PurgedKFold, cross_val_score\n",
    "cv_gen = PurgedKFold(\n",
    "    n_splits = 5, \n",
    "    samples_info_sets = cont['t1']\n",
    ")"
   ],
   "id": "91f8d989d2801423",
   "outputs": [],
   "execution_count": 16
  },
  {
   "metadata": {
    "ExecuteTime": {
     "end_time": "2025-03-16T13:35:25.093742Z",
     "start_time": "2025-03-16T13:34:27.243768Z"
    }
   },
   "cell_type": "code",
   "source": [
    "oos_score = cross_val_score(\n",
    "    forest, # base classifier\n",
    "    trnsX, # train features\n",
    "    cont['bin'], # train labels\n",
    "    cv_gen = cv_gen, # purged k fold cross validation class\n",
    "    scoring = accuracy_score # optimizing to accuracy score\n",
    ").mean()"
   ],
   "id": "7aabdcbb5da01031",
   "outputs": [],
   "execution_count": 17
  },
  {
   "metadata": {
    "ExecuteTime": {
     "end_time": "2025-03-16T13:41:31.015511Z",
     "start_time": "2025-03-16T13:41:30.964103Z"
    }
   },
   "cell_type": "code",
   "source": [
    "from FinancialMachineLearning.feature_importance.importance import *\n",
    "mdi = mean_decrease_impurity(fit, trnsX.columns)"
   ],
   "id": "dfa583016fd3885e",
   "outputs": [],
   "execution_count": 18
  },
  {
   "metadata": {
    "ExecuteTime": {
     "end_time": "2025-03-16T13:41:31.376573Z",
     "start_time": "2025-03-16T13:41:31.371418Z"
    }
   },
   "cell_type": "code",
   "source": "mdi.head()",
   "id": "dc407ab67e8b81c6",
   "outputs": [
    {
     "data": {
      "text/plain": [
       "         mean       std\n",
       "I_0  0.085501  0.001362\n",
       "I_1  0.145429  0.001724\n",
       "I_2  0.113503  0.001492\n",
       "I_3  0.033523  0.000220\n",
       "I_4  0.071842  0.000882"
      ],
      "text/html": [
       "<div>\n",
       "<style scoped>\n",
       "    .dataframe tbody tr th:only-of-type {\n",
       "        vertical-align: middle;\n",
       "    }\n",
       "\n",
       "    .dataframe tbody tr th {\n",
       "        vertical-align: top;\n",
       "    }\n",
       "\n",
       "    .dataframe thead th {\n",
       "        text-align: right;\n",
       "    }\n",
       "</style>\n",
       "<table border=\"1\" class=\"dataframe\">\n",
       "  <thead>\n",
       "    <tr style=\"text-align: right;\">\n",
       "      <th></th>\n",
       "      <th>mean</th>\n",
       "      <th>std</th>\n",
       "    </tr>\n",
       "  </thead>\n",
       "  <tbody>\n",
       "    <tr>\n",
       "      <th>I_0</th>\n",
       "      <td>0.085501</td>\n",
       "      <td>0.001362</td>\n",
       "    </tr>\n",
       "    <tr>\n",
       "      <th>I_1</th>\n",
       "      <td>0.145429</td>\n",
       "      <td>0.001724</td>\n",
       "    </tr>\n",
       "    <tr>\n",
       "      <th>I_2</th>\n",
       "      <td>0.113503</td>\n",
       "      <td>0.001492</td>\n",
       "    </tr>\n",
       "    <tr>\n",
       "      <th>I_3</th>\n",
       "      <td>0.033523</td>\n",
       "      <td>0.000220</td>\n",
       "    </tr>\n",
       "    <tr>\n",
       "      <th>I_4</th>\n",
       "      <td>0.071842</td>\n",
       "      <td>0.000882</td>\n",
       "    </tr>\n",
       "  </tbody>\n",
       "</table>\n",
       "</div>"
      ]
     },
     "execution_count": 19,
     "metadata": {},
     "output_type": "execute_result"
    }
   ],
   "execution_count": 19
  },
  {
   "metadata": {
    "ExecuteTime": {
     "end_time": "2025-03-16T13:41:33.319335Z",
     "start_time": "2025-03-16T13:41:33.166433Z"
    }
   },
   "cell_type": "code",
   "source": [
    "plot_feature_importance(\n",
    "    mdi,\n",
    "    oob_score = oob_score,\n",
    "    oos_score = oos_score,\n",
    "    save_fig = True,\n",
    "    output_path = './images/MDI_feature_importance.png'\n",
    ")\n",
    "plt.grid(False)\n",
    "plt.show()"
   ],
   "id": "453cbafd3cf814d8",
   "outputs": [
    {
     "data": {
      "text/plain": [
       "<Figure size 1000x400 with 1 Axes>"
      ],
      "image/png": "[encoded data removed]"
     },
     "metadata": {},
     "output_type": "display_data"
    }
   ],
   "execution_count": 20
  },
  {
   "metadata": {},
   "cell_type": "markdown",
   "source": [
    "p-value의 결과와 비교해 봤을때, Noise가 모두 하위에 랭크된 것을 볼 수 있다. 모델 학습에 있어서 정보를 가지고 있는 information과 redundant feature들이 중요도가 높게 나온 것을 알 수 있다\n",
    "\n",
    "MDI feature importance는 다음과 같은 장점이 존재한다\n",
    "\n",
    "1. MDI는 계산하는 데 있어서 변수의 강력한 분포적 가정을 요구하지 않는다. 즉, 변수의 분포는 어떤 모양을 해도 상관없다\n",
    "2. 통계모형의 beta는 단일 샘플에 대해 추정되는 반면, ensemble모형의 MDI feature importance는 Bootstrapping을 통해 도출된다. 따라서, 추정치의 분산은 ensemble추정기의 개수를 증가시킴으로써 줄일 수 있다\n",
    "3. Base Model이 Tree인 분류기의 목적은 주어진 대수 방정식의 계수를 추정하는 것이 아니므로 특정 귀무가설의 확률을 추정하는 것과는 무관하다. 따라서, 추정기에서 실질적으로 도움이 된 특성을 찾아 점수를 매겨준다\n",
    "\n",
    "다만, MDI는 어디까지나 sample내에서 계산된다는 점에서 과적합의 여지가 존재한다. 이후 소개하는 **MDA feature importance**는 이러한 단점을 보완해 준다"
   ],
   "id": "a008ab219ccce7b3"
  },
  {
   "metadata": {},
   "cell_type": "markdown",
   "source": [
    "#### Mean Decrease Accuracy\n",
    "\n",
    "p-value와 MDI 모두 설명 목적으로 샘플 내에서 유의적으로 보이는 변수가 예측의 목적과 무관할 수 있다는 점이다. 이 문제를 해결하고자, MDA 특성 중요도가 제안되었다\n",
    "\n",
    "MDA는 다음과 같이 동작한다. \n",
    "1. 모델을 적합화시키고 교차 검증된 성과를 계산한다\n",
    "2. 동일한 적합화 모델읠 교차 검증된 성과를 하는데, 단 하나의 차이점은 feature 중 하나와 관련된 관찰값들을 셔플링한다는 것이다. 그것은 특성당 하나의 수정된 교차검증 성능을 제공한다\n",
    "3. 셔플링 전후의 교차 검증된 성능을 비교함으로써, 특정 feature와 연관된 MDA score를 도출한다. **특성이 중요하다면 특성이 독립인 경우, 셔플링으로 인해 성과의 현저한 저하 현성이 있어야 한다**\n",
    "\n",
    "MDA의 중요한 속성은 MDI와 마찬가지로 단일 추정치의 결과가 아닌 여러개의 추정치의 평균이라는 것이다. 일반적으로, MDA feature importance는 **순열 중요도 (permutation importance)** 로 많이 불리며, 다음과 같이 구현된다\n",
    "\n",
    "```\n",
    "from sklearn.inspection import permutation_importance\n",
    "r = permutation_importance(\n",
    "    model, X_val, y_val,\n",
    "    n_repeats=30,\n",
    "    random_state=0\n",
    ")\n",
    "```\n",
    "\n",
    "우리는 시간의 순서가 중요한 시계열 데이터를 다루고 있으므로 permutation importance를 그대로 쓰는것 보다는 아래 예제의 MDA 특성 중요도를 사용하도록 하자\n",
    "\n",
    "한가지 중요한 점은, feature가 독립적이지 않은 경우 MDA는 상호 관련 특성의 중요성을 과소평가할 수 있다. 극단적으로, 매우 중요하지만 동일한 두가지 feature를 고려할 때, MDA는 한 가지 feature를 셔플링하는 효과가 동인한 다른 feature의 존재로 인해 상쇄될 수 있기 때문에, 두 feature모두 중요하지 않다고 결론내릴 수 있다.아래의 예시를 보고, 이러한 점을 확인해 보자"
   ],
   "id": "ba04d26a07756695"
  },
  {
   "metadata": {
    "ExecuteTime": {
     "end_time": "2025-03-16T13:42:05.974969Z",
     "start_time": "2025-03-16T13:41:39.364033Z"
    }
   },
   "cell_type": "code",
   "source": [
    "forest = RandomForestClassifier(\n",
    "    criterion = 'entropy',\n",
    "    class_weight = 'balanced_subsample',\n",
    "    min_weight_fraction_leaf = 0.0,\n",
    "    random_state = 42,\n",
    "    n_estimators = 1000,\n",
    "    max_features = 3,\n",
    "    oob_score = True,\n",
    "    n_jobs = 1\n",
    ")\n",
    "\n",
    "fit = forest.fit(X = trnsX, y = cont['bin'])\n",
    "oob_score = fit.oob_score_"
   ],
   "id": "7bdc487ccd5da410",
   "outputs": [],
   "execution_count": 21
  },
  {
   "metadata": {
    "ExecuteTime": {
     "end_time": "2025-03-16T13:44:45.514923Z",
     "start_time": "2025-03-16T13:42:44.058768Z"
    }
   },
   "cell_type": "code",
   "source": [
    "mda = mean_decrease_accuracy(\n",
    "    fit, # base classification model\n",
    "    trnsX, # train features\n",
    "    cont['bin'], # train labels\n",
    "    cv_gen, # purged k fold cross validation class\n",
    "    scoring = accuracy_score\n",
    ")"
   ],
   "id": "19f0d17a754d0a92",
   "outputs": [
    {
     "name": "stderr",
     "output_type": "stream",
     "text": [
      "5it [02:01, 24.28s/it]\n"
     ]
    }
   ],
   "execution_count": 22
  },
  {
   "metadata": {
    "ExecuteTime": {
     "end_time": "2025-03-16T13:44:45.519608Z",
     "start_time": "2025-03-16T13:44:45.516103Z"
    }
   },
   "cell_type": "code",
   "source": "mda.head()",
   "id": "47d57aacbfb0ddb7",
   "outputs": [
    {
     "data": {
      "text/plain": [
       "         mean       std\n",
       "I_0  0.112584  0.037972\n",
       "I_1  0.413842  0.092772\n",
       "I_2  0.274700  0.079671\n",
       "I_3  0.018452  0.026090\n",
       "I_4  0.068614  0.089009"
      ],
      "text/html": [
       "<div>\n",
       "<style scoped>\n",
       "    .dataframe tbody tr th:only-of-type {\n",
       "        vertical-align: middle;\n",
       "    }\n",
       "\n",
       "    .dataframe tbody tr th {\n",
       "        vertical-align: top;\n",
       "    }\n",
       "\n",
       "    .dataframe thead th {\n",
       "        text-align: right;\n",
       "    }\n",
       "</style>\n",
       "<table border=\"1\" class=\"dataframe\">\n",
       "  <thead>\n",
       "    <tr style=\"text-align: right;\">\n",
       "      <th></th>\n",
       "      <th>mean</th>\n",
       "      <th>std</th>\n",
       "    </tr>\n",
       "  </thead>\n",
       "  <tbody>\n",
       "    <tr>\n",
       "      <th>I_0</th>\n",
       "      <td>0.112584</td>\n",
       "      <td>0.037972</td>\n",
       "    </tr>\n",
       "    <tr>\n",
       "      <th>I_1</th>\n",
       "      <td>0.413842</td>\n",
       "      <td>0.092772</td>\n",
       "    </tr>\n",
       "    <tr>\n",
       "      <th>I_2</th>\n",
       "      <td>0.274700</td>\n",
       "      <td>0.079671</td>\n",
       "    </tr>\n",
       "    <tr>\n",
       "      <th>I_3</th>\n",
       "      <td>0.018452</td>\n",
       "      <td>0.026090</td>\n",
       "    </tr>\n",
       "    <tr>\n",
       "      <th>I_4</th>\n",
       "      <td>0.068614</td>\n",
       "      <td>0.089009</td>\n",
       "    </tr>\n",
       "  </tbody>\n",
       "</table>\n",
       "</div>"
      ]
     },
     "execution_count": 23,
     "metadata": {},
     "output_type": "execute_result"
    }
   ],
   "execution_count": 23
  },
  {
   "metadata": {
    "ExecuteTime": {
     "end_time": "2025-03-16T13:44:45.728514Z",
     "start_time": "2025-03-16T13:44:45.520275Z"
    }
   },
   "cell_type": "code",
   "source": [
    "plot_feature_importance(\n",
    "    mda,\n",
    "    oob_score = oob_score,\n",
    "    oos_score = oos_score,\n",
    "    save_fig = True,\n",
    "    output_path = './images/MDA_feature_importance.png'\n",
    ")\n",
    "plt.grid(False)\n",
    "plt.show()"
   ],
   "id": "a0cfd9449628d98a",
   "outputs": [
    {
     "data": {
      "text/plain": [
       "<Figure size 1000x400 with 1 Axes>"
      ],
      "image/png": "[encoded data removed]"
     },
     "metadata": {},
     "output_type": "display_data"
    }
   ],
   "execution_count": 24
  },
  {
   "metadata": {},
   "cell_type": "markdown",
   "source": [
    "### Feature Importance without substitution effects\n",
    "\n",
    "대체 효과는 중복되어 있는 중요한 특성을 버리는 결과를 초래할 수 있다. 예측에 있어서는 일반적으로 문제가 되지 않지만, 모델의 이해, 개선, 단순화 과정에서는 잘못된 결론을 이끌 수 있다. 이런 이유로 다음의 Single Feature Importance 기법은 MDI와 MDA의 보완 역할을 할 수 있다."
   ],
   "id": "6d4405bf87223f04"
  },
  {
   "metadata": {},
   "cell_type": "markdown",
   "source": [
    "#### Single Feature Importance\n",
    "\n",
    "Single Feature Importance는 횡단면 예측 중요도 방법이다. 이 방법은 각 특성에 대해서 독립적으로 out of sample 성과를 계산한다. 몇 가지 고려사항은 다음과 같다.\n",
    "\n",
    "1. 이 방법은 Tree model 기반의 Ensemble 뿐만 아니라 모든 분류기에 적용할 수 있다.\n",
    "2. SFI는 성과 점수로서 정확도에만 사용되지 않는다.\n",
    "3. MDI나 MDA와 달리 대체 효과는 존재하지 않는다. 이유는 한 번에 하나의 특성만 고려하기 때문이다.\n",
    "4. MDA와 같이 모든 특성이 중요하지 않다는 결론을 내릴 수도 있다. 이유는 성과를 out of sample cross validation을 통해 평가하기 때문이다\n",
    "\n",
    "SFI의 주요 한계는 2개의 특성을 가진 한개의 분류기가 단일 특성을 가진 2개의 분류기의 bagging보다 더 좋은 성과를 발휘할 수 있다는 점이다. 예를 들어, 특성 B가 특성 A와 있을 때에만 유용하거나, 특성 B 혼자로는 정확하지 않아도 특성 A로부터의 분할을 설명하는 데 유용할 수 있다. 다시 말해서 결합 효과나 계층적 중요도는 SFI에서는 모두 사라진다.\n",
    "\n",
    "대안 중 하나는 특성의 부분 집합으로부터 Out of sample 성과를 계산하는 것 이지만, 고려해야 할 특성 주가 증가하면 다루기 힘들어진다. 아래의 코드는 SFI 기법 구현 하나를 보여 준다."
   ],
   "id": "97b26586075f09b7"
  },
  {
   "metadata": {
    "ExecuteTime": {
     "end_time": "2024-05-24T14:01:17.424549Z",
     "start_time": "2024-05-24T13:59:06.515487Z"
    }
   },
   "cell_type": "code",
   "source": [
    "sfi = single_feature_importance(\n",
    "    fit, # base classification model\n",
    "    trnsX, # train features\n",
    "    cont['bin'], # train labels\n",
    "    cv_gen, # purged k fold cross validation class\n",
    "    scoring = accuracy_score\n",
    ")"
   ],
   "id": "a1e07a2502fc64f6",
   "outputs": [
    {
     "name": "stderr",
     "output_type": "stream",
     "text": [
      "100%|██████████| 20/20 [02:10<00:00,  6.55s/it]\n"
     ]
    }
   ],
   "execution_count": 15
  },
  {
   "metadata": {
    "ExecuteTime": {
     "end_time": "2024-05-24T14:01:17.561884Z",
     "start_time": "2024-05-24T14:01:17.425287Z"
    }
   },
   "cell_type": "code",
   "source": [
    "plot_feature_importance(\n",
    "    sfi,\n",
    "    oob_score = oob_score,\n",
    "    oos_score = oos_score,\n",
    "    save_fig = True,\n",
    "    output_path = './images/SFI_feature_importance.png'\n",
    ")\n",
    "plt.grid(False)\n",
    "plt.show()"
   ],
   "id": "1059cacbdf3ac009",
   "outputs": [
    {
     "data": {
      "text/plain": [
       "<Figure size 1000x400 with 1 Axes>"
      ],
      "image/png": "[encoded data removed]"
     },
     "metadata": {},
     "output_type": "display_data"
    }
   ],
   "execution_count": 16
  },
  {
   "metadata": {},
   "cell_type": "markdown",
   "source": [
    "#### Orthogonal Importance\n",
    "\n",
    "대체 효과는 MDI로 특정된 feature importance를 희석 시키고, MDA로 측정된 feature importance를 상당히 과소 평가한다. 부분적인 해법은 MDI나 MDA를 적용하기 전에 특성을 직교시키는 것이다. PCA와 같은 직교화 절차는 모든 대체 효과를 방지하지 못하지만, 적어도 선형 대체 효과의 영향은 완화시킨다."
   ],
   "id": "5bc70064ef3f0b9b"
  },
  {
   "metadata": {
    "ExecuteTime": {
     "end_time": "2024-05-24T14:12:43.994535Z",
     "start_time": "2024-05-24T14:12:43.953090Z"
    }
   },
   "cell_type": "code",
   "source": [
    "from FinancialMachineLearning.feature_importance.orthogonal import get_orthogonal_features, get_pca_rank_weighted_kendall_tau\n",
    "\n",
    "ortho_features = get_orthogonal_features(trnsX, variance_thresh = 0.95)\n",
    "ortho_features = pd.DataFrame(ortho_features, index = trnsX.index)"
   ],
   "id": "77e883c448ecb877",
   "outputs": [],
   "execution_count": 37
  },
  {
   "metadata": {
    "ExecuteTime": {
     "end_time": "2024-05-24T14:06:45.973673Z",
     "start_time": "2024-05-24T14:06:45.800007Z"
    }
   },
   "cell_type": "code",
   "source": [
    "import seaborn as sns\n",
    "sns.clustermap(pd.DataFrame(ortho_features).corr(), figsize = (6, 6))\n",
    "plt.show()"
   ],
   "id": "e85008968c0db057",
   "outputs": [
    {
     "data": {
      "text/plain": [
       "<Figure size 600x600 with 4 Axes>"
      ],
      "image/png": "[encoded data removed]"
     },
     "metadata": {},
     "output_type": "display_data"
    }
   ],
   "execution_count": 28
  },
  {
   "metadata": {
    "ExecuteTime": {
     "end_time": "2024-05-24T14:10:45.383395Z",
     "start_time": "2024-05-24T14:10:43.984574Z"
    }
   },
   "cell_type": "code",
   "source": [
    "forest = RandomForestClassifier(\n",
    "    criterion = 'entropy',\n",
    "    class_weight = 'balanced_subsample',\n",
    "    min_weight_fraction_leaf = 0.0,\n",
    "    random_state = 42,\n",
    "    n_estimators = 1000,\n",
    "    max_features = 1,\n",
    "    oob_score = True,\n",
    "    n_jobs = 1\n",
    ")\n",
    "\n",
    "fit = forest.fit(X = ortho_features, y = cont['bin'])"
   ],
   "id": "1ce8b2b836c2286c",
   "outputs": [],
   "execution_count": 32
  },
  {
   "metadata": {
    "ExecuteTime": {
     "end_time": "2024-05-24T14:12:48.435721Z",
     "start_time": "2024-05-24T14:12:48.433020Z"
    }
   },
   "cell_type": "code",
   "source": [
    "cv_gen = PurgedKFold(\n",
    "    n_splits = 5, \n",
    "    samples_info_sets = cont['t1']\n",
    ")"
   ],
   "id": "a0db94cd61284983",
   "outputs": [],
   "execution_count": 38
  },
  {
   "metadata": {
    "ExecuteTime": {
     "end_time": "2024-05-24T14:12:54.681104Z",
     "start_time": "2024-05-24T14:12:48.755566Z"
    }
   },
   "cell_type": "code",
   "source": [
    "oos_score = cross_val_score(\n",
    "    forest, # base classifier\n",
    "    ortho_features, # train features\n",
    "    cont['bin'], # train labels\n",
    "    cv_gen = cv_gen, # purged k fold cross validation class\n",
    "    scoring = accuracy_score # optimizing to accuracy score\n",
    ").mean()"
   ],
   "id": "d42540ed9cfa091e",
   "outputs": [],
   "execution_count": 39
  },
  {
   "metadata": {
    "ExecuteTime": {
     "end_time": "2024-05-24T14:14:02.472020Z",
     "start_time": "2024-05-24T14:14:02.460863Z"
    }
   },
   "cell_type": "code",
   "source": [
    "ortho_mdi = mean_decrease_impurity(\n",
    "    fit, # base classification model\n",
    "    ortho_features.columns,\n",
    ")"
   ],
   "id": "daa38137c2f5015b",
   "outputs": [],
   "execution_count": 42
  },
  {
   "metadata": {
    "ExecuteTime": {
     "end_time": "2024-05-24T14:15:15.287389Z",
     "start_time": "2024-05-24T14:15:15.281457Z"
    }
   },
   "cell_type": "code",
   "source": "ortho_mdi.head()",
   "id": "196b4d175f2e2909",
   "outputs": [
    {
     "data": {
      "text/plain": [
       "       mean       std\n",
       "0  0.123077  0.001958\n",
       "1  0.232417  0.003438\n",
       "2  0.091112  0.001231\n",
       "3  0.051225  0.000672\n",
       "4  0.049399  0.000647"
      ],
      "text/html": [
       "<div>\n",
       "<style scoped>\n",
       "    .dataframe tbody tr th:only-of-type {\n",
       "        vertical-align: middle;\n",
       "    }\n",
       "\n",
       "    .dataframe tbody tr th {\n",
       "        vertical-align: top;\n",
       "    }\n",
       "\n",
       "    .dataframe thead th {\n",
       "        text-align: right;\n",
       "    }\n",
       "</style>\n",
       "<table border=\"1\" class=\"dataframe\">\n",
       "  <thead>\n",
       "    <tr style=\"text-align: right;\">\n",
       "      <th></th>\n",
       "      <th>mean</th>\n",
       "      <th>std</th>\n",
       "    </tr>\n",
       "  </thead>\n",
       "  <tbody>\n",
       "    <tr>\n",
       "      <th>0</th>\n",
       "      <td>0.123077</td>\n",
       "      <td>0.001958</td>\n",
       "    </tr>\n",
       "    <tr>\n",
       "      <th>1</th>\n",
       "      <td>0.232417</td>\n",
       "      <td>0.003438</td>\n",
       "    </tr>\n",
       "    <tr>\n",
       "      <th>2</th>\n",
       "      <td>0.091112</td>\n",
       "      <td>0.001231</td>\n",
       "    </tr>\n",
       "    <tr>\n",
       "      <th>3</th>\n",
       "      <td>0.051225</td>\n",
       "      <td>0.000672</td>\n",
       "    </tr>\n",
       "    <tr>\n",
       "      <th>4</th>\n",
       "      <td>0.049399</td>\n",
       "      <td>0.000647</td>\n",
       "    </tr>\n",
       "  </tbody>\n",
       "</table>\n",
       "</div>"
      ]
     },
     "execution_count": 47,
     "metadata": {},
     "output_type": "execute_result"
    }
   ],
   "execution_count": 47
  },
  {
   "metadata": {
    "ExecuteTime": {
     "end_time": "2024-05-24T14:15:28.692547Z",
     "start_time": "2024-05-24T14:15:28.576267Z"
    }
   },
   "cell_type": "code",
   "source": [
    "plot_feature_importance(\n",
    "    ortho_mdi,\n",
    "    oob_score = oob_score,\n",
    "    oos_score = oos_score,\n",
    "    save_fig = True,\n",
    "    output_path = './images/Ortho_MDI_feature_importance.png'\n",
    ")\n",
    "plt.grid(False)\n",
    "plt.show()"
   ],
   "id": "43b94f00b0124d66",
   "outputs": [
    {
     "data": {
      "text/plain": [
       "<Figure size 1000x280 with 1 Axes>"
      ],
      "image/png": "[encoded data removed]"
     },
     "metadata": {},
     "output_type": "display_data"
    }
   ],
   "execution_count": 48
  },
  {
   "metadata": {
    "ExecuteTime": {
     "end_time": "2024-05-24T14:15:59.071713Z",
     "start_time": "2024-05-24T14:15:59.063933Z"
    }
   },
   "cell_type": "code",
   "source": [
    "from FinancialMachineLearning.feature_importance.orthogonal import feature_pca_analysis\n",
    "\n",
    "pca_mdi = feature_pca_analysis(\n",
    "    ortho_features, \n",
    "    feature_importance = ortho_mdi,\n",
    "    variance_thresh = 0.95\n",
    ")"
   ],
   "id": "996e956c98236c62",
   "outputs": [],
   "execution_count": 49
  },
  {
   "metadata": {
    "ExecuteTime": {
     "end_time": "2024-05-24T14:16:06.236075Z",
     "start_time": "2024-05-24T14:16:06.233645Z"
    }
   },
   "cell_type": "code",
   "source": "pca_mdi",
   "id": "4d3fd42205de88f8",
   "outputs": [
    {
     "data": {
      "text/plain": [
       "{'Pearson': PearsonRResult(statistic=0.05265772290001818, pvalue=0.46355755972757967),\n",
       " 'Spearman': SignificanceResult(statistic=0.1380204078609633, pvalue=0.053709865837689594),\n",
       " 'Kendall': SignificanceResult(statistic=0.09772182062086067, pvalue=0.04880014677509788),\n",
       " 'Weighted_Kendall_Rank': SignificanceResult(statistic=0.30025828278416544, pvalue=nan)}"
      ]
     },
     "execution_count": 50,
     "metadata": {},
     "output_type": "execute_result"
    }
   ],
   "execution_count": 50
  },
  {
   "metadata": {
    "ExecuteTime": {
     "end_time": "2024-05-24T14:16:47.762447Z",
     "start_time": "2024-05-24T14:16:45.759507Z"
    }
   },
   "cell_type": "code",
   "source": [
    "forest = RandomForestClassifier(\n",
    "    criterion = 'entropy',\n",
    "    class_weight = 'balanced_subsample',\n",
    "    min_weight_fraction_leaf = 0.0,\n",
    "    random_state = 42,\n",
    "    n_estimators = 1000,\n",
    "    max_features = 3,\n",
    "    oob_score = True,\n",
    "    n_jobs = 1\n",
    ")\n",
    "\n",
    "fit = forest.fit(X = ortho_features, y = cont['bin'])"
   ],
   "id": "786964be297f489d",
   "outputs": [],
   "execution_count": 51
  },
  {
   "metadata": {
    "ExecuteTime": {
     "end_time": "2024-05-24T14:17:18.282104Z",
     "start_time": "2024-05-24T14:17:10.015322Z"
    }
   },
   "cell_type": "code",
   "source": [
    "oos_score = cross_val_score(\n",
    "    forest, # base classifier\n",
    "    ortho_features, # train features\n",
    "    cont['bin'], # train labels\n",
    "    cv_gen = cv_gen, # purged k fold cross validation class\n",
    "    scoring = accuracy_score # optimizing to accuracy score\n",
    ").mean()"
   ],
   "id": "74b9cdb608e2b849",
   "outputs": [],
   "execution_count": 52
  },
  {
   "metadata": {
    "ExecuteTime": {
     "end_time": "2024-05-24T14:17:29.475256Z",
     "start_time": "2024-05-24T14:17:29.462487Z"
    }
   },
   "cell_type": "code",
   "source": [
    "ortho_mda = mean_decrease_impurity(\n",
    "    fit, # base classification model\n",
    "    ortho_features.columns,\n",
    ")"
   ],
   "id": "5c8cb916f81fb7d6",
   "outputs": [],
   "execution_count": 53
  },
  {
   "metadata": {
    "ExecuteTime": {
     "end_time": "2024-05-24T14:17:53.458912Z",
     "start_time": "2024-05-24T14:17:53.454897Z"
    }
   },
   "cell_type": "code",
   "source": "ortho_mda.head()",
   "id": "e97a4b714bb6c918",
   "outputs": [
    {
     "data": {
      "text/plain": [
       "       mean       std\n",
       "0  0.163280  0.001933\n",
       "1  0.342852  0.002619\n",
       "2  0.118603  0.001204\n",
       "3  0.034821  0.000585\n",
       "4  0.029213  0.000544"
      ],
      "text/html": [
       "<div>\n",
       "<style scoped>\n",
       "    .dataframe tbody tr th:only-of-type {\n",
       "        vertical-align: middle;\n",
       "    }\n",
       "\n",
       "    .dataframe tbody tr th {\n",
       "        vertical-align: top;\n",
       "    }\n",
       "\n",
       "    .dataframe thead th {\n",
       "        text-align: right;\n",
       "    }\n",
       "</style>\n",
       "<table border=\"1\" class=\"dataframe\">\n",
       "  <thead>\n",
       "    <tr style=\"text-align: right;\">\n",
       "      <th></th>\n",
       "      <th>mean</th>\n",
       "      <th>std</th>\n",
       "    </tr>\n",
       "  </thead>\n",
       "  <tbody>\n",
       "    <tr>\n",
       "      <th>0</th>\n",
       "      <td>0.163280</td>\n",
       "      <td>0.001933</td>\n",
       "    </tr>\n",
       "    <tr>\n",
       "      <th>1</th>\n",
       "      <td>0.342852</td>\n",
       "      <td>0.002619</td>\n",
       "    </tr>\n",
       "    <tr>\n",
       "      <th>2</th>\n",
       "      <td>0.118603</td>\n",
       "      <td>0.001204</td>\n",
       "    </tr>\n",
       "    <tr>\n",
       "      <th>3</th>\n",
       "      <td>0.034821</td>\n",
       "      <td>0.000585</td>\n",
       "    </tr>\n",
       "    <tr>\n",
       "      <th>4</th>\n",
       "      <td>0.029213</td>\n",
       "      <td>0.000544</td>\n",
       "    </tr>\n",
       "  </tbody>\n",
       "</table>\n",
       "</div>"
      ]
     },
     "execution_count": 54,
     "metadata": {},
     "output_type": "execute_result"
    }
   ],
   "execution_count": 54
  },
  {
   "metadata": {
    "ExecuteTime": {
     "end_time": "2024-05-24T14:18:01.376611Z",
     "start_time": "2024-05-24T14:18:01.257389Z"
    }
   },
   "cell_type": "code",
   "source": [
    "plot_feature_importance(\n",
    "    ortho_mda,\n",
    "    oob_score = oob_score,\n",
    "    oos_score = oos_score,\n",
    "    save_fig = True,\n",
    "    output_path = './images/Ortho_MDA_feature_importance.png'\n",
    ")\n",
    "plt.grid(False)\n",
    "plt.show()"
   ],
   "id": "bf82c341c659214c",
   "outputs": [
    {
     "data": {
      "text/plain": [
       "<Figure size 1000x280 with 1 Axes>"
      ],
      "image/png": "[encoded data removed]"
     },
     "metadata": {},
     "output_type": "display_data"
    }
   ],
   "execution_count": 55
  },
  {
   "metadata": {
    "ExecuteTime": {
     "end_time": "2024-05-24T14:18:23.003954Z",
     "start_time": "2024-05-24T14:18:21.619824Z"
    }
   },
   "cell_type": "code",
   "source": [
    "forest = RandomForestClassifier(\n",
    "    criterion = 'entropy',\n",
    "    class_weight = 'balanced_subsample',\n",
    "    min_weight_fraction_leaf = 0.0,\n",
    "    random_state = 42,\n",
    "    n_estimators = 1000,\n",
    "    max_features = 1,\n",
    "    oob_score = True,\n",
    "    n_jobs = 1\n",
    ")\n",
    "\n",
    "fit = forest.fit(X = ortho_features, y = cont['bin'])"
   ],
   "id": "4e4430acfb0af581",
   "outputs": [],
   "execution_count": 56
  },
  {
   "metadata": {
    "ExecuteTime": {
     "end_time": "2024-05-24T14:22:26.537418Z",
     "start_time": "2024-05-24T14:20:54.742398Z"
    }
   },
   "cell_type": "code",
   "source": [
    "ortho_sfi = single_feature_importance(\n",
    "    fit, # base classification model\n",
    "    ortho_features, # train features\n",
    "    cont['bin'], # train labels\n",
    "    cv_gen, # purged k fold cross validation class\n",
    "    scoring = accuracy_score\n",
    ")"
   ],
   "id": "9f2c612482f762a6",
   "outputs": [
    {
     "name": "stderr",
     "output_type": "stream",
     "text": [
      "100%|██████████| 14/14 [01:31<00:00,  6.56s/it]\n"
     ]
    }
   ],
   "execution_count": 58
  },
  {
   "metadata": {
    "ExecuteTime": {
     "end_time": "2024-05-24T14:25:51.040045Z",
     "start_time": "2024-05-24T14:25:51.036448Z"
    }
   },
   "cell_type": "code",
   "source": "ortho_sfi.head()",
   "id": "1504aea24267f3c3",
   "outputs": [
    {
     "data": {
      "text/plain": [
       "    mean       std\n",
       "0  0.466  0.033178\n",
       "1  0.627  0.046143\n",
       "2  0.483  0.071114\n",
       "3  0.443  0.023858\n",
       "4  0.437  0.031324"
      ],
      "text/html": [
       "<div>\n",
       "<style scoped>\n",
       "    .dataframe tbody tr th:only-of-type {\n",
       "        vertical-align: middle;\n",
       "    }\n",
       "\n",
       "    .dataframe tbody tr th {\n",
       "        vertical-align: top;\n",
       "    }\n",
       "\n",
       "    .dataframe thead th {\n",
       "        text-align: right;\n",
       "    }\n",
       "</style>\n",
       "<table border=\"1\" class=\"dataframe\">\n",
       "  <thead>\n",
       "    <tr style=\"text-align: right;\">\n",
       "      <th></th>\n",
       "      <th>mean</th>\n",
       "      <th>std</th>\n",
       "    </tr>\n",
       "  </thead>\n",
       "  <tbody>\n",
       "    <tr>\n",
       "      <th>0</th>\n",
       "      <td>0.466</td>\n",
       "      <td>0.033178</td>\n",
       "    </tr>\n",
       "    <tr>\n",
       "      <th>1</th>\n",
       "      <td>0.627</td>\n",
       "      <td>0.046143</td>\n",
       "    </tr>\n",
       "    <tr>\n",
       "      <th>2</th>\n",
       "      <td>0.483</td>\n",
       "      <td>0.071114</td>\n",
       "    </tr>\n",
       "    <tr>\n",
       "      <th>3</th>\n",
       "      <td>0.443</td>\n",
       "      <td>0.023858</td>\n",
       "    </tr>\n",
       "    <tr>\n",
       "      <th>4</th>\n",
       "      <td>0.437</td>\n",
       "      <td>0.031324</td>\n",
       "    </tr>\n",
       "  </tbody>\n",
       "</table>\n",
       "</div>"
      ]
     },
     "execution_count": 59,
     "metadata": {},
     "output_type": "execute_result"
    }
   ],
   "execution_count": 59
  },
  {
   "metadata": {
    "ExecuteTime": {
     "end_time": "2024-05-24T14:26:02.006619Z",
     "start_time": "2024-05-24T14:26:01.884425Z"
    }
   },
   "cell_type": "code",
   "source": [
    "plot_feature_importance(\n",
    "    ortho_sfi,\n",
    "    oob_score = oob_score,\n",
    "    oos_score = oos_score,\n",
    "    save_fig = True,\n",
    "    output_path = './images/Ortho_SFI_feature_importance.png'\n",
    ")\n",
    "plt.grid(False)\n",
    "plt.show()"
   ],
   "id": "dcc4e3deba1dcb57",
   "outputs": [
    {
     "data": {
      "text/plain": [
       "<Figure size 1000x280 with 1 Axes>"
      ],
      "image/png": "[encoded data removed]"
     },
     "metadata": {},
     "output_type": "display_data"
    }
   ],
   "execution_count": 60
  }
 ],
 "metadata": {
  "kernelspec": {
   "display_name": "Python 3",
   "language": "python",
   "name": "python3"
  },
  "language_info": {
   "codemirror_mode": {
    "name": "ipython",
    "version": 2
   },
   "file_extension": ".py",
   "mimetype": "text/x-python",
   "name": "python",
   "nbconvert_exporter": "python",
   "pygments_lexer": "ipython2",
   "version": "2.7.6"
  }
 },
 "nbformat": 4,
 "nbformat_minor": 5
}

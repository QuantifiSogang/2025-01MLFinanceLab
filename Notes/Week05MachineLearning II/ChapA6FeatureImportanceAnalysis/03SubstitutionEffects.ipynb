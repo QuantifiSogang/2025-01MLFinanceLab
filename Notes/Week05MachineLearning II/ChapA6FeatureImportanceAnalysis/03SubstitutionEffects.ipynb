{
 "cells": [
  {
   "metadata": {},
   "cell_type": "markdown",
   "source": [
    "## Substitution Effect\n",
    "\n",
    "대체 효과는 두 가지 특성이 예측 정보를 공유할 때 발생한다. 대체 효과는 feature importance 방법의 결과를 편향시킬 수 있다. MDI의 경우 동일한 두 특성이 동일한 확률로 무작위로 선택되기 때문에 그들의 중요도는 반감될 것이다. MDA의 경우 한 가지 특성을 셔플링하는 효과가 다른 효과에 의해 보상될 수 있기 때문에 동일한 두 가지 특성이 중요하더라도 중요하지 않은 것으로 간주될 수 있다."
   ],
   "id": "aa86b6cf7f61cc83"
  },
  {
   "metadata": {
    "ExecuteTime": {
     "end_time": "2025-03-18T16:07:48.017177Z",
     "start_time": "2025-03-18T16:07:48.008564Z"
    }
   },
   "cell_type": "code",
   "source": [
    "import pandas as pd\n",
    "import numpy as np\n",
    "from FinancialMachineLearning.generator.classification_data import get_test_data"
   ],
   "id": "695f9203e7ad8b58",
   "outputs": [],
   "execution_count": 1
  },
  {
   "metadata": {
    "ExecuteTime": {
     "end_time": "2025-03-18T16:07:54.372965Z",
     "start_time": "2025-03-18T16:07:54.189962Z"
    }
   },
   "cell_type": "code",
   "source": [
    "trnsX, cont = get_test_data(\n",
    "    n_features = 40, \n",
    "    n_informative = 5, \n",
    "    n_redundant = 30, \n",
    "    n_samples = 10000,\n",
    "    sigma_std = 0.1,\n",
    "    random_state = 0\n",
    ")"
   ],
   "id": "210fab1450c2c6f8",
   "outputs": [],
   "execution_count": 2
  },
  {
   "metadata": {},
   "cell_type": "markdown",
   "source": [
    "### 1. Orthogonalization\n",
    "\n",
    "특성이 매우 상호의존적인 경우 그 중요도는 강건한 방식으로 판단될 수 없다. 관찰의 작은 변화는 추정된 중요도에 극적인 영향을 미칠 수 있다. 그러나 이러한 영향은 무작위적이지 않다. 즉 상호의존성이 높은 두 가지 특성을 고려할 때 한 가지에서 중요도 하락은 다른 하나의 중요도 상승으로 보상된다. 다시 말해 상호의존성은 특성 중요도를 평가할 때 대체 효과를 일으킨다.\n",
    "\n",
    "다중 공선성에 대한 한 가지 해결책은 특성에 PCA를 적용하고, 직교 주성분을 도출한 다음 그 주성분에 대해 MDI 또는 MDA를 실행하는 것이다. 이러한 방식으로 직교화된 특성은 대체 효과에 더 탄력적일 수 있으며,\n",
    "\n",
    "1. 유용한 특성의 비선형 조합에서 발생하는 중복 특성은 여전히 대체 효과를 유발할 수 있다. \n",
    "2. 주성분은 직관적인 설명을 하지 못할 수 있다.\n",
    "3. 주성분은 고유 벡터에 의해 정의되는데, 주성분이 반드시 모델의 샘플 외 성과를 최대화하는 것은 아니다."
   ],
   "id": "5f64594016056fc0"
  },
  {
   "metadata": {},
   "cell_type": "markdown",
   "source": [
    "### 2. Clustered Feature Importance\n",
    "\n",
    "기저 변경이 필요하지 않은 더 나은 접근 방식은 유사한 특성을 군집화하고 군집 수준에서 특성 중요도 분석을 적용하는 것이다. 구성상 군집은 서로 달라서 substitution effect를 완화시키기 때문이다. 분석은 기저의 변경 없이 특성의 분할에 대해 행해지기 때문에 결과는 보통 직관적이다. Clustered Feature Importance 알고리즘에는 다음의 두 단계가 포함된다.\n",
    "\n",
    "1. 특성 군집의 수와 구성 요소를 찾는다\n",
    "2. 개별 특성보다는 유사한 특성의 그룹에 대해 특성 중요도 분석을 적용한다"
   ],
   "id": "4453c205c5176a72"
  },
  {
   "cell_type": "code",
   "id": "initial_id",
   "metadata": {
    "collapsed": true,
    "ExecuteTime": {
     "end_time": "2025-03-18T16:08:09.664155Z",
     "start_time": "2025-03-18T16:07:55.335887Z"
    }
   },
   "source": [
    "from sklearn.tree import DecisionTreeClassifier\n",
    "from sklearn.ensemble import BaggingClassifier\n",
    "from sklearn.metrics import accuracy_score\n",
    "from FinancialMachineLearning.feature_importance import *\n",
    "\n",
    "clf = DecisionTreeClassifier(\n",
    "    criterion = 'entropy',\n",
    "    max_features = 1,\n",
    "    class_weight = 'balanced',\n",
    "    min_weight_fraction_leaf = 0\n",
    ")\n",
    "bagging = BaggingClassifier(\n",
    "    estimator = clf,\n",
    "    n_estimators = 1000,\n",
    "    oob_score = True\n",
    ")\n",
    "\n",
    "fit = bagging.fit(X = trnsX, y = cont['bin'])\n",
    "oob_score = fit.oob_score_"
   ],
   "outputs": [],
   "execution_count": 3
  },
  {
   "metadata": {},
   "cell_type": "markdown",
   "source": [
    "#### Step 1. Feature Clustering\n",
    "\n",
    "먼저 관측된 특성을 척도 공간에 투영해 행렬 $\\{X_f\\}_{f = 1, \\dots, F}$을 만든다. 이 행렬을 형성하기 위한 한 가지 가능성은 상관관계 기반 접근법을 따르는 것이다. 또 다른 가능성은 척도 공간에 그러한 특성을 나타내고자 정보 이론적 개념을 적용하는 것이다. 정보 이론적 척도는 정보성 특성의 비선형 조합의 결과인 중복 특성을 인지할 수 있는 장점이 있다.\n",
    "\n",
    "둘째, ONC 알고리즘과 같은 군집의 최적 개수와 구성을 결정하는 절차를 적용한다. ONC는 최적의 군집 수와 군집 구성을 찾는데 각 특성이 하나의 군집에만 속한다는 점을 기억하자. 동일한 군집에 속하는 특성은 대량의 정보를 공유하고, 다른 군집에 속하는 특성은 상대적으로 적은 양의 정보만 공유한다. 한 특성이 여러 군집에 걸쳐 있는 여러 특성의 조합인 경우 실루엣 점수가 낮게 나타날 수 있다. ONC는 하나의 특성을 여러 군집에 할당할 수 없기 때문에 이것은 문제다. 이 경우 다음과 같은 변환은 시스템의 다중 공선성을 감소시키는 데 도움이 될 수 있다. 각 군집 $k = 1, \\dots, K$에 대해서 해당 군집에 포함된 특성을 잔차 특성으로 교체한다. 여기서 이들 잔차 특성은 군집 $k$ 외부의 특성 정보를 포함하지 않는다. 정확히 하고자 $D_k$를 군집 $k$에 속하는 인덱스 특성 $D = \\{1, \\dots, F\\}$의 부분 집합으로 하자. 여기서 $D_k \\subset D, \\Vert D_k \\Vert > 0, \\forall k; D_k \\cap D_1 = \\varnothing, \\forall k \\neq l; \\cup_{k=1}^K D_k = D$다. 그러면 주어진 특성 $X_i, i \\in D_k$에 대해 다음을 적합화함으로써 잔차 특성 $\\hat{\\epsilon}_i$를 구할 수 있다.\n",
    "\n",
    "$$X_{n,i} = \\alpha_i + \\sum_{j \\in \\{\\cup_{i<k} D_l\\}} \\beta_{i,j} X_{n,j} + \\epsilon_{n,i}$$ \n",
    "\n",
    "여기서 $n = 1,\\dots, N$은 특성별 관찰 인덱스이다. 위의 회귀 분석에서 자유도가 너무 낮을 경우 한 가지 옵션은 각 군집 내 특성의 선형 결합을 설명 변수로 회귀 분석을 수행해 단지 $K-1$개의 베타만을 추정하는 것이다. OLS 잔차의 특성 중 하나는 잔차가 설명 변수와 직교한다는 것이다. 따라서 각 특성 $X_i$를 잔차 특성 $\\hat{\\epsilon}_i$로 대체함으로써 군집 $k$에만 속하는 정보를 보존하면서 이미 다른 군집에 포함된 정보를 군집 $k$로부터 제거한다. 다시 말하지만 실루엣 점수가 특성들이 각각의 군집에 속한다는 것을 명확하게 나타내는 경우에는 이 변환이 필요하지 않다."
   ],
   "id": "7eb5ee71ce21b1fc"
  },
  {
   "metadata": {},
   "cell_type": "markdown",
   "source": [
    "#### Step 2. Clustered Importance\n",
    "\n",
    "step1에서는 특성 군집의 수와 구성을 식별했다. 여기서는 이 정보를 이용해 개별적인 특성보다는 유사한 특성의 그룹에 MDI와 MDA를 적용한다. 다음에서는 분할 알고리즘이 특성을 군집화했다고 가정한다. 군집화된 특성의 중요도에 대한 개념은 계층적 군집에도 적용할 수 있다."
   ],
   "id": "7523ab770b6be8ee"
  },
  {
   "metadata": {},
   "cell_type": "markdown",
   "source": [
    "#### Clustered Mean Decrease Importance\n",
    "\n",
    "특성의 MDI는 특성이 선택된 모든 노드에서 가중된 불순도 감소량이다. 군집을 구성하는 특성의 MDI 값의 합으로 군집 MDI를 계산한다. 군집 당 하나의 특성이 있는 경우 MDI와 군집 MDI는 동일하다. Ensemble Tree의 경우 각 트리에 대해 군집 MDI가 1개씩 있어, Mean Clustered MDI와 Mead Clustered MDI 주위의 표준 편차를 계산할 수 있으며, 이는 Feature MDI의 경우와 유사하다. 아래의 코드는 Clustered MDI를 추정하는 절차를 구현한다."
   ],
   "id": "872ef74de352be75"
  },
  {
   "metadata": {
    "ExecuteTime": {
     "end_time": "2025-03-18T16:08:12.054495Z",
     "start_time": "2025-03-18T16:08:12.049078Z"
    }
   },
   "cell_type": "code",
   "source": [
    "def group_mean_std(df0, clstrs) -> pd.DataFrame :\n",
    "    out = pd.DataFrame(columns = ['mean','std'])\n",
    "    for i, j in clstrs.items() :\n",
    "        df1 = df0[j].sum(axis = 1)\n",
    "        out.loc['C_' + str(i), 'mean'] = df1.mean()\n",
    "        out.loc['C_' + str(i), 'std'] = df1.std() * df1.shape[0] ** (-0.5)\n",
    "    return out\n",
    "\n",
    "def clustered_mean_decrease_importance(fit, feature_names, clstrs) -> pd.DataFrame :\n",
    "    df0 = {\n",
    "        i : tree.feature_importances_ for i, tree in enumerate(fit.estimators_)\n",
    "    }\n",
    "    df0 = pd.DataFrame.from_dict(df0, orient = 'index')\n",
    "    df0.columns = feature_names\n",
    "    df0 = df0.replace(0, np.nan)\n",
    "    imp = group_mean_std(df0, clstrs)\n",
    "    imp /= imp['mean'].sum()\n",
    "    return imp"
   ],
   "id": "9705ee80ef47c119",
   "outputs": [],
   "execution_count": 4
  },
  {
   "metadata": {
    "ExecuteTime": {
     "end_time": "2025-03-18T16:08:14.333849Z",
     "start_time": "2025-03-18T16:08:12.829072Z"
    }
   },
   "cell_type": "code",
   "source": [
    "from FinancialMachineLearning.machine_learning.clustering import clusterKMeansBase\n",
    "corr0, clusters, silh = clusterKMeansBase(trnsX.corr(), maxNumClusters = 10, n_init = 10)"
   ],
   "id": "46681742f2dda40d",
   "outputs": [],
   "execution_count": 5
  },
  {
   "metadata": {
    "ExecuteTime": {
     "end_time": "2025-03-18T16:08:14.373872Z",
     "start_time": "2025-03-18T16:08:14.335167Z"
    }
   },
   "cell_type": "code",
   "source": "c_mdi = clustered_mean_decrease_importance(fit, trnsX.columns, clstrs = clusters)",
   "id": "4ec9079ad31899f7",
   "outputs": [],
   "execution_count": 6
  },
  {
   "metadata": {
    "ExecuteTime": {
     "end_time": "2025-03-18T16:08:16.345267Z",
     "start_time": "2025-03-18T16:08:16.337307Z"
    }
   },
   "cell_type": "code",
   "source": "c_mdi",
   "id": "cd0dd7ca8640bf29",
   "outputs": [
    {
     "data": {
      "text/plain": [
       "         mean       std\n",
       "C_0  0.146829  0.000393\n",
       "C_1   0.18459  0.000611\n",
       "C_2  0.057674  0.000218\n",
       "C_3  0.310583  0.001008\n",
       "C_4  0.141855  0.000819\n",
       "C_5   0.15847  0.000848"
      ],
      "text/html": [
       "<div>\n",
       "<style scoped>\n",
       "    .dataframe tbody tr th:only-of-type {\n",
       "        vertical-align: middle;\n",
       "    }\n",
       "\n",
       "    .dataframe tbody tr th {\n",
       "        vertical-align: top;\n",
       "    }\n",
       "\n",
       "    .dataframe thead th {\n",
       "        text-align: right;\n",
       "    }\n",
       "</style>\n",
       "<table border=\"1\" class=\"dataframe\">\n",
       "  <thead>\n",
       "    <tr style=\"text-align: right;\">\n",
       "      <th></th>\n",
       "      <th>mean</th>\n",
       "      <th>std</th>\n",
       "    </tr>\n",
       "  </thead>\n",
       "  <tbody>\n",
       "    <tr>\n",
       "      <th>C_0</th>\n",
       "      <td>0.146829</td>\n",
       "      <td>0.000393</td>\n",
       "    </tr>\n",
       "    <tr>\n",
       "      <th>C_1</th>\n",
       "      <td>0.18459</td>\n",
       "      <td>0.000611</td>\n",
       "    </tr>\n",
       "    <tr>\n",
       "      <th>C_2</th>\n",
       "      <td>0.057674</td>\n",
       "      <td>0.000218</td>\n",
       "    </tr>\n",
       "    <tr>\n",
       "      <th>C_3</th>\n",
       "      <td>0.310583</td>\n",
       "      <td>0.001008</td>\n",
       "    </tr>\n",
       "    <tr>\n",
       "      <th>C_4</th>\n",
       "      <td>0.141855</td>\n",
       "      <td>0.000819</td>\n",
       "    </tr>\n",
       "    <tr>\n",
       "      <th>C_5</th>\n",
       "      <td>0.15847</td>\n",
       "      <td>0.000848</td>\n",
       "    </tr>\n",
       "  </tbody>\n",
       "</table>\n",
       "</div>"
      ]
     },
     "execution_count": 7,
     "metadata": {},
     "output_type": "execute_result"
    }
   ],
   "execution_count": 7
  },
  {
   "metadata": {},
   "cell_type": "markdown",
   "source": [
    "#### Clustered Mean Decrease Accuracy\n",
    "\n",
    "특성의 MDA는 특성을 분리한 전후의 알고리즘 성과를 비교함으로써 계산된다. 군집 MDA를 계산할 때 한 번에 하나의 특성을 shuffling하는 대신 주어진 군집을 구성하는 모든 특성을 shuffling한다. 특성별로 군집이 하나 있으면 MDA와 군집 MDA가 동일하다. 아래의 코드는 군집 MDA를 추정하는 절차를 구현한다."
   ],
   "id": "ab46cb4a3d3dc511"
  },
  {
   "metadata": {
    "ExecuteTime": {
     "end_time": "2025-03-18T16:09:00.281575Z",
     "start_time": "2025-03-18T16:09:00.275760Z"
    }
   },
   "cell_type": "code",
   "source": [
    "from sklearn.metrics import log_loss\n",
    "from sklearn.model_selection._split import KFold\n",
    "\n",
    "def clustered_mean_decrease_accuracy(\n",
    "        clf, X, y, \n",
    "        clstrs, \n",
    "        n_splits : int = 10\n",
    "    ) -> pd.DataFrame :\n",
    "    cvGen = KFold(n_splits = n_splits)\n",
    "    scr0, scr1 = pd.Series(), pd.DataFrame(columns = clstrs.keys())\n",
    "    \n",
    "    for i, (train, test) in enumerate(cvGen.split(X = X)) :\n",
    "        X0, y0 = X.iloc[train, :], y.iloc[train]\n",
    "        X1, y1 = X.iloc[test, :], y.iloc[test]\n",
    "        fit = clf.fit(X = X0, y = y0)\n",
    "        prob = fit.predict_proba(X1)\n",
    "        scr0.loc[i] = -log_loss(y1, prob, labels = clf.classes_)\n",
    "        for j in scr1.columns :\n",
    "            X1_ = X1.copy(deep = True)\n",
    "            for k in clstrs[j] :\n",
    "                np.random.shuffle(X1_[k].values) # shuffle clusters\n",
    "            prob = fit.predict_proba(X1_)\n",
    "            scr1.loc[i, j] = - log_loss(y1, prob, labels = clf.classes_)\n",
    "    imp = (-1 * scr1).add(scr0, axis = 0)\n",
    "    imp = imp / (-1 * scr1)\n",
    "    imp = pd.concat(\n",
    "        {\n",
    "            'mean' : imp.mean(),\n",
    "            'std' : imp.std() * (imp.shape[0]**(-0.5))\n",
    "        }, axis = 1\n",
    "    )\n",
    "    imp.index = ['C_' + str(i) for i in imp.index]\n",
    "    return imp"
   ],
   "id": "330651a22e9efdb5",
   "outputs": [],
   "execution_count": 8
  },
  {
   "metadata": {
    "ExecuteTime": {
     "end_time": "2025-03-18T16:11:25.171146Z",
     "start_time": "2025-03-18T16:09:00.721166Z"
    }
   },
   "cell_type": "code",
   "source": [
    "c_mda = clustered_mean_decrease_accuracy(\n",
    "    fit, X = trnsX, \n",
    "    y = cont['bin'], \n",
    "    clstrs = clusters\n",
    ")"
   ],
   "id": "b554f40840e9b4cb",
   "outputs": [],
   "execution_count": 9
  },
  {
   "metadata": {
    "ExecuteTime": {
     "end_time": "2025-03-18T16:11:25.175164Z",
     "start_time": "2025-03-18T16:11:25.172109Z"
    }
   },
   "cell_type": "code",
   "source": "c_mda",
   "id": "18d0101087bf727f",
   "outputs": [
    {
     "data": {
      "text/plain": [
       "         mean       std\n",
       "C_0  0.185376  0.021137\n",
       "C_1  0.168241  0.045403\n",
       "C_2  0.001756   0.00137\n",
       "C_3  0.226338  0.073926\n",
       "C_4  0.175312  0.055401\n",
       "C_5  0.144279  0.043566"
      ],
      "text/html": [
       "<div>\n",
       "<style scoped>\n",
       "    .dataframe tbody tr th:only-of-type {\n",
       "        vertical-align: middle;\n",
       "    }\n",
       "\n",
       "    .dataframe tbody tr th {\n",
       "        vertical-align: top;\n",
       "    }\n",
       "\n",
       "    .dataframe thead th {\n",
       "        text-align: right;\n",
       "    }\n",
       "</style>\n",
       "<table border=\"1\" class=\"dataframe\">\n",
       "  <thead>\n",
       "    <tr style=\"text-align: right;\">\n",
       "      <th></th>\n",
       "      <th>mean</th>\n",
       "      <th>std</th>\n",
       "    </tr>\n",
       "  </thead>\n",
       "  <tbody>\n",
       "    <tr>\n",
       "      <th>C_0</th>\n",
       "      <td>0.185376</td>\n",
       "      <td>0.021137</td>\n",
       "    </tr>\n",
       "    <tr>\n",
       "      <th>C_1</th>\n",
       "      <td>0.168241</td>\n",
       "      <td>0.045403</td>\n",
       "    </tr>\n",
       "    <tr>\n",
       "      <th>C_2</th>\n",
       "      <td>0.001756</td>\n",
       "      <td>0.00137</td>\n",
       "    </tr>\n",
       "    <tr>\n",
       "      <th>C_3</th>\n",
       "      <td>0.226338</td>\n",
       "      <td>0.073926</td>\n",
       "    </tr>\n",
       "    <tr>\n",
       "      <th>C_4</th>\n",
       "      <td>0.175312</td>\n",
       "      <td>0.055401</td>\n",
       "    </tr>\n",
       "    <tr>\n",
       "      <th>C_5</th>\n",
       "      <td>0.144279</td>\n",
       "      <td>0.043566</td>\n",
       "    </tr>\n",
       "  </tbody>\n",
       "</table>\n",
       "</div>"
      ]
     },
     "execution_count": 10,
     "metadata": {},
     "output_type": "execute_result"
    }
   ],
   "execution_count": 10
  },
  {
   "metadata": {},
   "cell_type": "markdown",
   "source": [
    "### Experimental Results\n",
    "\n",
    "이 실험에서는 MDI와 MDA의 비군집 버전에서 사용한 것과 동일한 데이터셋에 대해 군집 MDI 및 MDA 절차를 실험한다. 그 데이터셋은 20개의 특성으로 구성되었는데 그 중 5개는 정보성, 30개는 중복, 5개는 잡음이었다. 먼저 그러한 특징들의 상관관계 행렬에 ONC 알고리즘을 적용한다. 비실험적 설정에서 연구자는 군집화 전에 상관 행렬의 잡음과 주음을 제거해야 한다. 여기서는 방법의 강건성을 테스트하는 문제로서 이 실험에서는 그렇게 하지 않는다.\n",
    "\n",
    "아래의 그림은 ONC가 6새의 관련 군집이 있음을 정확하게 인식하고, 중복 특성이 도출된 정보성 특성을 포함하는 군집에 중복 특성을 할당한다는 것을 보여준다. 군집 간 상관관계가 낮을 경우 특성을 잔차로 교체할 필요가 없다. 아래의 코드는 이 예를 구현한다."
   ],
   "id": "cb944e6b9edab196"
  },
  {
   "metadata": {
    "ExecuteTime": {
     "end_time": "2025-03-18T16:11:25.742223Z",
     "start_time": "2025-03-18T16:11:25.175594Z"
    }
   },
   "cell_type": "code",
   "source": [
    "from FinancialMachineLearning.machine_learning.clustering import clusterKMeansBase\n",
    "corr0, clusters, silh = clusterKMeansBase(\n",
    "    trnsX.corr(), \n",
    "    maxNumClusters = 10, \n",
    "    n_init = 10\n",
    ")"
   ],
   "id": "63683a6234dbacf",
   "outputs": [],
   "execution_count": 11
  },
  {
   "metadata": {
    "ExecuteTime": {
     "end_time": "2025-03-18T16:11:25.969567Z",
     "start_time": "2025-03-18T16:11:25.743934Z"
    }
   },
   "cell_type": "code",
   "source": [
    "import seaborn as sns\n",
    "import matplotlib.pyplot as plt\n",
    "sns.clustermap(corr0, cmap = 'viridis', figsize = (6, 6))\n",
    "plt.show()"
   ],
   "id": "36d90810f2d2d49f",
   "outputs": [
    {
     "data": {
      "text/plain": [
       "<Figure size 600x600 with 4 Axes>"
      ],
      "image/png": "[encoded data removed]"
     },
     "metadata": {},
     "output_type": "display_data"
    }
   ],
   "execution_count": 12
  },
  {
   "metadata": {},
   "cell_type": "markdown",
   "source": "다음으로 그 데이터셋에 군집 MDI 방법을 적용한다. 아래의 결과는 군집 MDI출력을 나타내며, 보고된 비군집화된 출력과 비교할 수 있다. 'C_' 접두사는 군집을 나타내며, 'C_5'는 잡음 특성과 연관된 군집이다. 군집화된 특성 'C_1'은 두 번째로 중요하지 않지만, 그 중요도는 'C_5'의 두 배 이상이다. 이는 잡음 특성과 잡음이 없는 특성의 일부 사이에 약간의 중요도 차이가 있었던 것에서 보았던 것과 대조적이다. 따라서 군집 MDI의 방식이 표준 MDI의 방식보다 더 잘 작동하는 것으로 보인다. 아래의 코드는 이러한 결과가 어떻게 계산됐는지 보여 준다.",
   "id": "148ed038d5b904bd"
  },
  {
   "metadata": {
    "ExecuteTime": {
     "end_time": "2025-03-18T16:11:26.076607Z",
     "start_time": "2025-03-18T16:11:25.970306Z"
    }
   },
   "cell_type": "code",
   "source": [
    "from FinancialMachineLearning.feature_importance.importance import *\n",
    "\n",
    "plot_feature_importance(\n",
    "    c_mdi,\n",
    "    oob_score = oob_score,\n",
    "    oos_score = 0,\n",
    "    save_fig = True,\n",
    "    output_path = './images/C_MDI_feature_importance.png'\n",
    ")"
   ],
   "id": "2d598e3172dbd688",
   "outputs": [
    {
     "data": {
      "text/plain": [
       "<Figure size 1000x120 with 1 Axes>"
      ],
      "image/png": "[encoded data removed]"
     },
     "metadata": {},
     "output_type": "display_data"
    }
   ],
   "execution_count": 13
  },
  {
   "metadata": {},
   "cell_type": "markdown",
   "source": [
    "마지막으로 그 데이터셋에 군집 MDA를 적용한다. 아래의 그림은 비군집화된 출력과 비교할 수 있는 군집 MDA 출력을 보여 준다. 다시 말하지만 'C_5'는 잡음 특성과 연관된 군집으로, 다른 모든 군집은 정보성과 중복 특성과 연관된다. 이 분석은 두 가지 올바른 결론에 도달했다. \n",
    "\n",
    "1. 'C_5'는 본질적으로 중요성이 0이며, 관련 없는 것으로 버려져야 한다. \n",
    "2. 다른 모든 군집은 중요성이 매우 유사하다. 이는 평균값 주위의 표준 편차를 고려했음에도 불구하고, 일부 비 잡음 특성이 다른 특징들보다 훨씬 더 중요한 것으로 나타났던 그림에서 보았던 것과 대조적이다. 아래의 코드는 이러한 결과가 어떻게 계산되었는지 보여 준다."
   ],
   "id": "16a5c2d6dd1e717a"
  },
  {
   "metadata": {
    "ExecuteTime": {
     "end_time": "2025-03-18T16:11:26.170109Z",
     "start_time": "2025-03-18T16:11:26.077864Z"
    }
   },
   "cell_type": "code",
   "source": [
    "plot_feature_importance(\n",
    "    c_mda,\n",
    "    oob_score = oob_score,\n",
    "    oos_score = 0,\n",
    "    save_fig = True,\n",
    "    output_path = './images/C_MDA_feature_importance.png'\n",
    ")"
   ],
   "id": "23fc15b230188d88",
   "outputs": [
    {
     "data": {
      "text/plain": [
       "<Figure size 1000x120 with 1 Axes>"
      ],
      "image/png": "[encoded data removed]"
     },
     "metadata": {},
     "output_type": "display_data"
    }
   ],
   "execution_count": 14
  },
  {
   "metadata": {},
   "cell_type": "markdown",
   "source": [
    "### Conclusion\n",
    "\n",
    "대부분의 연구자들은 설명 변수의 중요도를 평가하고자 p-value를 사용한다. 그러나 앞서 보았듯이 p-value는 네 가지 주요 결함에 시달린다. 머신러닝은 대부분의, 또는 모든 결함을 극복하는 특성 중요도 방법을 제공한다.\n",
    "\n",
    "MDI와 MDA 방법은 데이터의 분포와 구조에 대해 강한 가정을 하지 않고, 특성 중요도를 강력하게 평가한다. p-value값과 달리 MDA는 교차 검증된 실험에서 특성의 중요도를 평가한다. 더욱이 p-value와 달리 군집 MDI와 군집 MDA 추정치는 대체 효과를 효과적으로 제어한다. 그러나 MDI와 MDA의 가장 두드러진 장적은 고전적 유의성 분석과는 달리 이러한 머신러닝 기법이 특정 사양과 무관하게 특성 중요도를 평가한다는 것이다. 그렇게 함으로써 그들은 이론의 발전에 극히 유용한 정보를 제공한다. 일단 연구자가 어떤 현상에 관련된 변수를 알게 되면 연구자는 그것들을 하나로 묶는 메커니즘이나 사양을 찾는 데 주의를 집중할 수 있다.\n",
    "\n",
    "그 의미는 회귀 분석과 같은 고전적 통계 접근법이 반드시 버신러닝 접근법보다 투명하거나 통찰력 있는 것은 아니라는 것이다. 머신러닝 도구는 블랙박스, 통계적 도구는 화이트박스라는 인식은 거짓이다. 머신러닝의 특성 중요도 방법은 p-value만큼 유용할 뿐만 아니라 경우에 따라서는 보다 통찰력 있고 정확할 수 있다.\n",
    "\n",
    "마지막으로, 설명하거나 예측하고 하는 것을 주의 깊게 고려해야 한다. 동일한 특성이 서로 다른 유형의 레이블을 설명하거나 예측하는 데 있어서 다양한 중요도를 산출할 수 있다. 가능하다면 이러한 특성 중요도 방법을 앞에서 설명한 모든 레이블링 방법에 적용하는 것이 타당하며, 어떠한 특성과 레이블의 조합이 가장 강력한 이론으로 이어지는지 살펴봐야 한다. 예를 들어, 어떤 종류의 예측을 기반으로도 수익성 있는 전략을 구축할 수 있기 때문에 다음 추세의 부호를 예측하는 것과 다음 5% 수익률의 부호를 예측한느 것에 대해서 무차별할 수 있다."
   ],
   "id": "ba4bf7db843dc1e0"
  }
 ],
 "metadata": {
  "kernelspec": {
   "display_name": "Python 3",
   "language": "python",
   "name": "python3"
  },
  "language_info": {
   "codemirror_mode": {
    "name": "ipython",
    "version": 2
   },
   "file_extension": ".py",
   "mimetype": "text/x-python",
   "name": "python",
   "nbconvert_exporter": "python",
   "pygments_lexer": "ipython2",
   "version": "2.7.6"
  }
 },
 "nbformat": 4,
 "nbformat_minor": 5
}
